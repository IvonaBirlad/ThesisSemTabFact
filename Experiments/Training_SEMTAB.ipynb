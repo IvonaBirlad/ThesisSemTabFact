{
 "nbformat": 4,
 "nbformat_minor": 0,
 "metadata": {
  "colab": {
   "provenance": [],
   "collapsed_sections": [],
   "authorship_tag": "ABX9TyOV66tJY/3T/WKgw5yk2EYC",
   "include_colab_link": true
  },
  "kernelspec": {
   "name": "python3",
   "display_name": "Python 3"
  },
  "language_info": {
   "name": "python"
  },
  "widgets": {
   "application/vnd.jupyter.widget-state+json": {
    "b0e754c2361f46858ccadab5bb7af582": {
     "model_module": "@jupyter-widgets/controls",
     "model_name": "HBoxModel",
     "model_module_version": "1.5.0",
     "state": {
      "_dom_classes": [],
      "_model_module": "@jupyter-widgets/controls",
      "_model_module_version": "1.5.0",
      "_model_name": "HBoxModel",
      "_view_count": null,
      "_view_module": "@jupyter-widgets/controls",
      "_view_module_version": "1.5.0",
      "_view_name": "HBoxView",
      "box_style": "",
      "children": [
       "IPY_MODEL_5e6cfd6bff0e433d83bb1f89186816e3",
       "IPY_MODEL_a4092ac3d43a4cbe9e1d6f54648b1ae3",
       "IPY_MODEL_ec841596b1cb4400bf9d016f9753ffc9"
      ],
      "layout": "IPY_MODEL_0756633e5b04420caa6c3ae1787177cd"
     }
    },
    "5e6cfd6bff0e433d83bb1f89186816e3": {
     "model_module": "@jupyter-widgets/controls",
     "model_name": "HTMLModel",
     "model_module_version": "1.5.0",
     "state": {
      "_dom_classes": [],
      "_model_module": "@jupyter-widgets/controls",
      "_model_module_version": "1.5.0",
      "_model_name": "HTMLModel",
      "_view_count": null,
      "_view_module": "@jupyter-widgets/controls",
      "_view_module_version": "1.5.0",
      "_view_name": "HTMLView",
      "description": "",
      "description_tooltip": null,
      "layout": "IPY_MODEL_0df51c893eb7475ab0551503f0aeda6f",
      "placeholder": "​",
      "style": "IPY_MODEL_90eb130904ea4645aa4b3ad95131e6c2",
      "value": "Downloading builder script: 100%"
     }
    },
    "a4092ac3d43a4cbe9e1d6f54648b1ae3": {
     "model_module": "@jupyter-widgets/controls",
     "model_name": "FloatProgressModel",
     "model_module_version": "1.5.0",
     "state": {
      "_dom_classes": [],
      "_model_module": "@jupyter-widgets/controls",
      "_model_module_version": "1.5.0",
      "_model_name": "FloatProgressModel",
      "_view_count": null,
      "_view_module": "@jupyter-widgets/controls",
      "_view_module_version": "1.5.0",
      "_view_name": "ProgressView",
      "bar_style": "success",
      "description": "",
      "description_tooltip": null,
      "layout": "IPY_MODEL_e264081d7ad144eda904d893f40182d7",
      "max": 4738,
      "min": 0,
      "orientation": "horizontal",
      "style": "IPY_MODEL_ddf273984b914e80ad838758236dd1e3",
      "value": 4738
     }
    },
    "ec841596b1cb4400bf9d016f9753ffc9": {
     "model_module": "@jupyter-widgets/controls",
     "model_name": "HTMLModel",
     "model_module_version": "1.5.0",
     "state": {
      "_dom_classes": [],
      "_model_module": "@jupyter-widgets/controls",
      "_model_module_version": "1.5.0",
      "_model_name": "HTMLModel",
      "_view_count": null,
      "_view_module": "@jupyter-widgets/controls",
      "_view_module_version": "1.5.0",
      "_view_name": "HTMLView",
      "description": "",
      "description_tooltip": null,
      "layout": "IPY_MODEL_3a18652ac56c4b7a87515b0cb4bc66d0",
      "placeholder": "​",
      "style": "IPY_MODEL_848c81c50549447b8ba850a76b1f3f5d",
      "value": " 4.74k/4.74k [00:00&lt;00:00, 117kB/s]"
     }
    },
    "0756633e5b04420caa6c3ae1787177cd": {
     "model_module": "@jupyter-widgets/base",
     "model_name": "LayoutModel",
     "model_module_version": "1.2.0",
     "state": {
      "_model_module": "@jupyter-widgets/base",
      "_model_module_version": "1.2.0",
      "_model_name": "LayoutModel",
      "_view_count": null,
      "_view_module": "@jupyter-widgets/base",
      "_view_module_version": "1.2.0",
      "_view_name": "LayoutView",
      "align_content": null,
      "align_items": null,
      "align_self": null,
      "border": null,
      "bottom": null,
      "display": null,
      "flex": null,
      "flex_flow": null,
      "grid_area": null,
      "grid_auto_columns": null,
      "grid_auto_flow": null,
      "grid_auto_rows": null,
      "grid_column": null,
      "grid_gap": null,
      "grid_row": null,
      "grid_template_areas": null,
      "grid_template_columns": null,
      "grid_template_rows": null,
      "height": null,
      "justify_content": null,
      "justify_items": null,
      "left": null,
      "margin": null,
      "max_height": null,
      "max_width": null,
      "min_height": null,
      "min_width": null,
      "object_fit": null,
      "object_position": null,
      "order": null,
      "overflow": null,
      "overflow_x": null,
      "overflow_y": null,
      "padding": null,
      "right": null,
      "top": null,
      "visibility": null,
      "width": null
     }
    },
    "0df51c893eb7475ab0551503f0aeda6f": {
     "model_module": "@jupyter-widgets/base",
     "model_name": "LayoutModel",
     "model_module_version": "1.2.0",
     "state": {
      "_model_module": "@jupyter-widgets/base",
      "_model_module_version": "1.2.0",
      "_model_name": "LayoutModel",
      "_view_count": null,
      "_view_module": "@jupyter-widgets/base",
      "_view_module_version": "1.2.0",
      "_view_name": "LayoutView",
      "align_content": null,
      "align_items": null,
      "align_self": null,
      "border": null,
      "bottom": null,
      "display": null,
      "flex": null,
      "flex_flow": null,
      "grid_area": null,
      "grid_auto_columns": null,
      "grid_auto_flow": null,
      "grid_auto_rows": null,
      "grid_column": null,
      "grid_gap": null,
      "grid_row": null,
      "grid_template_areas": null,
      "grid_template_columns": null,
      "grid_template_rows": null,
      "height": null,
      "justify_content": null,
      "justify_items": null,
      "left": null,
      "margin": null,
      "max_height": null,
      "max_width": null,
      "min_height": null,
      "min_width": null,
      "object_fit": null,
      "object_position": null,
      "order": null,
      "overflow": null,
      "overflow_x": null,
      "overflow_y": null,
      "padding": null,
      "right": null,
      "top": null,
      "visibility": null,
      "width": null
     }
    },
    "90eb130904ea4645aa4b3ad95131e6c2": {
     "model_module": "@jupyter-widgets/controls",
     "model_name": "DescriptionStyleModel",
     "model_module_version": "1.5.0",
     "state": {
      "_model_module": "@jupyter-widgets/controls",
      "_model_module_version": "1.5.0",
      "_model_name": "DescriptionStyleModel",
      "_view_count": null,
      "_view_module": "@jupyter-widgets/base",
      "_view_module_version": "1.2.0",
      "_view_name": "StyleView",
      "description_width": ""
     }
    },
    "e264081d7ad144eda904d893f40182d7": {
     "model_module": "@jupyter-widgets/base",
     "model_name": "LayoutModel",
     "model_module_version": "1.2.0",
     "state": {
      "_model_module": "@jupyter-widgets/base",
      "_model_module_version": "1.2.0",
      "_model_name": "LayoutModel",
      "_view_count": null,
      "_view_module": "@jupyter-widgets/base",
      "_view_module_version": "1.2.0",
      "_view_name": "LayoutView",
      "align_content": null,
      "align_items": null,
      "align_self": null,
      "border": null,
      "bottom": null,
      "display": null,
      "flex": null,
      "flex_flow": null,
      "grid_area": null,
      "grid_auto_columns": null,
      "grid_auto_flow": null,
      "grid_auto_rows": null,
      "grid_column": null,
      "grid_gap": null,
      "grid_row": null,
      "grid_template_areas": null,
      "grid_template_columns": null,
      "grid_template_rows": null,
      "height": null,
      "justify_content": null,
      "justify_items": null,
      "left": null,
      "margin": null,
      "max_height": null,
      "max_width": null,
      "min_height": null,
      "min_width": null,
      "object_fit": null,
      "object_position": null,
      "order": null,
      "overflow": null,
      "overflow_x": null,
      "overflow_y": null,
      "padding": null,
      "right": null,
      "top": null,
      "visibility": null,
      "width": null
     }
    },
    "ddf273984b914e80ad838758236dd1e3": {
     "model_module": "@jupyter-widgets/controls",
     "model_name": "ProgressStyleModel",
     "model_module_version": "1.5.0",
     "state": {
      "_model_module": "@jupyter-widgets/controls",
      "_model_module_version": "1.5.0",
      "_model_name": "ProgressStyleModel",
      "_view_count": null,
      "_view_module": "@jupyter-widgets/base",
      "_view_module_version": "1.2.0",
      "_view_name": "StyleView",
      "bar_color": null,
      "description_width": ""
     }
    },
    "3a18652ac56c4b7a87515b0cb4bc66d0": {
     "model_module": "@jupyter-widgets/base",
     "model_name": "LayoutModel",
     "model_module_version": "1.2.0",
     "state": {
      "_model_module": "@jupyter-widgets/base",
      "_model_module_version": "1.2.0",
      "_model_name": "LayoutModel",
      "_view_count": null,
      "_view_module": "@jupyter-widgets/base",
      "_view_module_version": "1.2.0",
      "_view_name": "LayoutView",
      "align_content": null,
      "align_items": null,
      "align_self": null,
      "border": null,
      "bottom": null,
      "display": null,
      "flex": null,
      "flex_flow": null,
      "grid_area": null,
      "grid_auto_columns": null,
      "grid_auto_flow": null,
      "grid_auto_rows": null,
      "grid_column": null,
      "grid_gap": null,
      "grid_row": null,
      "grid_template_areas": null,
      "grid_template_columns": null,
      "grid_template_rows": null,
      "height": null,
      "justify_content": null,
      "justify_items": null,
      "left": null,
      "margin": null,
      "max_height": null,
      "max_width": null,
      "min_height": null,
      "min_width": null,
      "object_fit": null,
      "object_position": null,
      "order": null,
      "overflow": null,
      "overflow_x": null,
      "overflow_y": null,
      "padding": null,
      "right": null,
      "top": null,
      "visibility": null,
      "width": null
     }
    },
    "848c81c50549447b8ba850a76b1f3f5d": {
     "model_module": "@jupyter-widgets/controls",
     "model_name": "DescriptionStyleModel",
     "model_module_version": "1.5.0",
     "state": {
      "_model_module": "@jupyter-widgets/controls",
      "_model_module_version": "1.5.0",
      "_model_name": "DescriptionStyleModel",
      "_view_count": null,
      "_view_module": "@jupyter-widgets/base",
      "_view_module_version": "1.2.0",
      "_view_name": "StyleView",
      "description_width": ""
     }
    },
    "1bb2f4c5ceb8406b8e8df55506eb894a": {
     "model_module": "@jupyter-widgets/controls",
     "model_name": "HBoxModel",
     "model_module_version": "1.5.0",
     "state": {
      "_dom_classes": [],
      "_model_module": "@jupyter-widgets/controls",
      "_model_module_version": "1.5.0",
      "_model_name": "HBoxModel",
      "_view_count": null,
      "_view_module": "@jupyter-widgets/controls",
      "_view_module_version": "1.5.0",
      "_view_name": "HBoxView",
      "box_style": "",
      "children": [
       "IPY_MODEL_d9e6f5672c8249a5aacf6573adb84892",
       "IPY_MODEL_34a39488acbc4e0fba623cfb71de15b4",
       "IPY_MODEL_dcbfd6b86b2e4584b6ba5d8f66532ef8"
      ],
      "layout": "IPY_MODEL_4bd053e694a4493ba937aa09436f9dc5"
     }
    },
    "d9e6f5672c8249a5aacf6573adb84892": {
     "model_module": "@jupyter-widgets/controls",
     "model_name": "HTMLModel",
     "model_module_version": "1.5.0",
     "state": {
      "_dom_classes": [],
      "_model_module": "@jupyter-widgets/controls",
      "_model_module_version": "1.5.0",
      "_model_name": "HTMLModel",
      "_view_count": null,
      "_view_module": "@jupyter-widgets/controls",
      "_view_module_version": "1.5.0",
      "_view_name": "HTMLView",
      "description": "",
      "description_tooltip": null,
      "layout": "IPY_MODEL_2ea29cb03e064f26949a85bd089671d4",
      "placeholder": "​",
      "style": "IPY_MODEL_a50fff8e213440ca9f08ba9baddcf87c",
      "value": "Downloading data: 100%"
     }
    },
    "34a39488acbc4e0fba623cfb71de15b4": {
     "model_module": "@jupyter-widgets/controls",
     "model_name": "FloatProgressModel",
     "model_module_version": "1.5.0",
     "state": {
      "_dom_classes": [],
      "_model_module": "@jupyter-widgets/controls",
      "_model_module_version": "1.5.0",
      "_model_name": "FloatProgressModel",
      "_view_count": null,
      "_view_module": "@jupyter-widgets/controls",
      "_view_module_version": "1.5.0",
      "_view_name": "ProgressView",
      "bar_style": "success",
      "description": "",
      "description_tooltip": null,
      "layout": "IPY_MODEL_eda536b0f00a4ab6b6a55034aea054f2",
      "max": 16838830,
      "min": 0,
      "orientation": "horizontal",
      "style": "IPY_MODEL_464f287d8b88454a87cef45396335b17",
      "value": 16838830
     }
    },
    "dcbfd6b86b2e4584b6ba5d8f66532ef8": {
     "model_module": "@jupyter-widgets/controls",
     "model_name": "HTMLModel",
     "model_module_version": "1.5.0",
     "state": {
      "_dom_classes": [],
      "_model_module": "@jupyter-widgets/controls",
      "_model_module_version": "1.5.0",
      "_model_name": "HTMLModel",
      "_view_count": null,
      "_view_module": "@jupyter-widgets/controls",
      "_view_module_version": "1.5.0",
      "_view_name": "HTMLView",
      "description": "",
      "description_tooltip": null,
      "layout": "IPY_MODEL_84c5e57c466e45d2aad167168fdeb672",
      "placeholder": "​",
      "style": "IPY_MODEL_8619561be5c64eefaa5006c2fa71b6e8",
      "value": " 16.8M/16.8M [00:00&lt;00:00, 47.0MB/s]"
     }
    },
    "4bd053e694a4493ba937aa09436f9dc5": {
     "model_module": "@jupyter-widgets/base",
     "model_name": "LayoutModel",
     "model_module_version": "1.2.0",
     "state": {
      "_model_module": "@jupyter-widgets/base",
      "_model_module_version": "1.2.0",
      "_model_name": "LayoutModel",
      "_view_count": null,
      "_view_module": "@jupyter-widgets/base",
      "_view_module_version": "1.2.0",
      "_view_name": "LayoutView",
      "align_content": null,
      "align_items": null,
      "align_self": null,
      "border": null,
      "bottom": null,
      "display": null,
      "flex": null,
      "flex_flow": null,
      "grid_area": null,
      "grid_auto_columns": null,
      "grid_auto_flow": null,
      "grid_auto_rows": null,
      "grid_column": null,
      "grid_gap": null,
      "grid_row": null,
      "grid_template_areas": null,
      "grid_template_columns": null,
      "grid_template_rows": null,
      "height": null,
      "justify_content": null,
      "justify_items": null,
      "left": null,
      "margin": null,
      "max_height": null,
      "max_width": null,
      "min_height": null,
      "min_width": null,
      "object_fit": null,
      "object_position": null,
      "order": null,
      "overflow": null,
      "overflow_x": null,
      "overflow_y": null,
      "padding": null,
      "right": null,
      "top": null,
      "visibility": null,
      "width": null
     }
    },
    "2ea29cb03e064f26949a85bd089671d4": {
     "model_module": "@jupyter-widgets/base",
     "model_name": "LayoutModel",
     "model_module_version": "1.2.0",
     "state": {
      "_model_module": "@jupyter-widgets/base",
      "_model_module_version": "1.2.0",
      "_model_name": "LayoutModel",
      "_view_count": null,
      "_view_module": "@jupyter-widgets/base",
      "_view_module_version": "1.2.0",
      "_view_name": "LayoutView",
      "align_content": null,
      "align_items": null,
      "align_self": null,
      "border": null,
      "bottom": null,
      "display": null,
      "flex": null,
      "flex_flow": null,
      "grid_area": null,
      "grid_auto_columns": null,
      "grid_auto_flow": null,
      "grid_auto_rows": null,
      "grid_column": null,
      "grid_gap": null,
      "grid_row": null,
      "grid_template_areas": null,
      "grid_template_columns": null,
      "grid_template_rows": null,
      "height": null,
      "justify_content": null,
      "justify_items": null,
      "left": null,
      "margin": null,
      "max_height": null,
      "max_width": null,
      "min_height": null,
      "min_width": null,
      "object_fit": null,
      "object_position": null,
      "order": null,
      "overflow": null,
      "overflow_x": null,
      "overflow_y": null,
      "padding": null,
      "right": null,
      "top": null,
      "visibility": null,
      "width": null
     }
    },
    "a50fff8e213440ca9f08ba9baddcf87c": {
     "model_module": "@jupyter-widgets/controls",
     "model_name": "DescriptionStyleModel",
     "model_module_version": "1.5.0",
     "state": {
      "_model_module": "@jupyter-widgets/controls",
      "_model_module_version": "1.5.0",
      "_model_name": "DescriptionStyleModel",
      "_view_count": null,
      "_view_module": "@jupyter-widgets/base",
      "_view_module_version": "1.2.0",
      "_view_name": "StyleView",
      "description_width": ""
     }
    },
    "eda536b0f00a4ab6b6a55034aea054f2": {
     "model_module": "@jupyter-widgets/base",
     "model_name": "LayoutModel",
     "model_module_version": "1.2.0",
     "state": {
      "_model_module": "@jupyter-widgets/base",
      "_model_module_version": "1.2.0",
      "_model_name": "LayoutModel",
      "_view_count": null,
      "_view_module": "@jupyter-widgets/base",
      "_view_module_version": "1.2.0",
      "_view_name": "LayoutView",
      "align_content": null,
      "align_items": null,
      "align_self": null,
      "border": null,
      "bottom": null,
      "display": null,
      "flex": null,
      "flex_flow": null,
      "grid_area": null,
      "grid_auto_columns": null,
      "grid_auto_flow": null,
      "grid_auto_rows": null,
      "grid_column": null,
      "grid_gap": null,
      "grid_row": null,
      "grid_template_areas": null,
      "grid_template_columns": null,
      "grid_template_rows": null,
      "height": null,
      "justify_content": null,
      "justify_items": null,
      "left": null,
      "margin": null,
      "max_height": null,
      "max_width": null,
      "min_height": null,
      "min_width": null,
      "object_fit": null,
      "object_position": null,
      "order": null,
      "overflow": null,
      "overflow_x": null,
      "overflow_y": null,
      "padding": null,
      "right": null,
      "top": null,
      "visibility": null,
      "width": null
     }
    },
    "464f287d8b88454a87cef45396335b17": {
     "model_module": "@jupyter-widgets/controls",
     "model_name": "ProgressStyleModel",
     "model_module_version": "1.5.0",
     "state": {
      "_model_module": "@jupyter-widgets/controls",
      "_model_module_version": "1.5.0",
      "_model_name": "ProgressStyleModel",
      "_view_count": null,
      "_view_module": "@jupyter-widgets/base",
      "_view_module_version": "1.2.0",
      "_view_name": "StyleView",
      "bar_color": null,
      "description_width": ""
     }
    },
    "84c5e57c466e45d2aad167168fdeb672": {
     "model_module": "@jupyter-widgets/base",
     "model_name": "LayoutModel",
     "model_module_version": "1.2.0",
     "state": {
      "_model_module": "@jupyter-widgets/base",
      "_model_module_version": "1.2.0",
      "_model_name": "LayoutModel",
      "_view_count": null,
      "_view_module": "@jupyter-widgets/base",
      "_view_module_version": "1.2.0",
      "_view_name": "LayoutView",
      "align_content": null,
      "align_items": null,
      "align_self": null,
      "border": null,
      "bottom": null,
      "display": null,
      "flex": null,
      "flex_flow": null,
      "grid_area": null,
      "grid_auto_columns": null,
      "grid_auto_flow": null,
      "grid_auto_rows": null,
      "grid_column": null,
      "grid_gap": null,
      "grid_row": null,
      "grid_template_areas": null,
      "grid_template_columns": null,
      "grid_template_rows": null,
      "height": null,
      "justify_content": null,
      "justify_items": null,
      "left": null,
      "margin": null,
      "max_height": null,
      "max_width": null,
      "min_height": null,
      "min_width": null,
      "object_fit": null,
      "object_position": null,
      "order": null,
      "overflow": null,
      "overflow_x": null,
      "overflow_y": null,
      "padding": null,
      "right": null,
      "top": null,
      "visibility": null,
      "width": null
     }
    },
    "8619561be5c64eefaa5006c2fa71b6e8": {
     "model_module": "@jupyter-widgets/controls",
     "model_name": "DescriptionStyleModel",
     "model_module_version": "1.5.0",
     "state": {
      "_model_module": "@jupyter-widgets/controls",
      "_model_module_version": "1.5.0",
      "_model_name": "DescriptionStyleModel",
      "_view_count": null,
      "_view_module": "@jupyter-widgets/base",
      "_view_module_version": "1.2.0",
      "_view_name": "StyleView",
      "description_width": ""
     }
    },
    "4d93fcf7e3e742c5a7a77c189742f945": {
     "model_module": "@jupyter-widgets/controls",
     "model_name": "HBoxModel",
     "model_module_version": "1.5.0",
     "state": {
      "_dom_classes": [],
      "_model_module": "@jupyter-widgets/controls",
      "_model_module_version": "1.5.0",
      "_model_name": "HBoxModel",
      "_view_count": null,
      "_view_module": "@jupyter-widgets/controls",
      "_view_module_version": "1.5.0",
      "_view_name": "HBoxView",
      "box_style": "",
      "children": [
       "IPY_MODEL_babdfc4789a44a4cb7dc7ba8f564a0fc",
       "IPY_MODEL_dcad0ce72fbf4692a0b7820c64610cf9",
       "IPY_MODEL_be507cf44f674f1b83b98ea28e6bcb28"
      ],
      "layout": "IPY_MODEL_1cb248b89a48463984eb01751743f6bb"
     }
    },
    "babdfc4789a44a4cb7dc7ba8f564a0fc": {
     "model_module": "@jupyter-widgets/controls",
     "model_name": "HTMLModel",
     "model_module_version": "1.5.0",
     "state": {
      "_dom_classes": [],
      "_model_module": "@jupyter-widgets/controls",
      "_model_module_version": "1.5.0",
      "_model_name": "HTMLModel",
      "_view_count": null,
      "_view_module": "@jupyter-widgets/controls",
      "_view_module_version": "1.5.0",
      "_view_name": "HTMLView",
      "description": "",
      "description_tooltip": null,
      "layout": "IPY_MODEL_b6ca27499e494527bb4aca23e6a16926",
      "placeholder": "​",
      "style": "IPY_MODEL_28487450c6fa46968e8a2f0b8cc1b1b3",
      "value": "Generating train split: "
     }
    },
    "dcad0ce72fbf4692a0b7820c64610cf9": {
     "model_module": "@jupyter-widgets/controls",
     "model_name": "FloatProgressModel",
     "model_module_version": "1.5.0",
     "state": {
      "_dom_classes": [],
      "_model_module": "@jupyter-widgets/controls",
      "_model_module_version": "1.5.0",
      "_model_name": "FloatProgressModel",
      "_view_count": null,
      "_view_module": "@jupyter-widgets/controls",
      "_view_module_version": "1.5.0",
      "_view_name": "ProgressView",
      "bar_style": "info",
      "description": "",
      "description_tooltip": null,
      "layout": "IPY_MODEL_a44cee2daaa4439c918c9459f0d7ff00",
      "max": 1,
      "min": 0,
      "orientation": "horizontal",
      "style": "IPY_MODEL_fe7b8b4c1b064d40b529d7ff6cd2f8b0",
      "value": 1
     }
    },
    "be507cf44f674f1b83b98ea28e6bcb28": {
     "model_module": "@jupyter-widgets/controls",
     "model_name": "HTMLModel",
     "model_module_version": "1.5.0",
     "state": {
      "_dom_classes": [],
      "_model_module": "@jupyter-widgets/controls",
      "_model_module_version": "1.5.0",
      "_model_name": "HTMLModel",
      "_view_count": null,
      "_view_module": "@jupyter-widgets/controls",
      "_view_module_version": "1.5.0",
      "_view_name": "HTMLView",
      "description": "",
      "description_tooltip": null,
      "layout": "IPY_MODEL_e0c4126d325b44e3afa360e5f7e65411",
      "placeholder": "​",
      "style": "IPY_MODEL_85a7535155a64c319a3b1be1f22aa579",
      "value": " 144/0 [00:02&lt;00:00, 54.97 examples/s]"
     }
    },
    "1cb248b89a48463984eb01751743f6bb": {
     "model_module": "@jupyter-widgets/base",
     "model_name": "LayoutModel",
     "model_module_version": "1.2.0",
     "state": {
      "_model_module": "@jupyter-widgets/base",
      "_model_module_version": "1.2.0",
      "_model_name": "LayoutModel",
      "_view_count": null,
      "_view_module": "@jupyter-widgets/base",
      "_view_module_version": "1.2.0",
      "_view_name": "LayoutView",
      "align_content": null,
      "align_items": null,
      "align_self": null,
      "border": null,
      "bottom": null,
      "display": null,
      "flex": null,
      "flex_flow": null,
      "grid_area": null,
      "grid_auto_columns": null,
      "grid_auto_flow": null,
      "grid_auto_rows": null,
      "grid_column": null,
      "grid_gap": null,
      "grid_row": null,
      "grid_template_areas": null,
      "grid_template_columns": null,
      "grid_template_rows": null,
      "height": null,
      "justify_content": null,
      "justify_items": null,
      "left": null,
      "margin": null,
      "max_height": null,
      "max_width": null,
      "min_height": null,
      "min_width": null,
      "object_fit": null,
      "object_position": null,
      "order": null,
      "overflow": null,
      "overflow_x": null,
      "overflow_y": null,
      "padding": null,
      "right": null,
      "top": null,
      "visibility": null,
      "width": null
     }
    },
    "b6ca27499e494527bb4aca23e6a16926": {
     "model_module": "@jupyter-widgets/base",
     "model_name": "LayoutModel",
     "model_module_version": "1.2.0",
     "state": {
      "_model_module": "@jupyter-widgets/base",
      "_model_module_version": "1.2.0",
      "_model_name": "LayoutModel",
      "_view_count": null,
      "_view_module": "@jupyter-widgets/base",
      "_view_module_version": "1.2.0",
      "_view_name": "LayoutView",
      "align_content": null,
      "align_items": null,
      "align_self": null,
      "border": null,
      "bottom": null,
      "display": null,
      "flex": null,
      "flex_flow": null,
      "grid_area": null,
      "grid_auto_columns": null,
      "grid_auto_flow": null,
      "grid_auto_rows": null,
      "grid_column": null,
      "grid_gap": null,
      "grid_row": null,
      "grid_template_areas": null,
      "grid_template_columns": null,
      "grid_template_rows": null,
      "height": null,
      "justify_content": null,
      "justify_items": null,
      "left": null,
      "margin": null,
      "max_height": null,
      "max_width": null,
      "min_height": null,
      "min_width": null,
      "object_fit": null,
      "object_position": null,
      "order": null,
      "overflow": null,
      "overflow_x": null,
      "overflow_y": null,
      "padding": null,
      "right": null,
      "top": null,
      "visibility": null,
      "width": null
     }
    },
    "28487450c6fa46968e8a2f0b8cc1b1b3": {
     "model_module": "@jupyter-widgets/controls",
     "model_name": "DescriptionStyleModel",
     "model_module_version": "1.5.0",
     "state": {
      "_model_module": "@jupyter-widgets/controls",
      "_model_module_version": "1.5.0",
      "_model_name": "DescriptionStyleModel",
      "_view_count": null,
      "_view_module": "@jupyter-widgets/base",
      "_view_module_version": "1.2.0",
      "_view_name": "StyleView",
      "description_width": ""
     }
    },
    "a44cee2daaa4439c918c9459f0d7ff00": {
     "model_module": "@jupyter-widgets/base",
     "model_name": "LayoutModel",
     "model_module_version": "1.2.0",
     "state": {
      "_model_module": "@jupyter-widgets/base",
      "_model_module_version": "1.2.0",
      "_model_name": "LayoutModel",
      "_view_count": null,
      "_view_module": "@jupyter-widgets/base",
      "_view_module_version": "1.2.0",
      "_view_name": "LayoutView",
      "align_content": null,
      "align_items": null,
      "align_self": null,
      "border": null,
      "bottom": null,
      "display": null,
      "flex": null,
      "flex_flow": null,
      "grid_area": null,
      "grid_auto_columns": null,
      "grid_auto_flow": null,
      "grid_auto_rows": null,
      "grid_column": null,
      "grid_gap": null,
      "grid_row": null,
      "grid_template_areas": null,
      "grid_template_columns": null,
      "grid_template_rows": null,
      "height": null,
      "justify_content": null,
      "justify_items": null,
      "left": null,
      "margin": null,
      "max_height": null,
      "max_width": null,
      "min_height": null,
      "min_width": null,
      "object_fit": null,
      "object_position": null,
      "order": null,
      "overflow": null,
      "overflow_x": null,
      "overflow_y": null,
      "padding": null,
      "right": null,
      "top": null,
      "visibility": null,
      "width": "20px"
     }
    },
    "fe7b8b4c1b064d40b529d7ff6cd2f8b0": {
     "model_module": "@jupyter-widgets/controls",
     "model_name": "ProgressStyleModel",
     "model_module_version": "1.5.0",
     "state": {
      "_model_module": "@jupyter-widgets/controls",
      "_model_module_version": "1.5.0",
      "_model_name": "ProgressStyleModel",
      "_view_count": null,
      "_view_module": "@jupyter-widgets/base",
      "_view_module_version": "1.2.0",
      "_view_name": "StyleView",
      "bar_color": null,
      "description_width": ""
     }
    },
    "e0c4126d325b44e3afa360e5f7e65411": {
     "model_module": "@jupyter-widgets/base",
     "model_name": "LayoutModel",
     "model_module_version": "1.2.0",
     "state": {
      "_model_module": "@jupyter-widgets/base",
      "_model_module_version": "1.2.0",
      "_model_name": "LayoutModel",
      "_view_count": null,
      "_view_module": "@jupyter-widgets/base",
      "_view_module_version": "1.2.0",
      "_view_name": "LayoutView",
      "align_content": null,
      "align_items": null,
      "align_self": null,
      "border": null,
      "bottom": null,
      "display": null,
      "flex": null,
      "flex_flow": null,
      "grid_area": null,
      "grid_auto_columns": null,
      "grid_auto_flow": null,
      "grid_auto_rows": null,
      "grid_column": null,
      "grid_gap": null,
      "grid_row": null,
      "grid_template_areas": null,
      "grid_template_columns": null,
      "grid_template_rows": null,
      "height": null,
      "justify_content": null,
      "justify_items": null,
      "left": null,
      "margin": null,
      "max_height": null,
      "max_width": null,
      "min_height": null,
      "min_width": null,
      "object_fit": null,
      "object_position": null,
      "order": null,
      "overflow": null,
      "overflow_x": null,
      "overflow_y": null,
      "padding": null,
      "right": null,
      "top": null,
      "visibility": null,
      "width": null
     }
    },
    "85a7535155a64c319a3b1be1f22aa579": {
     "model_module": "@jupyter-widgets/controls",
     "model_name": "DescriptionStyleModel",
     "model_module_version": "1.5.0",
     "state": {
      "_model_module": "@jupyter-widgets/controls",
      "_model_module_version": "1.5.0",
      "_model_name": "DescriptionStyleModel",
      "_view_count": null,
      "_view_module": "@jupyter-widgets/base",
      "_view_module_version": "1.2.0",
      "_view_name": "StyleView",
      "description_width": ""
     }
    },
    "9a58d67dfd5049049a8ea19394cef1ac": {
     "model_module": "@jupyter-widgets/controls",
     "model_name": "HBoxModel",
     "model_module_version": "1.5.0",
     "state": {
      "_dom_classes": [],
      "_model_module": "@jupyter-widgets/controls",
      "_model_module_version": "1.5.0",
      "_model_name": "HBoxModel",
      "_view_count": null,
      "_view_module": "@jupyter-widgets/controls",
      "_view_module_version": "1.5.0",
      "_view_name": "HBoxView",
      "box_style": "",
      "children": [
       "IPY_MODEL_0a34d2ff96584a7f958d1e93d81c16ed",
       "IPY_MODEL_c9e268230c984a19920d44061e371815",
       "IPY_MODEL_3da1b2fb58cb4f7d96349fb47f435b70"
      ],
      "layout": "IPY_MODEL_f0bdc0541dd04f7c994ce6e07ba9d245"
     }
    },
    "0a34d2ff96584a7f958d1e93d81c16ed": {
     "model_module": "@jupyter-widgets/controls",
     "model_name": "HTMLModel",
     "model_module_version": "1.5.0",
     "state": {
      "_dom_classes": [],
      "_model_module": "@jupyter-widgets/controls",
      "_model_module_version": "1.5.0",
      "_model_name": "HTMLModel",
      "_view_count": null,
      "_view_module": "@jupyter-widgets/controls",
      "_view_module_version": "1.5.0",
      "_view_name": "HTMLView",
      "description": "",
      "description_tooltip": null,
      "layout": "IPY_MODEL_033bb051697f49299ad33ff8edf5150f",
      "placeholder": "​",
      "style": "IPY_MODEL_a5b37df57987444b9974d021ab64c1ae",
      "value": "Generating test split: "
     }
    },
    "c9e268230c984a19920d44061e371815": {
     "model_module": "@jupyter-widgets/controls",
     "model_name": "FloatProgressModel",
     "model_module_version": "1.5.0",
     "state": {
      "_dom_classes": [],
      "_model_module": "@jupyter-widgets/controls",
      "_model_module_version": "1.5.0",
      "_model_name": "FloatProgressModel",
      "_view_count": null,
      "_view_module": "@jupyter-widgets/controls",
      "_view_module_version": "1.5.0",
      "_view_name": "ProgressView",
      "bar_style": "info",
      "description": "",
      "description_tooltip": null,
      "layout": "IPY_MODEL_18e5d0430e594283b5b8dd465e2b4061",
      "max": 1,
      "min": 0,
      "orientation": "horizontal",
      "style": "IPY_MODEL_80f2f595aa7e4f71b6ee1964acfd6da0",
      "value": 1
     }
    },
    "3da1b2fb58cb4f7d96349fb47f435b70": {
     "model_module": "@jupyter-widgets/controls",
     "model_name": "HTMLModel",
     "model_module_version": "1.5.0",
     "state": {
      "_dom_classes": [],
      "_model_module": "@jupyter-widgets/controls",
      "_model_module_version": "1.5.0",
      "_model_name": "HTMLModel",
      "_view_count": null,
      "_view_module": "@jupyter-widgets/controls",
      "_view_module_version": "1.5.0",
      "_view_name": "HTMLView",
      "description": "",
      "description_tooltip": null,
      "layout": "IPY_MODEL_40b70b7ff6a543c18d64aba476c4c269",
      "placeholder": "​",
      "style": "IPY_MODEL_b4888a2a4147479089925337a0270935",
      "value": " 47/0 [00:00&lt;00:00, 52.97 examples/s]"
     }
    },
    "f0bdc0541dd04f7c994ce6e07ba9d245": {
     "model_module": "@jupyter-widgets/base",
     "model_name": "LayoutModel",
     "model_module_version": "1.2.0",
     "state": {
      "_model_module": "@jupyter-widgets/base",
      "_model_module_version": "1.2.0",
      "_model_name": "LayoutModel",
      "_view_count": null,
      "_view_module": "@jupyter-widgets/base",
      "_view_module_version": "1.2.0",
      "_view_name": "LayoutView",
      "align_content": null,
      "align_items": null,
      "align_self": null,
      "border": null,
      "bottom": null,
      "display": null,
      "flex": null,
      "flex_flow": null,
      "grid_area": null,
      "grid_auto_columns": null,
      "grid_auto_flow": null,
      "grid_auto_rows": null,
      "grid_column": null,
      "grid_gap": null,
      "grid_row": null,
      "grid_template_areas": null,
      "grid_template_columns": null,
      "grid_template_rows": null,
      "height": null,
      "justify_content": null,
      "justify_items": null,
      "left": null,
      "margin": null,
      "max_height": null,
      "max_width": null,
      "min_height": null,
      "min_width": null,
      "object_fit": null,
      "object_position": null,
      "order": null,
      "overflow": null,
      "overflow_x": null,
      "overflow_y": null,
      "padding": null,
      "right": null,
      "top": null,
      "visibility": null,
      "width": null
     }
    },
    "033bb051697f49299ad33ff8edf5150f": {
     "model_module": "@jupyter-widgets/base",
     "model_name": "LayoutModel",
     "model_module_version": "1.2.0",
     "state": {
      "_model_module": "@jupyter-widgets/base",
      "_model_module_version": "1.2.0",
      "_model_name": "LayoutModel",
      "_view_count": null,
      "_view_module": "@jupyter-widgets/base",
      "_view_module_version": "1.2.0",
      "_view_name": "LayoutView",
      "align_content": null,
      "align_items": null,
      "align_self": null,
      "border": null,
      "bottom": null,
      "display": null,
      "flex": null,
      "flex_flow": null,
      "grid_area": null,
      "grid_auto_columns": null,
      "grid_auto_flow": null,
      "grid_auto_rows": null,
      "grid_column": null,
      "grid_gap": null,
      "grid_row": null,
      "grid_template_areas": null,
      "grid_template_columns": null,
      "grid_template_rows": null,
      "height": null,
      "justify_content": null,
      "justify_items": null,
      "left": null,
      "margin": null,
      "max_height": null,
      "max_width": null,
      "min_height": null,
      "min_width": null,
      "object_fit": null,
      "object_position": null,
      "order": null,
      "overflow": null,
      "overflow_x": null,
      "overflow_y": null,
      "padding": null,
      "right": null,
      "top": null,
      "visibility": null,
      "width": null
     }
    },
    "a5b37df57987444b9974d021ab64c1ae": {
     "model_module": "@jupyter-widgets/controls",
     "model_name": "DescriptionStyleModel",
     "model_module_version": "1.5.0",
     "state": {
      "_model_module": "@jupyter-widgets/controls",
      "_model_module_version": "1.5.0",
      "_model_name": "DescriptionStyleModel",
      "_view_count": null,
      "_view_module": "@jupyter-widgets/base",
      "_view_module_version": "1.2.0",
      "_view_name": "StyleView",
      "description_width": ""
     }
    },
    "18e5d0430e594283b5b8dd465e2b4061": {
     "model_module": "@jupyter-widgets/base",
     "model_name": "LayoutModel",
     "model_module_version": "1.2.0",
     "state": {
      "_model_module": "@jupyter-widgets/base",
      "_model_module_version": "1.2.0",
      "_model_name": "LayoutModel",
      "_view_count": null,
      "_view_module": "@jupyter-widgets/base",
      "_view_module_version": "1.2.0",
      "_view_name": "LayoutView",
      "align_content": null,
      "align_items": null,
      "align_self": null,
      "border": null,
      "bottom": null,
      "display": null,
      "flex": null,
      "flex_flow": null,
      "grid_area": null,
      "grid_auto_columns": null,
      "grid_auto_flow": null,
      "grid_auto_rows": null,
      "grid_column": null,
      "grid_gap": null,
      "grid_row": null,
      "grid_template_areas": null,
      "grid_template_columns": null,
      "grid_template_rows": null,
      "height": null,
      "justify_content": null,
      "justify_items": null,
      "left": null,
      "margin": null,
      "max_height": null,
      "max_width": null,
      "min_height": null,
      "min_width": null,
      "object_fit": null,
      "object_position": null,
      "order": null,
      "overflow": null,
      "overflow_x": null,
      "overflow_y": null,
      "padding": null,
      "right": null,
      "top": null,
      "visibility": null,
      "width": "20px"
     }
    },
    "80f2f595aa7e4f71b6ee1964acfd6da0": {
     "model_module": "@jupyter-widgets/controls",
     "model_name": "ProgressStyleModel",
     "model_module_version": "1.5.0",
     "state": {
      "_model_module": "@jupyter-widgets/controls",
      "_model_module_version": "1.5.0",
      "_model_name": "ProgressStyleModel",
      "_view_count": null,
      "_view_module": "@jupyter-widgets/base",
      "_view_module_version": "1.2.0",
      "_view_name": "StyleView",
      "bar_color": null,
      "description_width": ""
     }
    },
    "40b70b7ff6a543c18d64aba476c4c269": {
     "model_module": "@jupyter-widgets/base",
     "model_name": "LayoutModel",
     "model_module_version": "1.2.0",
     "state": {
      "_model_module": "@jupyter-widgets/base",
      "_model_module_version": "1.2.0",
      "_model_name": "LayoutModel",
      "_view_count": null,
      "_view_module": "@jupyter-widgets/base",
      "_view_module_version": "1.2.0",
      "_view_name": "LayoutView",
      "align_content": null,
      "align_items": null,
      "align_self": null,
      "border": null,
      "bottom": null,
      "display": null,
      "flex": null,
      "flex_flow": null,
      "grid_area": null,
      "grid_auto_columns": null,
      "grid_auto_flow": null,
      "grid_auto_rows": null,
      "grid_column": null,
      "grid_gap": null,
      "grid_row": null,
      "grid_template_areas": null,
      "grid_template_columns": null,
      "grid_template_rows": null,
      "height": null,
      "justify_content": null,
      "justify_items": null,
      "left": null,
      "margin": null,
      "max_height": null,
      "max_width": null,
      "min_height": null,
      "min_width": null,
      "object_fit": null,
      "object_position": null,
      "order": null,
      "overflow": null,
      "overflow_x": null,
      "overflow_y": null,
      "padding": null,
      "right": null,
      "top": null,
      "visibility": null,
      "width": null
     }
    },
    "b4888a2a4147479089925337a0270935": {
     "model_module": "@jupyter-widgets/controls",
     "model_name": "DescriptionStyleModel",
     "model_module_version": "1.5.0",
     "state": {
      "_model_module": "@jupyter-widgets/controls",
      "_model_module_version": "1.5.0",
      "_model_name": "DescriptionStyleModel",
      "_view_count": null,
      "_view_module": "@jupyter-widgets/base",
      "_view_module_version": "1.2.0",
      "_view_name": "StyleView",
      "description_width": ""
     }
    },
    "7309399794874b57bfe4465cf7820272": {
     "model_module": "@jupyter-widgets/controls",
     "model_name": "HBoxModel",
     "model_module_version": "1.5.0",
     "state": {
      "_dom_classes": [],
      "_model_module": "@jupyter-widgets/controls",
      "_model_module_version": "1.5.0",
      "_model_name": "HBoxModel",
      "_view_count": null,
      "_view_module": "@jupyter-widgets/controls",
      "_view_module_version": "1.5.0",
      "_view_name": "HBoxView",
      "box_style": "",
      "children": [
       "IPY_MODEL_220a355046fc4778998dce9756db62a9",
       "IPY_MODEL_8ad60fc099474b28bd22017c59c3af35",
       "IPY_MODEL_b222f84c96664945a96852d87f01da06"
      ],
      "layout": "IPY_MODEL_6ffc21278bb54e83bc3e42effa5b0e0e"
     }
    },
    "220a355046fc4778998dce9756db62a9": {
     "model_module": "@jupyter-widgets/controls",
     "model_name": "HTMLModel",
     "model_module_version": "1.5.0",
     "state": {
      "_dom_classes": [],
      "_model_module": "@jupyter-widgets/controls",
      "_model_module_version": "1.5.0",
      "_model_name": "HTMLModel",
      "_view_count": null,
      "_view_module": "@jupyter-widgets/controls",
      "_view_module_version": "1.5.0",
      "_view_name": "HTMLView",
      "description": "",
      "description_tooltip": null,
      "layout": "IPY_MODEL_17afde14c5f140ee820e0e04fbe1c2be",
      "placeholder": "​",
      "style": "IPY_MODEL_2cc7ec667f7f4fa19c07e3815ddda8f4",
      "value": "100%"
     }
    },
    "8ad60fc099474b28bd22017c59c3af35": {
     "model_module": "@jupyter-widgets/controls",
     "model_name": "FloatProgressModel",
     "model_module_version": "1.5.0",
     "state": {
      "_dom_classes": [],
      "_model_module": "@jupyter-widgets/controls",
      "_model_module_version": "1.5.0",
      "_model_name": "FloatProgressModel",
      "_view_count": null,
      "_view_module": "@jupyter-widgets/controls",
      "_view_module_version": "1.5.0",
      "_view_name": "ProgressView",
      "bar_style": "success",
      "description": "",
      "description_tooltip": null,
      "layout": "IPY_MODEL_c1d7b4d7f131471886964617a8b75fde",
      "max": 2,
      "min": 0,
      "orientation": "horizontal",
      "style": "IPY_MODEL_e26e78f17d554eeabee36ab3f8343c6e",
      "value": 2
     }
    },
    "b222f84c96664945a96852d87f01da06": {
     "model_module": "@jupyter-widgets/controls",
     "model_name": "HTMLModel",
     "model_module_version": "1.5.0",
     "state": {
      "_dom_classes": [],
      "_model_module": "@jupyter-widgets/controls",
      "_model_module_version": "1.5.0",
      "_model_name": "HTMLModel",
      "_view_count": null,
      "_view_module": "@jupyter-widgets/controls",
      "_view_module_version": "1.5.0",
      "_view_name": "HTMLView",
      "description": "",
      "description_tooltip": null,
      "layout": "IPY_MODEL_26eeb1fc1dd6493e95c392420f29ebf5",
      "placeholder": "​",
      "style": "IPY_MODEL_ca8e633e107f47bab45f1e8dd68bf4e4",
      "value": " 2/2 [00:00&lt;00:00, 47.89it/s]"
     }
    },
    "6ffc21278bb54e83bc3e42effa5b0e0e": {
     "model_module": "@jupyter-widgets/base",
     "model_name": "LayoutModel",
     "model_module_version": "1.2.0",
     "state": {
      "_model_module": "@jupyter-widgets/base",
      "_model_module_version": "1.2.0",
      "_model_name": "LayoutModel",
      "_view_count": null,
      "_view_module": "@jupyter-widgets/base",
      "_view_module_version": "1.2.0",
      "_view_name": "LayoutView",
      "align_content": null,
      "align_items": null,
      "align_self": null,
      "border": null,
      "bottom": null,
      "display": null,
      "flex": null,
      "flex_flow": null,
      "grid_area": null,
      "grid_auto_columns": null,
      "grid_auto_flow": null,
      "grid_auto_rows": null,
      "grid_column": null,
      "grid_gap": null,
      "grid_row": null,
      "grid_template_areas": null,
      "grid_template_columns": null,
      "grid_template_rows": null,
      "height": null,
      "justify_content": null,
      "justify_items": null,
      "left": null,
      "margin": null,
      "max_height": null,
      "max_width": null,
      "min_height": null,
      "min_width": null,
      "object_fit": null,
      "object_position": null,
      "order": null,
      "overflow": null,
      "overflow_x": null,
      "overflow_y": null,
      "padding": null,
      "right": null,
      "top": null,
      "visibility": null,
      "width": null
     }
    },
    "17afde14c5f140ee820e0e04fbe1c2be": {
     "model_module": "@jupyter-widgets/base",
     "model_name": "LayoutModel",
     "model_module_version": "1.2.0",
     "state": {
      "_model_module": "@jupyter-widgets/base",
      "_model_module_version": "1.2.0",
      "_model_name": "LayoutModel",
      "_view_count": null,
      "_view_module": "@jupyter-widgets/base",
      "_view_module_version": "1.2.0",
      "_view_name": "LayoutView",
      "align_content": null,
      "align_items": null,
      "align_self": null,
      "border": null,
      "bottom": null,
      "display": null,
      "flex": null,
      "flex_flow": null,
      "grid_area": null,
      "grid_auto_columns": null,
      "grid_auto_flow": null,
      "grid_auto_rows": null,
      "grid_column": null,
      "grid_gap": null,
      "grid_row": null,
      "grid_template_areas": null,
      "grid_template_columns": null,
      "grid_template_rows": null,
      "height": null,
      "justify_content": null,
      "justify_items": null,
      "left": null,
      "margin": null,
      "max_height": null,
      "max_width": null,
      "min_height": null,
      "min_width": null,
      "object_fit": null,
      "object_position": null,
      "order": null,
      "overflow": null,
      "overflow_x": null,
      "overflow_y": null,
      "padding": null,
      "right": null,
      "top": null,
      "visibility": null,
      "width": null
     }
    },
    "2cc7ec667f7f4fa19c07e3815ddda8f4": {
     "model_module": "@jupyter-widgets/controls",
     "model_name": "DescriptionStyleModel",
     "model_module_version": "1.5.0",
     "state": {
      "_model_module": "@jupyter-widgets/controls",
      "_model_module_version": "1.5.0",
      "_model_name": "DescriptionStyleModel",
      "_view_count": null,
      "_view_module": "@jupyter-widgets/base",
      "_view_module_version": "1.2.0",
      "_view_name": "StyleView",
      "description_width": ""
     }
    },
    "c1d7b4d7f131471886964617a8b75fde": {
     "model_module": "@jupyter-widgets/base",
     "model_name": "LayoutModel",
     "model_module_version": "1.2.0",
     "state": {
      "_model_module": "@jupyter-widgets/base",
      "_model_module_version": "1.2.0",
      "_model_name": "LayoutModel",
      "_view_count": null,
      "_view_module": "@jupyter-widgets/base",
      "_view_module_version": "1.2.0",
      "_view_name": "LayoutView",
      "align_content": null,
      "align_items": null,
      "align_self": null,
      "border": null,
      "bottom": null,
      "display": null,
      "flex": null,
      "flex_flow": null,
      "grid_area": null,
      "grid_auto_columns": null,
      "grid_auto_flow": null,
      "grid_auto_rows": null,
      "grid_column": null,
      "grid_gap": null,
      "grid_row": null,
      "grid_template_areas": null,
      "grid_template_columns": null,
      "grid_template_rows": null,
      "height": null,
      "justify_content": null,
      "justify_items": null,
      "left": null,
      "margin": null,
      "max_height": null,
      "max_width": null,
      "min_height": null,
      "min_width": null,
      "object_fit": null,
      "object_position": null,
      "order": null,
      "overflow": null,
      "overflow_x": null,
      "overflow_y": null,
      "padding": null,
      "right": null,
      "top": null,
      "visibility": null,
      "width": null
     }
    },
    "e26e78f17d554eeabee36ab3f8343c6e": {
     "model_module": "@jupyter-widgets/controls",
     "model_name": "ProgressStyleModel",
     "model_module_version": "1.5.0",
     "state": {
      "_model_module": "@jupyter-widgets/controls",
      "_model_module_version": "1.5.0",
      "_model_name": "ProgressStyleModel",
      "_view_count": null,
      "_view_module": "@jupyter-widgets/base",
      "_view_module_version": "1.2.0",
      "_view_name": "StyleView",
      "bar_color": null,
      "description_width": ""
     }
    },
    "26eeb1fc1dd6493e95c392420f29ebf5": {
     "model_module": "@jupyter-widgets/base",
     "model_name": "LayoutModel",
     "model_module_version": "1.2.0",
     "state": {
      "_model_module": "@jupyter-widgets/base",
      "_model_module_version": "1.2.0",
      "_model_name": "LayoutModel",
      "_view_count": null,
      "_view_module": "@jupyter-widgets/base",
      "_view_module_version": "1.2.0",
      "_view_name": "LayoutView",
      "align_content": null,
      "align_items": null,
      "align_self": null,
      "border": null,
      "bottom": null,
      "display": null,
      "flex": null,
      "flex_flow": null,
      "grid_area": null,
      "grid_auto_columns": null,
      "grid_auto_flow": null,
      "grid_auto_rows": null,
      "grid_column": null,
      "grid_gap": null,
      "grid_row": null,
      "grid_template_areas": null,
      "grid_template_columns": null,
      "grid_template_rows": null,
      "height": null,
      "justify_content": null,
      "justify_items": null,
      "left": null,
      "margin": null,
      "max_height": null,
      "max_width": null,
      "min_height": null,
      "min_width": null,
      "object_fit": null,
      "object_position": null,
      "order": null,
      "overflow": null,
      "overflow_x": null,
      "overflow_y": null,
      "padding": null,
      "right": null,
      "top": null,
      "visibility": null,
      "width": null
     }
    },
    "ca8e633e107f47bab45f1e8dd68bf4e4": {
     "model_module": "@jupyter-widgets/controls",
     "model_name": "DescriptionStyleModel",
     "model_module_version": "1.5.0",
     "state": {
      "_model_module": "@jupyter-widgets/controls",
      "_model_module_version": "1.5.0",
      "_model_name": "DescriptionStyleModel",
      "_view_count": null,
      "_view_module": "@jupyter-widgets/base",
      "_view_module_version": "1.2.0",
      "_view_name": "StyleView",
      "description_width": ""
     }
    },
    "f5545418e7e94963837543bfcb22a39b": {
     "model_module": "@jupyter-widgets/controls",
     "model_name": "HBoxModel",
     "model_module_version": "1.5.0",
     "state": {
      "_dom_classes": [],
      "_model_module": "@jupyter-widgets/controls",
      "_model_module_version": "1.5.0",
      "_model_name": "HBoxModel",
      "_view_count": null,
      "_view_module": "@jupyter-widgets/controls",
      "_view_module_version": "1.5.0",
      "_view_name": "HBoxView",
      "box_style": "",
      "children": [
       "IPY_MODEL_bdcc26220940458492ae7e0c1f84828c",
       "IPY_MODEL_7f45529575cd439b970a547c1976d40a",
       "IPY_MODEL_842a3c27fd9544a6aaf120afbc35b83c"
      ],
      "layout": "IPY_MODEL_1a91934a43c84315a1ec90a0eaf226f0"
     }
    },
    "bdcc26220940458492ae7e0c1f84828c": {
     "model_module": "@jupyter-widgets/controls",
     "model_name": "HTMLModel",
     "model_module_version": "1.5.0",
     "state": {
      "_dom_classes": [],
      "_model_module": "@jupyter-widgets/controls",
      "_model_module_version": "1.5.0",
      "_model_name": "HTMLModel",
      "_view_count": null,
      "_view_module": "@jupyter-widgets/controls",
      "_view_module_version": "1.5.0",
      "_view_name": "HTMLView",
      "description": "",
      "description_tooltip": null,
      "layout": "IPY_MODEL_65b9a68576844be68316c476e2ecb953",
      "placeholder": "​",
      "style": "IPY_MODEL_77023172636a485e9f4ebdc15f34fca8",
      "value": "Downloading tokenizer_config.json: 100%"
     }
    },
    "7f45529575cd439b970a547c1976d40a": {
     "model_module": "@jupyter-widgets/controls",
     "model_name": "FloatProgressModel",
     "model_module_version": "1.5.0",
     "state": {
      "_dom_classes": [],
      "_model_module": "@jupyter-widgets/controls",
      "_model_module_version": "1.5.0",
      "_model_name": "FloatProgressModel",
      "_view_count": null,
      "_view_module": "@jupyter-widgets/controls",
      "_view_module_version": "1.5.0",
      "_view_name": "ProgressView",
      "bar_style": "success",
      "description": "",
      "description_tooltip": null,
      "layout": "IPY_MODEL_43c6695b76b54ca5880c7236982fe040",
      "max": 28,
      "min": 0,
      "orientation": "horizontal",
      "style": "IPY_MODEL_7c67eb0841d147749108f142c89394e9",
      "value": 28
     }
    },
    "842a3c27fd9544a6aaf120afbc35b83c": {
     "model_module": "@jupyter-widgets/controls",
     "model_name": "HTMLModel",
     "model_module_version": "1.5.0",
     "state": {
      "_dom_classes": [],
      "_model_module": "@jupyter-widgets/controls",
      "_model_module_version": "1.5.0",
      "_model_name": "HTMLModel",
      "_view_count": null,
      "_view_module": "@jupyter-widgets/controls",
      "_view_module_version": "1.5.0",
      "_view_name": "HTMLView",
      "description": "",
      "description_tooltip": null,
      "layout": "IPY_MODEL_f242b8c786b04a67822a8e90491c99df",
      "placeholder": "​",
      "style": "IPY_MODEL_28f0f1fcd5ff4afb85a437597b31558a",
      "value": " 28.0/28.0 [00:00&lt;00:00, 558B/s]"
     }
    },
    "1a91934a43c84315a1ec90a0eaf226f0": {
     "model_module": "@jupyter-widgets/base",
     "model_name": "LayoutModel",
     "model_module_version": "1.2.0",
     "state": {
      "_model_module": "@jupyter-widgets/base",
      "_model_module_version": "1.2.0",
      "_model_name": "LayoutModel",
      "_view_count": null,
      "_view_module": "@jupyter-widgets/base",
      "_view_module_version": "1.2.0",
      "_view_name": "LayoutView",
      "align_content": null,
      "align_items": null,
      "align_self": null,
      "border": null,
      "bottom": null,
      "display": null,
      "flex": null,
      "flex_flow": null,
      "grid_area": null,
      "grid_auto_columns": null,
      "grid_auto_flow": null,
      "grid_auto_rows": null,
      "grid_column": null,
      "grid_gap": null,
      "grid_row": null,
      "grid_template_areas": null,
      "grid_template_columns": null,
      "grid_template_rows": null,
      "height": null,
      "justify_content": null,
      "justify_items": null,
      "left": null,
      "margin": null,
      "max_height": null,
      "max_width": null,
      "min_height": null,
      "min_width": null,
      "object_fit": null,
      "object_position": null,
      "order": null,
      "overflow": null,
      "overflow_x": null,
      "overflow_y": null,
      "padding": null,
      "right": null,
      "top": null,
      "visibility": null,
      "width": null
     }
    },
    "65b9a68576844be68316c476e2ecb953": {
     "model_module": "@jupyter-widgets/base",
     "model_name": "LayoutModel",
     "model_module_version": "1.2.0",
     "state": {
      "_model_module": "@jupyter-widgets/base",
      "_model_module_version": "1.2.0",
      "_model_name": "LayoutModel",
      "_view_count": null,
      "_view_module": "@jupyter-widgets/base",
      "_view_module_version": "1.2.0",
      "_view_name": "LayoutView",
      "align_content": null,
      "align_items": null,
      "align_self": null,
      "border": null,
      "bottom": null,
      "display": null,
      "flex": null,
      "flex_flow": null,
      "grid_area": null,
      "grid_auto_columns": null,
      "grid_auto_flow": null,
      "grid_auto_rows": null,
      "grid_column": null,
      "grid_gap": null,
      "grid_row": null,
      "grid_template_areas": null,
      "grid_template_columns": null,
      "grid_template_rows": null,
      "height": null,
      "justify_content": null,
      "justify_items": null,
      "left": null,
      "margin": null,
      "max_height": null,
      "max_width": null,
      "min_height": null,
      "min_width": null,
      "object_fit": null,
      "object_position": null,
      "order": null,
      "overflow": null,
      "overflow_x": null,
      "overflow_y": null,
      "padding": null,
      "right": null,
      "top": null,
      "visibility": null,
      "width": null
     }
    },
    "77023172636a485e9f4ebdc15f34fca8": {
     "model_module": "@jupyter-widgets/controls",
     "model_name": "DescriptionStyleModel",
     "model_module_version": "1.5.0",
     "state": {
      "_model_module": "@jupyter-widgets/controls",
      "_model_module_version": "1.5.0",
      "_model_name": "DescriptionStyleModel",
      "_view_count": null,
      "_view_module": "@jupyter-widgets/base",
      "_view_module_version": "1.2.0",
      "_view_name": "StyleView",
      "description_width": ""
     }
    },
    "43c6695b76b54ca5880c7236982fe040": {
     "model_module": "@jupyter-widgets/base",
     "model_name": "LayoutModel",
     "model_module_version": "1.2.0",
     "state": {
      "_model_module": "@jupyter-widgets/base",
      "_model_module_version": "1.2.0",
      "_model_name": "LayoutModel",
      "_view_count": null,
      "_view_module": "@jupyter-widgets/base",
      "_view_module_version": "1.2.0",
      "_view_name": "LayoutView",
      "align_content": null,
      "align_items": null,
      "align_self": null,
      "border": null,
      "bottom": null,
      "display": null,
      "flex": null,
      "flex_flow": null,
      "grid_area": null,
      "grid_auto_columns": null,
      "grid_auto_flow": null,
      "grid_auto_rows": null,
      "grid_column": null,
      "grid_gap": null,
      "grid_row": null,
      "grid_template_areas": null,
      "grid_template_columns": null,
      "grid_template_rows": null,
      "height": null,
      "justify_content": null,
      "justify_items": null,
      "left": null,
      "margin": null,
      "max_height": null,
      "max_width": null,
      "min_height": null,
      "min_width": null,
      "object_fit": null,
      "object_position": null,
      "order": null,
      "overflow": null,
      "overflow_x": null,
      "overflow_y": null,
      "padding": null,
      "right": null,
      "top": null,
      "visibility": null,
      "width": null
     }
    },
    "7c67eb0841d147749108f142c89394e9": {
     "model_module": "@jupyter-widgets/controls",
     "model_name": "ProgressStyleModel",
     "model_module_version": "1.5.0",
     "state": {
      "_model_module": "@jupyter-widgets/controls",
      "_model_module_version": "1.5.0",
      "_model_name": "ProgressStyleModel",
      "_view_count": null,
      "_view_module": "@jupyter-widgets/base",
      "_view_module_version": "1.2.0",
      "_view_name": "StyleView",
      "bar_color": null,
      "description_width": ""
     }
    },
    "f242b8c786b04a67822a8e90491c99df": {
     "model_module": "@jupyter-widgets/base",
     "model_name": "LayoutModel",
     "model_module_version": "1.2.0",
     "state": {
      "_model_module": "@jupyter-widgets/base",
      "_model_module_version": "1.2.0",
      "_model_name": "LayoutModel",
      "_view_count": null,
      "_view_module": "@jupyter-widgets/base",
      "_view_module_version": "1.2.0",
      "_view_name": "LayoutView",
      "align_content": null,
      "align_items": null,
      "align_self": null,
      "border": null,
      "bottom": null,
      "display": null,
      "flex": null,
      "flex_flow": null,
      "grid_area": null,
      "grid_auto_columns": null,
      "grid_auto_flow": null,
      "grid_auto_rows": null,
      "grid_column": null,
      "grid_gap": null,
      "grid_row": null,
      "grid_template_areas": null,
      "grid_template_columns": null,
      "grid_template_rows": null,
      "height": null,
      "justify_content": null,
      "justify_items": null,
      "left": null,
      "margin": null,
      "max_height": null,
      "max_width": null,
      "min_height": null,
      "min_width": null,
      "object_fit": null,
      "object_position": null,
      "order": null,
      "overflow": null,
      "overflow_x": null,
      "overflow_y": null,
      "padding": null,
      "right": null,
      "top": null,
      "visibility": null,
      "width": null
     }
    },
    "28f0f1fcd5ff4afb85a437597b31558a": {
     "model_module": "@jupyter-widgets/controls",
     "model_name": "DescriptionStyleModel",
     "model_module_version": "1.5.0",
     "state": {
      "_model_module": "@jupyter-widgets/controls",
      "_model_module_version": "1.5.0",
      "_model_name": "DescriptionStyleModel",
      "_view_count": null,
      "_view_module": "@jupyter-widgets/base",
      "_view_module_version": "1.2.0",
      "_view_name": "StyleView",
      "description_width": ""
     }
    },
    "4779dc0e81104dc0843df2d50522df56": {
     "model_module": "@jupyter-widgets/controls",
     "model_name": "HBoxModel",
     "model_module_version": "1.5.0",
     "state": {
      "_dom_classes": [],
      "_model_module": "@jupyter-widgets/controls",
      "_model_module_version": "1.5.0",
      "_model_name": "HBoxModel",
      "_view_count": null,
      "_view_module": "@jupyter-widgets/controls",
      "_view_module_version": "1.5.0",
      "_view_name": "HBoxView",
      "box_style": "",
      "children": [
       "IPY_MODEL_0f8804f2eb4c4da2bb430e1659fe4ea2",
       "IPY_MODEL_d5638e3bab0a4617b3ab63d41c0c4a44",
       "IPY_MODEL_cd122278b5624f47a4c2fda63d3ee504"
      ],
      "layout": "IPY_MODEL_d04dfe38047240eb93793b35afc11a69"
     }
    },
    "0f8804f2eb4c4da2bb430e1659fe4ea2": {
     "model_module": "@jupyter-widgets/controls",
     "model_name": "HTMLModel",
     "model_module_version": "1.5.0",
     "state": {
      "_dom_classes": [],
      "_model_module": "@jupyter-widgets/controls",
      "_model_module_version": "1.5.0",
      "_model_name": "HTMLModel",
      "_view_count": null,
      "_view_module": "@jupyter-widgets/controls",
      "_view_module_version": "1.5.0",
      "_view_name": "HTMLView",
      "description": "",
      "description_tooltip": null,
      "layout": "IPY_MODEL_964bad5b895c418b9b85e66fc5246866",
      "placeholder": "​",
      "style": "IPY_MODEL_913a702818124920ac04fca72e71e9f2",
      "value": "Downloading vocab.txt: 100%"
     }
    },
    "d5638e3bab0a4617b3ab63d41c0c4a44": {
     "model_module": "@jupyter-widgets/controls",
     "model_name": "FloatProgressModel",
     "model_module_version": "1.5.0",
     "state": {
      "_dom_classes": [],
      "_model_module": "@jupyter-widgets/controls",
      "_model_module_version": "1.5.0",
      "_model_name": "FloatProgressModel",
      "_view_count": null,
      "_view_module": "@jupyter-widgets/controls",
      "_view_module_version": "1.5.0",
      "_view_name": "ProgressView",
      "bar_style": "success",
      "description": "",
      "description_tooltip": null,
      "layout": "IPY_MODEL_fc36ace9338f42198d8fd9ec8202ede8",
      "max": 231508,
      "min": 0,
      "orientation": "horizontal",
      "style": "IPY_MODEL_437456ee67ee48bfb0e5c709d96ba6d4",
      "value": 231508
     }
    },
    "cd122278b5624f47a4c2fda63d3ee504": {
     "model_module": "@jupyter-widgets/controls",
     "model_name": "HTMLModel",
     "model_module_version": "1.5.0",
     "state": {
      "_dom_classes": [],
      "_model_module": "@jupyter-widgets/controls",
      "_model_module_version": "1.5.0",
      "_model_name": "HTMLModel",
      "_view_count": null,
      "_view_module": "@jupyter-widgets/controls",
      "_view_module_version": "1.5.0",
      "_view_name": "HTMLView",
      "description": "",
      "description_tooltip": null,
      "layout": "IPY_MODEL_cab2104b682046eca17a89b3946578b2",
      "placeholder": "​",
      "style": "IPY_MODEL_34a724a3e33a4847b2e15c113f718bad",
      "value": " 226k/226k [00:00&lt;00:00, 1.26MB/s]"
     }
    },
    "d04dfe38047240eb93793b35afc11a69": {
     "model_module": "@jupyter-widgets/base",
     "model_name": "LayoutModel",
     "model_module_version": "1.2.0",
     "state": {
      "_model_module": "@jupyter-widgets/base",
      "_model_module_version": "1.2.0",
      "_model_name": "LayoutModel",
      "_view_count": null,
      "_view_module": "@jupyter-widgets/base",
      "_view_module_version": "1.2.0",
      "_view_name": "LayoutView",
      "align_content": null,
      "align_items": null,
      "align_self": null,
      "border": null,
      "bottom": null,
      "display": null,
      "flex": null,
      "flex_flow": null,
      "grid_area": null,
      "grid_auto_columns": null,
      "grid_auto_flow": null,
      "grid_auto_rows": null,
      "grid_column": null,
      "grid_gap": null,
      "grid_row": null,
      "grid_template_areas": null,
      "grid_template_columns": null,
      "grid_template_rows": null,
      "height": null,
      "justify_content": null,
      "justify_items": null,
      "left": null,
      "margin": null,
      "max_height": null,
      "max_width": null,
      "min_height": null,
      "min_width": null,
      "object_fit": null,
      "object_position": null,
      "order": null,
      "overflow": null,
      "overflow_x": null,
      "overflow_y": null,
      "padding": null,
      "right": null,
      "top": null,
      "visibility": null,
      "width": null
     }
    },
    "964bad5b895c418b9b85e66fc5246866": {
     "model_module": "@jupyter-widgets/base",
     "model_name": "LayoutModel",
     "model_module_version": "1.2.0",
     "state": {
      "_model_module": "@jupyter-widgets/base",
      "_model_module_version": "1.2.0",
      "_model_name": "LayoutModel",
      "_view_count": null,
      "_view_module": "@jupyter-widgets/base",
      "_view_module_version": "1.2.0",
      "_view_name": "LayoutView",
      "align_content": null,
      "align_items": null,
      "align_self": null,
      "border": null,
      "bottom": null,
      "display": null,
      "flex": null,
      "flex_flow": null,
      "grid_area": null,
      "grid_auto_columns": null,
      "grid_auto_flow": null,
      "grid_auto_rows": null,
      "grid_column": null,
      "grid_gap": null,
      "grid_row": null,
      "grid_template_areas": null,
      "grid_template_columns": null,
      "grid_template_rows": null,
      "height": null,
      "justify_content": null,
      "justify_items": null,
      "left": null,
      "margin": null,
      "max_height": null,
      "max_width": null,
      "min_height": null,
      "min_width": null,
      "object_fit": null,
      "object_position": null,
      "order": null,
      "overflow": null,
      "overflow_x": null,
      "overflow_y": null,
      "padding": null,
      "right": null,
      "top": null,
      "visibility": null,
      "width": null
     }
    },
    "913a702818124920ac04fca72e71e9f2": {
     "model_module": "@jupyter-widgets/controls",
     "model_name": "DescriptionStyleModel",
     "model_module_version": "1.5.0",
     "state": {
      "_model_module": "@jupyter-widgets/controls",
      "_model_module_version": "1.5.0",
      "_model_name": "DescriptionStyleModel",
      "_view_count": null,
      "_view_module": "@jupyter-widgets/base",
      "_view_module_version": "1.2.0",
      "_view_name": "StyleView",
      "description_width": ""
     }
    },
    "fc36ace9338f42198d8fd9ec8202ede8": {
     "model_module": "@jupyter-widgets/base",
     "model_name": "LayoutModel",
     "model_module_version": "1.2.0",
     "state": {
      "_model_module": "@jupyter-widgets/base",
      "_model_module_version": "1.2.0",
      "_model_name": "LayoutModel",
      "_view_count": null,
      "_view_module": "@jupyter-widgets/base",
      "_view_module_version": "1.2.0",
      "_view_name": "LayoutView",
      "align_content": null,
      "align_items": null,
      "align_self": null,
      "border": null,
      "bottom": null,
      "display": null,
      "flex": null,
      "flex_flow": null,
      "grid_area": null,
      "grid_auto_columns": null,
      "grid_auto_flow": null,
      "grid_auto_rows": null,
      "grid_column": null,
      "grid_gap": null,
      "grid_row": null,
      "grid_template_areas": null,
      "grid_template_columns": null,
      "grid_template_rows": null,
      "height": null,
      "justify_content": null,
      "justify_items": null,
      "left": null,
      "margin": null,
      "max_height": null,
      "max_width": null,
      "min_height": null,
      "min_width": null,
      "object_fit": null,
      "object_position": null,
      "order": null,
      "overflow": null,
      "overflow_x": null,
      "overflow_y": null,
      "padding": null,
      "right": null,
      "top": null,
      "visibility": null,
      "width": null
     }
    },
    "437456ee67ee48bfb0e5c709d96ba6d4": {
     "model_module": "@jupyter-widgets/controls",
     "model_name": "ProgressStyleModel",
     "model_module_version": "1.5.0",
     "state": {
      "_model_module": "@jupyter-widgets/controls",
      "_model_module_version": "1.5.0",
      "_model_name": "ProgressStyleModel",
      "_view_count": null,
      "_view_module": "@jupyter-widgets/base",
      "_view_module_version": "1.2.0",
      "_view_name": "StyleView",
      "bar_color": null,
      "description_width": ""
     }
    },
    "cab2104b682046eca17a89b3946578b2": {
     "model_module": "@jupyter-widgets/base",
     "model_name": "LayoutModel",
     "model_module_version": "1.2.0",
     "state": {
      "_model_module": "@jupyter-widgets/base",
      "_model_module_version": "1.2.0",
      "_model_name": "LayoutModel",
      "_view_count": null,
      "_view_module": "@jupyter-widgets/base",
      "_view_module_version": "1.2.0",
      "_view_name": "LayoutView",
      "align_content": null,
      "align_items": null,
      "align_self": null,
      "border": null,
      "bottom": null,
      "display": null,
      "flex": null,
      "flex_flow": null,
      "grid_area": null,
      "grid_auto_columns": null,
      "grid_auto_flow": null,
      "grid_auto_rows": null,
      "grid_column": null,
      "grid_gap": null,
      "grid_row": null,
      "grid_template_areas": null,
      "grid_template_columns": null,
      "grid_template_rows": null,
      "height": null,
      "justify_content": null,
      "justify_items": null,
      "left": null,
      "margin": null,
      "max_height": null,
      "max_width": null,
      "min_height": null,
      "min_width": null,
      "object_fit": null,
      "object_position": null,
      "order": null,
      "overflow": null,
      "overflow_x": null,
      "overflow_y": null,
      "padding": null,
      "right": null,
      "top": null,
      "visibility": null,
      "width": null
     }
    },
    "34a724a3e33a4847b2e15c113f718bad": {
     "model_module": "@jupyter-widgets/controls",
     "model_name": "DescriptionStyleModel",
     "model_module_version": "1.5.0",
     "state": {
      "_model_module": "@jupyter-widgets/controls",
      "_model_module_version": "1.5.0",
      "_model_name": "DescriptionStyleModel",
      "_view_count": null,
      "_view_module": "@jupyter-widgets/base",
      "_view_module_version": "1.2.0",
      "_view_name": "StyleView",
      "description_width": ""
     }
    },
    "1facc500b47b492998bf14e36bb22410": {
     "model_module": "@jupyter-widgets/controls",
     "model_name": "HBoxModel",
     "model_module_version": "1.5.0",
     "state": {
      "_dom_classes": [],
      "_model_module": "@jupyter-widgets/controls",
      "_model_module_version": "1.5.0",
      "_model_name": "HBoxModel",
      "_view_count": null,
      "_view_module": "@jupyter-widgets/controls",
      "_view_module_version": "1.5.0",
      "_view_name": "HBoxView",
      "box_style": "",
      "children": [
       "IPY_MODEL_d8e331c393d64255ab978347891f9e19",
       "IPY_MODEL_06c0489a11294384a660d9811f428902",
       "IPY_MODEL_fe28f483e65d49c4bb9f998c5834e522"
      ],
      "layout": "IPY_MODEL_75a5ae310ca945f28d878661300caf2d"
     }
    },
    "d8e331c393d64255ab978347891f9e19": {
     "model_module": "@jupyter-widgets/controls",
     "model_name": "HTMLModel",
     "model_module_version": "1.5.0",
     "state": {
      "_dom_classes": [],
      "_model_module": "@jupyter-widgets/controls",
      "_model_module_version": "1.5.0",
      "_model_name": "HTMLModel",
      "_view_count": null,
      "_view_module": "@jupyter-widgets/controls",
      "_view_module_version": "1.5.0",
      "_view_name": "HTMLView",
      "description": "",
      "description_tooltip": null,
      "layout": "IPY_MODEL_deddce6317ed4744993cf69b81499dca",
      "placeholder": "​",
      "style": "IPY_MODEL_d762077e2bff4e90bbfd7345e03903b6",
      "value": "Downloading tokenizer.json: 100%"
     }
    },
    "06c0489a11294384a660d9811f428902": {
     "model_module": "@jupyter-widgets/controls",
     "model_name": "FloatProgressModel",
     "model_module_version": "1.5.0",
     "state": {
      "_dom_classes": [],
      "_model_module": "@jupyter-widgets/controls",
      "_model_module_version": "1.5.0",
      "_model_name": "FloatProgressModel",
      "_view_count": null,
      "_view_module": "@jupyter-widgets/controls",
      "_view_module_version": "1.5.0",
      "_view_name": "ProgressView",
      "bar_style": "success",
      "description": "",
      "description_tooltip": null,
      "layout": "IPY_MODEL_18ea6f18f99848e084924314a68a22a2",
      "max": 466062,
      "min": 0,
      "orientation": "horizontal",
      "style": "IPY_MODEL_5b690ef3c53e43a5aa6148aebb099621",
      "value": 466062
     }
    },
    "fe28f483e65d49c4bb9f998c5834e522": {
     "model_module": "@jupyter-widgets/controls",
     "model_name": "HTMLModel",
     "model_module_version": "1.5.0",
     "state": {
      "_dom_classes": [],
      "_model_module": "@jupyter-widgets/controls",
      "_model_module_version": "1.5.0",
      "_model_name": "HTMLModel",
      "_view_count": null,
      "_view_module": "@jupyter-widgets/controls",
      "_view_module_version": "1.5.0",
      "_view_name": "HTMLView",
      "description": "",
      "description_tooltip": null,
      "layout": "IPY_MODEL_ff91a3582c874e58a24a0ab054c92f0c",
      "placeholder": "​",
      "style": "IPY_MODEL_737711b7890e4ac8a4833b2f213fc3aa",
      "value": " 455k/455k [00:00&lt;00:00, 912kB/s]"
     }
    },
    "75a5ae310ca945f28d878661300caf2d": {
     "model_module": "@jupyter-widgets/base",
     "model_name": "LayoutModel",
     "model_module_version": "1.2.0",
     "state": {
      "_model_module": "@jupyter-widgets/base",
      "_model_module_version": "1.2.0",
      "_model_name": "LayoutModel",
      "_view_count": null,
      "_view_module": "@jupyter-widgets/base",
      "_view_module_version": "1.2.0",
      "_view_name": "LayoutView",
      "align_content": null,
      "align_items": null,
      "align_self": null,
      "border": null,
      "bottom": null,
      "display": null,
      "flex": null,
      "flex_flow": null,
      "grid_area": null,
      "grid_auto_columns": null,
      "grid_auto_flow": null,
      "grid_auto_rows": null,
      "grid_column": null,
      "grid_gap": null,
      "grid_row": null,
      "grid_template_areas": null,
      "grid_template_columns": null,
      "grid_template_rows": null,
      "height": null,
      "justify_content": null,
      "justify_items": null,
      "left": null,
      "margin": null,
      "max_height": null,
      "max_width": null,
      "min_height": null,
      "min_width": null,
      "object_fit": null,
      "object_position": null,
      "order": null,
      "overflow": null,
      "overflow_x": null,
      "overflow_y": null,
      "padding": null,
      "right": null,
      "top": null,
      "visibility": null,
      "width": null
     }
    },
    "deddce6317ed4744993cf69b81499dca": {
     "model_module": "@jupyter-widgets/base",
     "model_name": "LayoutModel",
     "model_module_version": "1.2.0",
     "state": {
      "_model_module": "@jupyter-widgets/base",
      "_model_module_version": "1.2.0",
      "_model_name": "LayoutModel",
      "_view_count": null,
      "_view_module": "@jupyter-widgets/base",
      "_view_module_version": "1.2.0",
      "_view_name": "LayoutView",
      "align_content": null,
      "align_items": null,
      "align_self": null,
      "border": null,
      "bottom": null,
      "display": null,
      "flex": null,
      "flex_flow": null,
      "grid_area": null,
      "grid_auto_columns": null,
      "grid_auto_flow": null,
      "grid_auto_rows": null,
      "grid_column": null,
      "grid_gap": null,
      "grid_row": null,
      "grid_template_areas": null,
      "grid_template_columns": null,
      "grid_template_rows": null,
      "height": null,
      "justify_content": null,
      "justify_items": null,
      "left": null,
      "margin": null,
      "max_height": null,
      "max_width": null,
      "min_height": null,
      "min_width": null,
      "object_fit": null,
      "object_position": null,
      "order": null,
      "overflow": null,
      "overflow_x": null,
      "overflow_y": null,
      "padding": null,
      "right": null,
      "top": null,
      "visibility": null,
      "width": null
     }
    },
    "d762077e2bff4e90bbfd7345e03903b6": {
     "model_module": "@jupyter-widgets/controls",
     "model_name": "DescriptionStyleModel",
     "model_module_version": "1.5.0",
     "state": {
      "_model_module": "@jupyter-widgets/controls",
      "_model_module_version": "1.5.0",
      "_model_name": "DescriptionStyleModel",
      "_view_count": null,
      "_view_module": "@jupyter-widgets/base",
      "_view_module_version": "1.2.0",
      "_view_name": "StyleView",
      "description_width": ""
     }
    },
    "18ea6f18f99848e084924314a68a22a2": {
     "model_module": "@jupyter-widgets/base",
     "model_name": "LayoutModel",
     "model_module_version": "1.2.0",
     "state": {
      "_model_module": "@jupyter-widgets/base",
      "_model_module_version": "1.2.0",
      "_model_name": "LayoutModel",
      "_view_count": null,
      "_view_module": "@jupyter-widgets/base",
      "_view_module_version": "1.2.0",
      "_view_name": "LayoutView",
      "align_content": null,
      "align_items": null,
      "align_self": null,
      "border": null,
      "bottom": null,
      "display": null,
      "flex": null,
      "flex_flow": null,
      "grid_area": null,
      "grid_auto_columns": null,
      "grid_auto_flow": null,
      "grid_auto_rows": null,
      "grid_column": null,
      "grid_gap": null,
      "grid_row": null,
      "grid_template_areas": null,
      "grid_template_columns": null,
      "grid_template_rows": null,
      "height": null,
      "justify_content": null,
      "justify_items": null,
      "left": null,
      "margin": null,
      "max_height": null,
      "max_width": null,
      "min_height": null,
      "min_width": null,
      "object_fit": null,
      "object_position": null,
      "order": null,
      "overflow": null,
      "overflow_x": null,
      "overflow_y": null,
      "padding": null,
      "right": null,
      "top": null,
      "visibility": null,
      "width": null
     }
    },
    "5b690ef3c53e43a5aa6148aebb099621": {
     "model_module": "@jupyter-widgets/controls",
     "model_name": "ProgressStyleModel",
     "model_module_version": "1.5.0",
     "state": {
      "_model_module": "@jupyter-widgets/controls",
      "_model_module_version": "1.5.0",
      "_model_name": "ProgressStyleModel",
      "_view_count": null,
      "_view_module": "@jupyter-widgets/base",
      "_view_module_version": "1.2.0",
      "_view_name": "StyleView",
      "bar_color": null,
      "description_width": ""
     }
    },
    "ff91a3582c874e58a24a0ab054c92f0c": {
     "model_module": "@jupyter-widgets/base",
     "model_name": "LayoutModel",
     "model_module_version": "1.2.0",
     "state": {
      "_model_module": "@jupyter-widgets/base",
      "_model_module_version": "1.2.0",
      "_model_name": "LayoutModel",
      "_view_count": null,
      "_view_module": "@jupyter-widgets/base",
      "_view_module_version": "1.2.0",
      "_view_name": "LayoutView",
      "align_content": null,
      "align_items": null,
      "align_self": null,
      "border": null,
      "bottom": null,
      "display": null,
      "flex": null,
      "flex_flow": null,
      "grid_area": null,
      "grid_auto_columns": null,
      "grid_auto_flow": null,
      "grid_auto_rows": null,
      "grid_column": null,
      "grid_gap": null,
      "grid_row": null,
      "grid_template_areas": null,
      "grid_template_columns": null,
      "grid_template_rows": null,
      "height": null,
      "justify_content": null,
      "justify_items": null,
      "left": null,
      "margin": null,
      "max_height": null,
      "max_width": null,
      "min_height": null,
      "min_width": null,
      "object_fit": null,
      "object_position": null,
      "order": null,
      "overflow": null,
      "overflow_x": null,
      "overflow_y": null,
      "padding": null,
      "right": null,
      "top": null,
      "visibility": null,
      "width": null
     }
    },
    "737711b7890e4ac8a4833b2f213fc3aa": {
     "model_module": "@jupyter-widgets/controls",
     "model_name": "DescriptionStyleModel",
     "model_module_version": "1.5.0",
     "state": {
      "_model_module": "@jupyter-widgets/controls",
      "_model_module_version": "1.5.0",
      "_model_name": "DescriptionStyleModel",
      "_view_count": null,
      "_view_module": "@jupyter-widgets/base",
      "_view_module_version": "1.2.0",
      "_view_name": "StyleView",
      "description_width": ""
     }
    },
    "fb206f0a160a4695abb7280615b73fec": {
     "model_module": "@jupyter-widgets/controls",
     "model_name": "HBoxModel",
     "model_module_version": "1.5.0",
     "state": {
      "_dom_classes": [],
      "_model_module": "@jupyter-widgets/controls",
      "_model_module_version": "1.5.0",
      "_model_name": "HBoxModel",
      "_view_count": null,
      "_view_module": "@jupyter-widgets/controls",
      "_view_module_version": "1.5.0",
      "_view_name": "HBoxView",
      "box_style": "",
      "children": [
       "IPY_MODEL_23850af1433e453cacaaec3348b2ee95",
       "IPY_MODEL_a1593ab151a842f2b42b949310a9caff",
       "IPY_MODEL_981adf4c3fc84991a19e80e17c9e88d5"
      ],
      "layout": "IPY_MODEL_570f8e81948745038b1b0df1bdd72ead"
     }
    },
    "23850af1433e453cacaaec3348b2ee95": {
     "model_module": "@jupyter-widgets/controls",
     "model_name": "HTMLModel",
     "model_module_version": "1.5.0",
     "state": {
      "_dom_classes": [],
      "_model_module": "@jupyter-widgets/controls",
      "_model_module_version": "1.5.0",
      "_model_name": "HTMLModel",
      "_view_count": null,
      "_view_module": "@jupyter-widgets/controls",
      "_view_module_version": "1.5.0",
      "_view_name": "HTMLView",
      "description": "",
      "description_tooltip": null,
      "layout": "IPY_MODEL_23462f997dbd43cda9f5259c31b9c4e8",
      "placeholder": "​",
      "style": "IPY_MODEL_48959f34841f4c1ca9b67670fc1cd086",
      "value": "Downloading config.json: 100%"
     }
    },
    "a1593ab151a842f2b42b949310a9caff": {
     "model_module": "@jupyter-widgets/controls",
     "model_name": "FloatProgressModel",
     "model_module_version": "1.5.0",
     "state": {
      "_dom_classes": [],
      "_model_module": "@jupyter-widgets/controls",
      "_model_module_version": "1.5.0",
      "_model_name": "FloatProgressModel",
      "_view_count": null,
      "_view_module": "@jupyter-widgets/controls",
      "_view_module_version": "1.5.0",
      "_view_name": "ProgressView",
      "bar_style": "success",
      "description": "",
      "description_tooltip": null,
      "layout": "IPY_MODEL_e92827d325204000934f87652c37cbee",
      "max": 570,
      "min": 0,
      "orientation": "horizontal",
      "style": "IPY_MODEL_1d9fcee3d82840148e786370f12c83ea",
      "value": 570
     }
    },
    "981adf4c3fc84991a19e80e17c9e88d5": {
     "model_module": "@jupyter-widgets/controls",
     "model_name": "HTMLModel",
     "model_module_version": "1.5.0",
     "state": {
      "_dom_classes": [],
      "_model_module": "@jupyter-widgets/controls",
      "_model_module_version": "1.5.0",
      "_model_name": "HTMLModel",
      "_view_count": null,
      "_view_module": "@jupyter-widgets/controls",
      "_view_module_version": "1.5.0",
      "_view_name": "HTMLView",
      "description": "",
      "description_tooltip": null,
      "layout": "IPY_MODEL_30e2f99e93ae4ec48e4e14d09ce0fcd0",
      "placeholder": "​",
      "style": "IPY_MODEL_c40e58d3f17d49f4beb390b4527b3839",
      "value": " 570/570 [00:00&lt;00:00, 5.37kB/s]"
     }
    },
    "570f8e81948745038b1b0df1bdd72ead": {
     "model_module": "@jupyter-widgets/base",
     "model_name": "LayoutModel",
     "model_module_version": "1.2.0",
     "state": {
      "_model_module": "@jupyter-widgets/base",
      "_model_module_version": "1.2.0",
      "_model_name": "LayoutModel",
      "_view_count": null,
      "_view_module": "@jupyter-widgets/base",
      "_view_module_version": "1.2.0",
      "_view_name": "LayoutView",
      "align_content": null,
      "align_items": null,
      "align_self": null,
      "border": null,
      "bottom": null,
      "display": null,
      "flex": null,
      "flex_flow": null,
      "grid_area": null,
      "grid_auto_columns": null,
      "grid_auto_flow": null,
      "grid_auto_rows": null,
      "grid_column": null,
      "grid_gap": null,
      "grid_row": null,
      "grid_template_areas": null,
      "grid_template_columns": null,
      "grid_template_rows": null,
      "height": null,
      "justify_content": null,
      "justify_items": null,
      "left": null,
      "margin": null,
      "max_height": null,
      "max_width": null,
      "min_height": null,
      "min_width": null,
      "object_fit": null,
      "object_position": null,
      "order": null,
      "overflow": null,
      "overflow_x": null,
      "overflow_y": null,
      "padding": null,
      "right": null,
      "top": null,
      "visibility": null,
      "width": null
     }
    },
    "23462f997dbd43cda9f5259c31b9c4e8": {
     "model_module": "@jupyter-widgets/base",
     "model_name": "LayoutModel",
     "model_module_version": "1.2.0",
     "state": {
      "_model_module": "@jupyter-widgets/base",
      "_model_module_version": "1.2.0",
      "_model_name": "LayoutModel",
      "_view_count": null,
      "_view_module": "@jupyter-widgets/base",
      "_view_module_version": "1.2.0",
      "_view_name": "LayoutView",
      "align_content": null,
      "align_items": null,
      "align_self": null,
      "border": null,
      "bottom": null,
      "display": null,
      "flex": null,
      "flex_flow": null,
      "grid_area": null,
      "grid_auto_columns": null,
      "grid_auto_flow": null,
      "grid_auto_rows": null,
      "grid_column": null,
      "grid_gap": null,
      "grid_row": null,
      "grid_template_areas": null,
      "grid_template_columns": null,
      "grid_template_rows": null,
      "height": null,
      "justify_content": null,
      "justify_items": null,
      "left": null,
      "margin": null,
      "max_height": null,
      "max_width": null,
      "min_height": null,
      "min_width": null,
      "object_fit": null,
      "object_position": null,
      "order": null,
      "overflow": null,
      "overflow_x": null,
      "overflow_y": null,
      "padding": null,
      "right": null,
      "top": null,
      "visibility": null,
      "width": null
     }
    },
    "48959f34841f4c1ca9b67670fc1cd086": {
     "model_module": "@jupyter-widgets/controls",
     "model_name": "DescriptionStyleModel",
     "model_module_version": "1.5.0",
     "state": {
      "_model_module": "@jupyter-widgets/controls",
      "_model_module_version": "1.5.0",
      "_model_name": "DescriptionStyleModel",
      "_view_count": null,
      "_view_module": "@jupyter-widgets/base",
      "_view_module_version": "1.2.0",
      "_view_name": "StyleView",
      "description_width": ""
     }
    },
    "e92827d325204000934f87652c37cbee": {
     "model_module": "@jupyter-widgets/base",
     "model_name": "LayoutModel",
     "model_module_version": "1.2.0",
     "state": {
      "_model_module": "@jupyter-widgets/base",
      "_model_module_version": "1.2.0",
      "_model_name": "LayoutModel",
      "_view_count": null,
      "_view_module": "@jupyter-widgets/base",
      "_view_module_version": "1.2.0",
      "_view_name": "LayoutView",
      "align_content": null,
      "align_items": null,
      "align_self": null,
      "border": null,
      "bottom": null,
      "display": null,
      "flex": null,
      "flex_flow": null,
      "grid_area": null,
      "grid_auto_columns": null,
      "grid_auto_flow": null,
      "grid_auto_rows": null,
      "grid_column": null,
      "grid_gap": null,
      "grid_row": null,
      "grid_template_areas": null,
      "grid_template_columns": null,
      "grid_template_rows": null,
      "height": null,
      "justify_content": null,
      "justify_items": null,
      "left": null,
      "margin": null,
      "max_height": null,
      "max_width": null,
      "min_height": null,
      "min_width": null,
      "object_fit": null,
      "object_position": null,
      "order": null,
      "overflow": null,
      "overflow_x": null,
      "overflow_y": null,
      "padding": null,
      "right": null,
      "top": null,
      "visibility": null,
      "width": null
     }
    },
    "1d9fcee3d82840148e786370f12c83ea": {
     "model_module": "@jupyter-widgets/controls",
     "model_name": "ProgressStyleModel",
     "model_module_version": "1.5.0",
     "state": {
      "_model_module": "@jupyter-widgets/controls",
      "_model_module_version": "1.5.0",
      "_model_name": "ProgressStyleModel",
      "_view_count": null,
      "_view_module": "@jupyter-widgets/base",
      "_view_module_version": "1.2.0",
      "_view_name": "StyleView",
      "bar_color": null,
      "description_width": ""
     }
    },
    "30e2f99e93ae4ec48e4e14d09ce0fcd0": {
     "model_module": "@jupyter-widgets/base",
     "model_name": "LayoutModel",
     "model_module_version": "1.2.0",
     "state": {
      "_model_module": "@jupyter-widgets/base",
      "_model_module_version": "1.2.0",
      "_model_name": "LayoutModel",
      "_view_count": null,
      "_view_module": "@jupyter-widgets/base",
      "_view_module_version": "1.2.0",
      "_view_name": "LayoutView",
      "align_content": null,
      "align_items": null,
      "align_self": null,
      "border": null,
      "bottom": null,
      "display": null,
      "flex": null,
      "flex_flow": null,
      "grid_area": null,
      "grid_auto_columns": null,
      "grid_auto_flow": null,
      "grid_auto_rows": null,
      "grid_column": null,
      "grid_gap": null,
      "grid_row": null,
      "grid_template_areas": null,
      "grid_template_columns": null,
      "grid_template_rows": null,
      "height": null,
      "justify_content": null,
      "justify_items": null,
      "left": null,
      "margin": null,
      "max_height": null,
      "max_width": null,
      "min_height": null,
      "min_width": null,
      "object_fit": null,
      "object_position": null,
      "order": null,
      "overflow": null,
      "overflow_x": null,
      "overflow_y": null,
      "padding": null,
      "right": null,
      "top": null,
      "visibility": null,
      "width": null
     }
    },
    "c40e58d3f17d49f4beb390b4527b3839": {
     "model_module": "@jupyter-widgets/controls",
     "model_name": "DescriptionStyleModel",
     "model_module_version": "1.5.0",
     "state": {
      "_model_module": "@jupyter-widgets/controls",
      "_model_module_version": "1.5.0",
      "_model_name": "DescriptionStyleModel",
      "_view_count": null,
      "_view_module": "@jupyter-widgets/base",
      "_view_module_version": "1.2.0",
      "_view_name": "StyleView",
      "description_width": ""
     }
    },
    "67fd0e98b7ef4c3982dc75e3d01b5fe7": {
     "model_module": "@jupyter-widgets/controls",
     "model_name": "HBoxModel",
     "model_module_version": "1.5.0",
     "state": {
      "_dom_classes": [],
      "_model_module": "@jupyter-widgets/controls",
      "_model_module_version": "1.5.0",
      "_model_name": "HBoxModel",
      "_view_count": null,
      "_view_module": "@jupyter-widgets/controls",
      "_view_module_version": "1.5.0",
      "_view_name": "HBoxView",
      "box_style": "",
      "children": [
       "IPY_MODEL_a393dd829a09401c85a5465837cfd15a",
       "IPY_MODEL_3fd1687296ab45b49488ac99c526ed9a",
       "IPY_MODEL_3b566bf013fa45c198b700dda2945c7f"
      ],
      "layout": "IPY_MODEL_436aebff116d4fa3a5fbf7dae670d542"
     }
    },
    "a393dd829a09401c85a5465837cfd15a": {
     "model_module": "@jupyter-widgets/controls",
     "model_name": "HTMLModel",
     "model_module_version": "1.5.0",
     "state": {
      "_dom_classes": [],
      "_model_module": "@jupyter-widgets/controls",
      "_model_module_version": "1.5.0",
      "_model_name": "HTMLModel",
      "_view_count": null,
      "_view_module": "@jupyter-widgets/controls",
      "_view_module_version": "1.5.0",
      "_view_name": "HTMLView",
      "description": "",
      "description_tooltip": null,
      "layout": "IPY_MODEL_6d5f65af1c7640d78c7d0ecda67be335",
      "placeholder": "​",
      "style": "IPY_MODEL_de2956f510904cc1ad8da965967ab2cb",
      "value": "Downloading config.json: 100%"
     }
    },
    "3fd1687296ab45b49488ac99c526ed9a": {
     "model_module": "@jupyter-widgets/controls",
     "model_name": "FloatProgressModel",
     "model_module_version": "1.5.0",
     "state": {
      "_dom_classes": [],
      "_model_module": "@jupyter-widgets/controls",
      "_model_module_version": "1.5.0",
      "_model_name": "FloatProgressModel",
      "_view_count": null,
      "_view_module": "@jupyter-widgets/controls",
      "_view_module_version": "1.5.0",
      "_view_name": "ProgressView",
      "bar_style": "success",
      "description": "",
      "description_tooltip": null,
      "layout": "IPY_MODEL_a83118394f1647e7a8290e2fc20a8916",
      "max": 606,
      "min": 0,
      "orientation": "horizontal",
      "style": "IPY_MODEL_67a5c675bbba4f10892ace98180744ef",
      "value": 606
     }
    },
    "3b566bf013fa45c198b700dda2945c7f": {
     "model_module": "@jupyter-widgets/controls",
     "model_name": "HTMLModel",
     "model_module_version": "1.5.0",
     "state": {
      "_dom_classes": [],
      "_model_module": "@jupyter-widgets/controls",
      "_model_module_version": "1.5.0",
      "_model_name": "HTMLModel",
      "_view_count": null,
      "_view_module": "@jupyter-widgets/controls",
      "_view_module_version": "1.5.0",
      "_view_name": "HTMLView",
      "description": "",
      "description_tooltip": null,
      "layout": "IPY_MODEL_58329020f65a4110b81e57185b879dad",
      "placeholder": "​",
      "style": "IPY_MODEL_fcec089b0555409babfcafe57557453f",
      "value": " 606/606 [00:00&lt;00:00, 5.23kB/s]"
     }
    },
    "436aebff116d4fa3a5fbf7dae670d542": {
     "model_module": "@jupyter-widgets/base",
     "model_name": "LayoutModel",
     "model_module_version": "1.2.0",
     "state": {
      "_model_module": "@jupyter-widgets/base",
      "_model_module_version": "1.2.0",
      "_model_name": "LayoutModel",
      "_view_count": null,
      "_view_module": "@jupyter-widgets/base",
      "_view_module_version": "1.2.0",
      "_view_name": "LayoutView",
      "align_content": null,
      "align_items": null,
      "align_self": null,
      "border": null,
      "bottom": null,
      "display": null,
      "flex": null,
      "flex_flow": null,
      "grid_area": null,
      "grid_auto_columns": null,
      "grid_auto_flow": null,
      "grid_auto_rows": null,
      "grid_column": null,
      "grid_gap": null,
      "grid_row": null,
      "grid_template_areas": null,
      "grid_template_columns": null,
      "grid_template_rows": null,
      "height": null,
      "justify_content": null,
      "justify_items": null,
      "left": null,
      "margin": null,
      "max_height": null,
      "max_width": null,
      "min_height": null,
      "min_width": null,
      "object_fit": null,
      "object_position": null,
      "order": null,
      "overflow": null,
      "overflow_x": null,
      "overflow_y": null,
      "padding": null,
      "right": null,
      "top": null,
      "visibility": null,
      "width": null
     }
    },
    "6d5f65af1c7640d78c7d0ecda67be335": {
     "model_module": "@jupyter-widgets/base",
     "model_name": "LayoutModel",
     "model_module_version": "1.2.0",
     "state": {
      "_model_module": "@jupyter-widgets/base",
      "_model_module_version": "1.2.0",
      "_model_name": "LayoutModel",
      "_view_count": null,
      "_view_module": "@jupyter-widgets/base",
      "_view_module_version": "1.2.0",
      "_view_name": "LayoutView",
      "align_content": null,
      "align_items": null,
      "align_self": null,
      "border": null,
      "bottom": null,
      "display": null,
      "flex": null,
      "flex_flow": null,
      "grid_area": null,
      "grid_auto_columns": null,
      "grid_auto_flow": null,
      "grid_auto_rows": null,
      "grid_column": null,
      "grid_gap": null,
      "grid_row": null,
      "grid_template_areas": null,
      "grid_template_columns": null,
      "grid_template_rows": null,
      "height": null,
      "justify_content": null,
      "justify_items": null,
      "left": null,
      "margin": null,
      "max_height": null,
      "max_width": null,
      "min_height": null,
      "min_width": null,
      "object_fit": null,
      "object_position": null,
      "order": null,
      "overflow": null,
      "overflow_x": null,
      "overflow_y": null,
      "padding": null,
      "right": null,
      "top": null,
      "visibility": null,
      "width": null
     }
    },
    "de2956f510904cc1ad8da965967ab2cb": {
     "model_module": "@jupyter-widgets/controls",
     "model_name": "DescriptionStyleModel",
     "model_module_version": "1.5.0",
     "state": {
      "_model_module": "@jupyter-widgets/controls",
      "_model_module_version": "1.5.0",
      "_model_name": "DescriptionStyleModel",
      "_view_count": null,
      "_view_module": "@jupyter-widgets/base",
      "_view_module_version": "1.2.0",
      "_view_name": "StyleView",
      "description_width": ""
     }
    },
    "a83118394f1647e7a8290e2fc20a8916": {
     "model_module": "@jupyter-widgets/base",
     "model_name": "LayoutModel",
     "model_module_version": "1.2.0",
     "state": {
      "_model_module": "@jupyter-widgets/base",
      "_model_module_version": "1.2.0",
      "_model_name": "LayoutModel",
      "_view_count": null,
      "_view_module": "@jupyter-widgets/base",
      "_view_module_version": "1.2.0",
      "_view_name": "LayoutView",
      "align_content": null,
      "align_items": null,
      "align_self": null,
      "border": null,
      "bottom": null,
      "display": null,
      "flex": null,
      "flex_flow": null,
      "grid_area": null,
      "grid_auto_columns": null,
      "grid_auto_flow": null,
      "grid_auto_rows": null,
      "grid_column": null,
      "grid_gap": null,
      "grid_row": null,
      "grid_template_areas": null,
      "grid_template_columns": null,
      "grid_template_rows": null,
      "height": null,
      "justify_content": null,
      "justify_items": null,
      "left": null,
      "margin": null,
      "max_height": null,
      "max_width": null,
      "min_height": null,
      "min_width": null,
      "object_fit": null,
      "object_position": null,
      "order": null,
      "overflow": null,
      "overflow_x": null,
      "overflow_y": null,
      "padding": null,
      "right": null,
      "top": null,
      "visibility": null,
      "width": null
     }
    },
    "67a5c675bbba4f10892ace98180744ef": {
     "model_module": "@jupyter-widgets/controls",
     "model_name": "ProgressStyleModel",
     "model_module_version": "1.5.0",
     "state": {
      "_model_module": "@jupyter-widgets/controls",
      "_model_module_version": "1.5.0",
      "_model_name": "ProgressStyleModel",
      "_view_count": null,
      "_view_module": "@jupyter-widgets/base",
      "_view_module_version": "1.2.0",
      "_view_name": "StyleView",
      "bar_color": null,
      "description_width": ""
     }
    },
    "58329020f65a4110b81e57185b879dad": {
     "model_module": "@jupyter-widgets/base",
     "model_name": "LayoutModel",
     "model_module_version": "1.2.0",
     "state": {
      "_model_module": "@jupyter-widgets/base",
      "_model_module_version": "1.2.0",
      "_model_name": "LayoutModel",
      "_view_count": null,
      "_view_module": "@jupyter-widgets/base",
      "_view_module_version": "1.2.0",
      "_view_name": "LayoutView",
      "align_content": null,
      "align_items": null,
      "align_self": null,
      "border": null,
      "bottom": null,
      "display": null,
      "flex": null,
      "flex_flow": null,
      "grid_area": null,
      "grid_auto_columns": null,
      "grid_auto_flow": null,
      "grid_auto_rows": null,
      "grid_column": null,
      "grid_gap": null,
      "grid_row": null,
      "grid_template_areas": null,
      "grid_template_columns": null,
      "grid_template_rows": null,
      "height": null,
      "justify_content": null,
      "justify_items": null,
      "left": null,
      "margin": null,
      "max_height": null,
      "max_width": null,
      "min_height": null,
      "min_width": null,
      "object_fit": null,
      "object_position": null,
      "order": null,
      "overflow": null,
      "overflow_x": null,
      "overflow_y": null,
      "padding": null,
      "right": null,
      "top": null,
      "visibility": null,
      "width": null
     }
    },
    "fcec089b0555409babfcafe57557453f": {
     "model_module": "@jupyter-widgets/controls",
     "model_name": "DescriptionStyleModel",
     "model_module_version": "1.5.0",
     "state": {
      "_model_module": "@jupyter-widgets/controls",
      "_model_module_version": "1.5.0",
      "_model_name": "DescriptionStyleModel",
      "_view_count": null,
      "_view_module": "@jupyter-widgets/base",
      "_view_module_version": "1.2.0",
      "_view_name": "StyleView",
      "description_width": ""
     }
    },
    "af36ce3c87c84cbb95d5ed46c5123b75": {
     "model_module": "@jupyter-widgets/controls",
     "model_name": "HBoxModel",
     "model_module_version": "1.5.0",
     "state": {
      "_dom_classes": [],
      "_model_module": "@jupyter-widgets/controls",
      "_model_module_version": "1.5.0",
      "_model_name": "HBoxModel",
      "_view_count": null,
      "_view_module": "@jupyter-widgets/controls",
      "_view_module_version": "1.5.0",
      "_view_name": "HBoxView",
      "box_style": "",
      "children": [
       "IPY_MODEL_978698bdfb0748f4be75065052b95cb9",
       "IPY_MODEL_de994bdbe468459ebeec16aaf4b83b38",
       "IPY_MODEL_a20c56c47b084b05aebd1449e3e98746"
      ],
      "layout": "IPY_MODEL_7dac945482a142f6a2fed4d206b580fc"
     }
    },
    "978698bdfb0748f4be75065052b95cb9": {
     "model_module": "@jupyter-widgets/controls",
     "model_name": "HTMLModel",
     "model_module_version": "1.5.0",
     "state": {
      "_dom_classes": [],
      "_model_module": "@jupyter-widgets/controls",
      "_model_module_version": "1.5.0",
      "_model_name": "HTMLModel",
      "_view_count": null,
      "_view_module": "@jupyter-widgets/controls",
      "_view_module_version": "1.5.0",
      "_view_name": "HTMLView",
      "description": "",
      "description_tooltip": null,
      "layout": "IPY_MODEL_84a47c0bdc9f4e15b0c430c93e8fccf5",
      "placeholder": "​",
      "style": "IPY_MODEL_273f74cdec7b4f0bafd2e26d49e01432",
      "value": "Downloading pytorch_model.bin: 100%"
     }
    },
    "de994bdbe468459ebeec16aaf4b83b38": {
     "model_module": "@jupyter-widgets/controls",
     "model_name": "FloatProgressModel",
     "model_module_version": "1.5.0",
     "state": {
      "_dom_classes": [],
      "_model_module": "@jupyter-widgets/controls",
      "_model_module_version": "1.5.0",
      "_model_name": "FloatProgressModel",
      "_view_count": null,
      "_view_module": "@jupyter-widgets/controls",
      "_view_module_version": "1.5.0",
      "_view_name": "ProgressView",
      "bar_style": "success",
      "description": "",
      "description_tooltip": null,
      "layout": "IPY_MODEL_87fa2522484343b3a211e0c681a443fa",
      "max": 453093832,
      "min": 0,
      "orientation": "horizontal",
      "style": "IPY_MODEL_4c4e3938795447c886fb8c9859d530cc",
      "value": 453093832
     }
    },
    "a20c56c47b084b05aebd1449e3e98746": {
     "model_module": "@jupyter-widgets/controls",
     "model_name": "HTMLModel",
     "model_module_version": "1.5.0",
     "state": {
      "_dom_classes": [],
      "_model_module": "@jupyter-widgets/controls",
      "_model_module_version": "1.5.0",
      "_model_name": "HTMLModel",
      "_view_count": null,
      "_view_module": "@jupyter-widgets/controls",
      "_view_module_version": "1.5.0",
      "_view_name": "HTMLView",
      "description": "",
      "description_tooltip": null,
      "layout": "IPY_MODEL_7451cac689a64971a2823a90cb252a6b",
      "placeholder": "​",
      "style": "IPY_MODEL_578cfa3e5ace4024b92aecce2409d9c7",
      "value": " 432M/432M [00:10&lt;00:00, 54.7MB/s]"
     }
    },
    "7dac945482a142f6a2fed4d206b580fc": {
     "model_module": "@jupyter-widgets/base",
     "model_name": "LayoutModel",
     "model_module_version": "1.2.0",
     "state": {
      "_model_module": "@jupyter-widgets/base",
      "_model_module_version": "1.2.0",
      "_model_name": "LayoutModel",
      "_view_count": null,
      "_view_module": "@jupyter-widgets/base",
      "_view_module_version": "1.2.0",
      "_view_name": "LayoutView",
      "align_content": null,
      "align_items": null,
      "align_self": null,
      "border": null,
      "bottom": null,
      "display": null,
      "flex": null,
      "flex_flow": null,
      "grid_area": null,
      "grid_auto_columns": null,
      "grid_auto_flow": null,
      "grid_auto_rows": null,
      "grid_column": null,
      "grid_gap": null,
      "grid_row": null,
      "grid_template_areas": null,
      "grid_template_columns": null,
      "grid_template_rows": null,
      "height": null,
      "justify_content": null,
      "justify_items": null,
      "left": null,
      "margin": null,
      "max_height": null,
      "max_width": null,
      "min_height": null,
      "min_width": null,
      "object_fit": null,
      "object_position": null,
      "order": null,
      "overflow": null,
      "overflow_x": null,
      "overflow_y": null,
      "padding": null,
      "right": null,
      "top": null,
      "visibility": null,
      "width": null
     }
    },
    "84a47c0bdc9f4e15b0c430c93e8fccf5": {
     "model_module": "@jupyter-widgets/base",
     "model_name": "LayoutModel",
     "model_module_version": "1.2.0",
     "state": {
      "_model_module": "@jupyter-widgets/base",
      "_model_module_version": "1.2.0",
      "_model_name": "LayoutModel",
      "_view_count": null,
      "_view_module": "@jupyter-widgets/base",
      "_view_module_version": "1.2.0",
      "_view_name": "LayoutView",
      "align_content": null,
      "align_items": null,
      "align_self": null,
      "border": null,
      "bottom": null,
      "display": null,
      "flex": null,
      "flex_flow": null,
      "grid_area": null,
      "grid_auto_columns": null,
      "grid_auto_flow": null,
      "grid_auto_rows": null,
      "grid_column": null,
      "grid_gap": null,
      "grid_row": null,
      "grid_template_areas": null,
      "grid_template_columns": null,
      "grid_template_rows": null,
      "height": null,
      "justify_content": null,
      "justify_items": null,
      "left": null,
      "margin": null,
      "max_height": null,
      "max_width": null,
      "min_height": null,
      "min_width": null,
      "object_fit": null,
      "object_position": null,
      "order": null,
      "overflow": null,
      "overflow_x": null,
      "overflow_y": null,
      "padding": null,
      "right": null,
      "top": null,
      "visibility": null,
      "width": null
     }
    },
    "273f74cdec7b4f0bafd2e26d49e01432": {
     "model_module": "@jupyter-widgets/controls",
     "model_name": "DescriptionStyleModel",
     "model_module_version": "1.5.0",
     "state": {
      "_model_module": "@jupyter-widgets/controls",
      "_model_module_version": "1.5.0",
      "_model_name": "DescriptionStyleModel",
      "_view_count": null,
      "_view_module": "@jupyter-widgets/base",
      "_view_module_version": "1.2.0",
      "_view_name": "StyleView",
      "description_width": ""
     }
    },
    "87fa2522484343b3a211e0c681a443fa": {
     "model_module": "@jupyter-widgets/base",
     "model_name": "LayoutModel",
     "model_module_version": "1.2.0",
     "state": {
      "_model_module": "@jupyter-widgets/base",
      "_model_module_version": "1.2.0",
      "_model_name": "LayoutModel",
      "_view_count": null,
      "_view_module": "@jupyter-widgets/base",
      "_view_module_version": "1.2.0",
      "_view_name": "LayoutView",
      "align_content": null,
      "align_items": null,
      "align_self": null,
      "border": null,
      "bottom": null,
      "display": null,
      "flex": null,
      "flex_flow": null,
      "grid_area": null,
      "grid_auto_columns": null,
      "grid_auto_flow": null,
      "grid_auto_rows": null,
      "grid_column": null,
      "grid_gap": null,
      "grid_row": null,
      "grid_template_areas": null,
      "grid_template_columns": null,
      "grid_template_rows": null,
      "height": null,
      "justify_content": null,
      "justify_items": null,
      "left": null,
      "margin": null,
      "max_height": null,
      "max_width": null,
      "min_height": null,
      "min_width": null,
      "object_fit": null,
      "object_position": null,
      "order": null,
      "overflow": null,
      "overflow_x": null,
      "overflow_y": null,
      "padding": null,
      "right": null,
      "top": null,
      "visibility": null,
      "width": null
     }
    },
    "4c4e3938795447c886fb8c9859d530cc": {
     "model_module": "@jupyter-widgets/controls",
     "model_name": "ProgressStyleModel",
     "model_module_version": "1.5.0",
     "state": {
      "_model_module": "@jupyter-widgets/controls",
      "_model_module_version": "1.5.0",
      "_model_name": "ProgressStyleModel",
      "_view_count": null,
      "_view_module": "@jupyter-widgets/base",
      "_view_module_version": "1.2.0",
      "_view_name": "StyleView",
      "bar_color": null,
      "description_width": ""
     }
    },
    "7451cac689a64971a2823a90cb252a6b": {
     "model_module": "@jupyter-widgets/base",
     "model_name": "LayoutModel",
     "model_module_version": "1.2.0",
     "state": {
      "_model_module": "@jupyter-widgets/base",
      "_model_module_version": "1.2.0",
      "_model_name": "LayoutModel",
      "_view_count": null,
      "_view_module": "@jupyter-widgets/base",
      "_view_module_version": "1.2.0",
      "_view_name": "LayoutView",
      "align_content": null,
      "align_items": null,
      "align_self": null,
      "border": null,
      "bottom": null,
      "display": null,
      "flex": null,
      "flex_flow": null,
      "grid_area": null,
      "grid_auto_columns": null,
      "grid_auto_flow": null,
      "grid_auto_rows": null,
      "grid_column": null,
      "grid_gap": null,
      "grid_row": null,
      "grid_template_areas": null,
      "grid_template_columns": null,
      "grid_template_rows": null,
      "height": null,
      "justify_content": null,
      "justify_items": null,
      "left": null,
      "margin": null,
      "max_height": null,
      "max_width": null,
      "min_height": null,
      "min_width": null,
      "object_fit": null,
      "object_position": null,
      "order": null,
      "overflow": null,
      "overflow_x": null,
      "overflow_y": null,
      "padding": null,
      "right": null,
      "top": null,
      "visibility": null,
      "width": null
     }
    },
    "578cfa3e5ace4024b92aecce2409d9c7": {
     "model_module": "@jupyter-widgets/controls",
     "model_name": "DescriptionStyleModel",
     "model_module_version": "1.5.0",
     "state": {
      "_model_module": "@jupyter-widgets/controls",
      "_model_module_version": "1.5.0",
      "_model_name": "DescriptionStyleModel",
      "_view_count": null,
      "_view_module": "@jupyter-widgets/base",
      "_view_module_version": "1.2.0",
      "_view_name": "StyleView",
      "description_width": ""
     }
    },
    "d821fd912aaf489aa25fa4f0eab34695": {
     "model_module": "@jupyter-widgets/controls",
     "model_name": "HBoxModel",
     "model_module_version": "1.5.0",
     "state": {
      "_dom_classes": [],
      "_model_module": "@jupyter-widgets/controls",
      "_model_module_version": "1.5.0",
      "_model_name": "HBoxModel",
      "_view_count": null,
      "_view_module": "@jupyter-widgets/controls",
      "_view_module_version": "1.5.0",
      "_view_name": "HBoxView",
      "box_style": "",
      "children": [
       "IPY_MODEL_fe17f5cc98d0459d92482c08aa309121",
       "IPY_MODEL_07b19dcf05c34b8aa48b02fa700e2fd8",
       "IPY_MODEL_8db77e47f8484db9ba66be6ca68bbcc7"
      ],
      "layout": "IPY_MODEL_e79c80ed035e4a458b1b6b5bdb13accd"
     }
    },
    "fe17f5cc98d0459d92482c08aa309121": {
     "model_module": "@jupyter-widgets/controls",
     "model_name": "HTMLModel",
     "model_module_version": "1.5.0",
     "state": {
      "_dom_classes": [],
      "_model_module": "@jupyter-widgets/controls",
      "_model_module_version": "1.5.0",
      "_model_name": "HTMLModel",
      "_view_count": null,
      "_view_module": "@jupyter-widgets/controls",
      "_view_module_version": "1.5.0",
      "_view_name": "HTMLView",
      "description": "",
      "description_tooltip": null,
      "layout": "IPY_MODEL_6b3ffd1e98624dd884d4962967f887f5",
      "placeholder": "​",
      "style": "IPY_MODEL_59ec90b505ef4200b3631562cd055dde",
      "value": "Sanity Checking DataLoader 0: 100%"
     }
    },
    "07b19dcf05c34b8aa48b02fa700e2fd8": {
     "model_module": "@jupyter-widgets/controls",
     "model_name": "FloatProgressModel",
     "model_module_version": "1.5.0",
     "state": {
      "_dom_classes": [],
      "_model_module": "@jupyter-widgets/controls",
      "_model_module_version": "1.5.0",
      "_model_name": "FloatProgressModel",
      "_view_count": null,
      "_view_module": "@jupyter-widgets/controls",
      "_view_module_version": "1.5.0",
      "_view_name": "ProgressView",
      "bar_style": "",
      "description": "",
      "description_tooltip": null,
      "layout": "IPY_MODEL_441d290b9fa84c1292b18c7a287112bf",
      "max": 2,
      "min": 0,
      "orientation": "horizontal",
      "style": "IPY_MODEL_bc302763c2bd4d0797c69392c270a91e",
      "value": 2
     }
    },
    "8db77e47f8484db9ba66be6ca68bbcc7": {
     "model_module": "@jupyter-widgets/controls",
     "model_name": "HTMLModel",
     "model_module_version": "1.5.0",
     "state": {
      "_dom_classes": [],
      "_model_module": "@jupyter-widgets/controls",
      "_model_module_version": "1.5.0",
      "_model_name": "HTMLModel",
      "_view_count": null,
      "_view_module": "@jupyter-widgets/controls",
      "_view_module_version": "1.5.0",
      "_view_name": "HTMLView",
      "description": "",
      "description_tooltip": null,
      "layout": "IPY_MODEL_5d58e95383124028b3b62408a6257e44",
      "placeholder": "​",
      "style": "IPY_MODEL_f922836bb7754592a5f45996ec6ab8b7",
      "value": " 2/2 [00:06&lt;00:00,  3.31s/it]"
     }
    },
    "e79c80ed035e4a458b1b6b5bdb13accd": {
     "model_module": "@jupyter-widgets/base",
     "model_name": "LayoutModel",
     "model_module_version": "1.2.0",
     "state": {
      "_model_module": "@jupyter-widgets/base",
      "_model_module_version": "1.2.0",
      "_model_name": "LayoutModel",
      "_view_count": null,
      "_view_module": "@jupyter-widgets/base",
      "_view_module_version": "1.2.0",
      "_view_name": "LayoutView",
      "align_content": null,
      "align_items": null,
      "align_self": null,
      "border": null,
      "bottom": null,
      "display": "inline-flex",
      "flex": null,
      "flex_flow": "row wrap",
      "grid_area": null,
      "grid_auto_columns": null,
      "grid_auto_flow": null,
      "grid_auto_rows": null,
      "grid_column": null,
      "grid_gap": null,
      "grid_row": null,
      "grid_template_areas": null,
      "grid_template_columns": null,
      "grid_template_rows": null,
      "height": null,
      "justify_content": null,
      "justify_items": null,
      "left": null,
      "margin": null,
      "max_height": null,
      "max_width": null,
      "min_height": null,
      "min_width": null,
      "object_fit": null,
      "object_position": null,
      "order": null,
      "overflow": null,
      "overflow_x": null,
      "overflow_y": null,
      "padding": null,
      "right": null,
      "top": null,
      "visibility": null,
      "width": "100%"
     }
    },
    "6b3ffd1e98624dd884d4962967f887f5": {
     "model_module": "@jupyter-widgets/base",
     "model_name": "LayoutModel",
     "model_module_version": "1.2.0",
     "state": {
      "_model_module": "@jupyter-widgets/base",
      "_model_module_version": "1.2.0",
      "_model_name": "LayoutModel",
      "_view_count": null,
      "_view_module": "@jupyter-widgets/base",
      "_view_module_version": "1.2.0",
      "_view_name": "LayoutView",
      "align_content": null,
      "align_items": null,
      "align_self": null,
      "border": null,
      "bottom": null,
      "display": null,
      "flex": null,
      "flex_flow": null,
      "grid_area": null,
      "grid_auto_columns": null,
      "grid_auto_flow": null,
      "grid_auto_rows": null,
      "grid_column": null,
      "grid_gap": null,
      "grid_row": null,
      "grid_template_areas": null,
      "grid_template_columns": null,
      "grid_template_rows": null,
      "height": null,
      "justify_content": null,
      "justify_items": null,
      "left": null,
      "margin": null,
      "max_height": null,
      "max_width": null,
      "min_height": null,
      "min_width": null,
      "object_fit": null,
      "object_position": null,
      "order": null,
      "overflow": null,
      "overflow_x": null,
      "overflow_y": null,
      "padding": null,
      "right": null,
      "top": null,
      "visibility": null,
      "width": null
     }
    },
    "59ec90b505ef4200b3631562cd055dde": {
     "model_module": "@jupyter-widgets/controls",
     "model_name": "DescriptionStyleModel",
     "model_module_version": "1.5.0",
     "state": {
      "_model_module": "@jupyter-widgets/controls",
      "_model_module_version": "1.5.0",
      "_model_name": "DescriptionStyleModel",
      "_view_count": null,
      "_view_module": "@jupyter-widgets/base",
      "_view_module_version": "1.2.0",
      "_view_name": "StyleView",
      "description_width": ""
     }
    },
    "441d290b9fa84c1292b18c7a287112bf": {
     "model_module": "@jupyter-widgets/base",
     "model_name": "LayoutModel",
     "model_module_version": "1.2.0",
     "state": {
      "_model_module": "@jupyter-widgets/base",
      "_model_module_version": "1.2.0",
      "_model_name": "LayoutModel",
      "_view_count": null,
      "_view_module": "@jupyter-widgets/base",
      "_view_module_version": "1.2.0",
      "_view_name": "LayoutView",
      "align_content": null,
      "align_items": null,
      "align_self": null,
      "border": null,
      "bottom": null,
      "display": null,
      "flex": "2",
      "flex_flow": null,
      "grid_area": null,
      "grid_auto_columns": null,
      "grid_auto_flow": null,
      "grid_auto_rows": null,
      "grid_column": null,
      "grid_gap": null,
      "grid_row": null,
      "grid_template_areas": null,
      "grid_template_columns": null,
      "grid_template_rows": null,
      "height": null,
      "justify_content": null,
      "justify_items": null,
      "left": null,
      "margin": null,
      "max_height": null,
      "max_width": null,
      "min_height": null,
      "min_width": null,
      "object_fit": null,
      "object_position": null,
      "order": null,
      "overflow": null,
      "overflow_x": null,
      "overflow_y": null,
      "padding": null,
      "right": null,
      "top": null,
      "visibility": null,
      "width": null
     }
    },
    "bc302763c2bd4d0797c69392c270a91e": {
     "model_module": "@jupyter-widgets/controls",
     "model_name": "ProgressStyleModel",
     "model_module_version": "1.5.0",
     "state": {
      "_model_module": "@jupyter-widgets/controls",
      "_model_module_version": "1.5.0",
      "_model_name": "ProgressStyleModel",
      "_view_count": null,
      "_view_module": "@jupyter-widgets/base",
      "_view_module_version": "1.2.0",
      "_view_name": "StyleView",
      "bar_color": null,
      "description_width": ""
     }
    },
    "5d58e95383124028b3b62408a6257e44": {
     "model_module": "@jupyter-widgets/base",
     "model_name": "LayoutModel",
     "model_module_version": "1.2.0",
     "state": {
      "_model_module": "@jupyter-widgets/base",
      "_model_module_version": "1.2.0",
      "_model_name": "LayoutModel",
      "_view_count": null,
      "_view_module": "@jupyter-widgets/base",
      "_view_module_version": "1.2.0",
      "_view_name": "LayoutView",
      "align_content": null,
      "align_items": null,
      "align_self": null,
      "border": null,
      "bottom": null,
      "display": null,
      "flex": null,
      "flex_flow": null,
      "grid_area": null,
      "grid_auto_columns": null,
      "grid_auto_flow": null,
      "grid_auto_rows": null,
      "grid_column": null,
      "grid_gap": null,
      "grid_row": null,
      "grid_template_areas": null,
      "grid_template_columns": null,
      "grid_template_rows": null,
      "height": null,
      "justify_content": null,
      "justify_items": null,
      "left": null,
      "margin": null,
      "max_height": null,
      "max_width": null,
      "min_height": null,
      "min_width": null,
      "object_fit": null,
      "object_position": null,
      "order": null,
      "overflow": null,
      "overflow_x": null,
      "overflow_y": null,
      "padding": null,
      "right": null,
      "top": null,
      "visibility": null,
      "width": null
     }
    },
    "f922836bb7754592a5f45996ec6ab8b7": {
     "model_module": "@jupyter-widgets/controls",
     "model_name": "DescriptionStyleModel",
     "model_module_version": "1.5.0",
     "state": {
      "_model_module": "@jupyter-widgets/controls",
      "_model_module_version": "1.5.0",
      "_model_name": "DescriptionStyleModel",
      "_view_count": null,
      "_view_module": "@jupyter-widgets/base",
      "_view_module_version": "1.2.0",
      "_view_name": "StyleView",
      "description_width": ""
     }
    },
    "154c05b9a9ee47a095c1740defad80fd": {
     "model_module": "@jupyter-widgets/controls",
     "model_name": "HBoxModel",
     "model_module_version": "1.5.0",
     "state": {
      "_dom_classes": [],
      "_model_module": "@jupyter-widgets/controls",
      "_model_module_version": "1.5.0",
      "_model_name": "HBoxModel",
      "_view_count": null,
      "_view_module": "@jupyter-widgets/controls",
      "_view_module_version": "1.5.0",
      "_view_name": "HBoxView",
      "box_style": "",
      "children": [
       "IPY_MODEL_733ce2dc3da94c18a48488c441afea50",
       "IPY_MODEL_480807e423034fc58fcc1965194c5e29",
       "IPY_MODEL_9c1c7a6679a64480abc736e08e0dae29"
      ],
      "layout": "IPY_MODEL_04dbf8c2df70482ba7825adb0aa50264"
     }
    },
    "733ce2dc3da94c18a48488c441afea50": {
     "model_module": "@jupyter-widgets/controls",
     "model_name": "HTMLModel",
     "model_module_version": "1.5.0",
     "state": {
      "_dom_classes": [],
      "_model_module": "@jupyter-widgets/controls",
      "_model_module_version": "1.5.0",
      "_model_name": "HTMLModel",
      "_view_count": null,
      "_view_module": "@jupyter-widgets/controls",
      "_view_module_version": "1.5.0",
      "_view_name": "HTMLView",
      "description": "",
      "description_tooltip": null,
      "layout": "IPY_MODEL_4e1f65d154f149cc84f1605db346cb77",
      "placeholder": "​",
      "style": "IPY_MODEL_b8dc4c037fd04e19bcad45d3644c71f7",
      "value": "Epoch 1: 100%"
     }
    },
    "480807e423034fc58fcc1965194c5e29": {
     "model_module": "@jupyter-widgets/controls",
     "model_name": "FloatProgressModel",
     "model_module_version": "1.5.0",
     "state": {
      "_dom_classes": [],
      "_model_module": "@jupyter-widgets/controls",
      "_model_module_version": "1.5.0",
      "_model_name": "FloatProgressModel",
      "_view_count": null,
      "_view_module": "@jupyter-widgets/controls",
      "_view_module_version": "1.5.0",
      "_view_name": "ProgressView",
      "bar_style": "success",
      "description": "",
      "description_tooltip": null,
      "layout": "IPY_MODEL_0dec1f2de5824d6dbc5aa168925b61d3",
      "max": 100,
      "min": 0,
      "orientation": "horizontal",
      "style": "IPY_MODEL_90ba630c70a5452b92076908374c7e8d",
      "value": 100
     }
    },
    "9c1c7a6679a64480abc736e08e0dae29": {
     "model_module": "@jupyter-widgets/controls",
     "model_name": "HTMLModel",
     "model_module_version": "1.5.0",
     "state": {
      "_dom_classes": [],
      "_model_module": "@jupyter-widgets/controls",
      "_model_module_version": "1.5.0",
      "_model_name": "HTMLModel",
      "_view_count": null,
      "_view_module": "@jupyter-widgets/controls",
      "_view_module_version": "1.5.0",
      "_view_name": "HTMLView",
      "description": "",
      "description_tooltip": null,
      "layout": "IPY_MODEL_b297e9bf401d4d84a357ac2fd2b5f1f1",
      "placeholder": "​",
      "style": "IPY_MODEL_5396a1f95be443a1a84255849774d23f",
      "value": " 100/100 [02:43&lt;00:00,  1.63s/it, loss=1.41, v_num=1, train_ce_loss=1.430, train_acc=0.807, val_ce_loss=3.060, val_acc=0.683]"
     }
    },
    "04dbf8c2df70482ba7825adb0aa50264": {
     "model_module": "@jupyter-widgets/base",
     "model_name": "LayoutModel",
     "model_module_version": "1.2.0",
     "state": {
      "_model_module": "@jupyter-widgets/base",
      "_model_module_version": "1.2.0",
      "_model_name": "LayoutModel",
      "_view_count": null,
      "_view_module": "@jupyter-widgets/base",
      "_view_module_version": "1.2.0",
      "_view_name": "LayoutView",
      "align_content": null,
      "align_items": null,
      "align_self": null,
      "border": null,
      "bottom": null,
      "display": "inline-flex",
      "flex": null,
      "flex_flow": "row wrap",
      "grid_area": null,
      "grid_auto_columns": null,
      "grid_auto_flow": null,
      "grid_auto_rows": null,
      "grid_column": null,
      "grid_gap": null,
      "grid_row": null,
      "grid_template_areas": null,
      "grid_template_columns": null,
      "grid_template_rows": null,
      "height": null,
      "justify_content": null,
      "justify_items": null,
      "left": null,
      "margin": null,
      "max_height": null,
      "max_width": null,
      "min_height": null,
      "min_width": null,
      "object_fit": null,
      "object_position": null,
      "order": null,
      "overflow": null,
      "overflow_x": null,
      "overflow_y": null,
      "padding": null,
      "right": null,
      "top": null,
      "visibility": null,
      "width": "100%"
     }
    },
    "4e1f65d154f149cc84f1605db346cb77": {
     "model_module": "@jupyter-widgets/base",
     "model_name": "LayoutModel",
     "model_module_version": "1.2.0",
     "state": {
      "_model_module": "@jupyter-widgets/base",
      "_model_module_version": "1.2.0",
      "_model_name": "LayoutModel",
      "_view_count": null,
      "_view_module": "@jupyter-widgets/base",
      "_view_module_version": "1.2.0",
      "_view_name": "LayoutView",
      "align_content": null,
      "align_items": null,
      "align_self": null,
      "border": null,
      "bottom": null,
      "display": null,
      "flex": null,
      "flex_flow": null,
      "grid_area": null,
      "grid_auto_columns": null,
      "grid_auto_flow": null,
      "grid_auto_rows": null,
      "grid_column": null,
      "grid_gap": null,
      "grid_row": null,
      "grid_template_areas": null,
      "grid_template_columns": null,
      "grid_template_rows": null,
      "height": null,
      "justify_content": null,
      "justify_items": null,
      "left": null,
      "margin": null,
      "max_height": null,
      "max_width": null,
      "min_height": null,
      "min_width": null,
      "object_fit": null,
      "object_position": null,
      "order": null,
      "overflow": null,
      "overflow_x": null,
      "overflow_y": null,
      "padding": null,
      "right": null,
      "top": null,
      "visibility": null,
      "width": null
     }
    },
    "b8dc4c037fd04e19bcad45d3644c71f7": {
     "model_module": "@jupyter-widgets/controls",
     "model_name": "DescriptionStyleModel",
     "model_module_version": "1.5.0",
     "state": {
      "_model_module": "@jupyter-widgets/controls",
      "_model_module_version": "1.5.0",
      "_model_name": "DescriptionStyleModel",
      "_view_count": null,
      "_view_module": "@jupyter-widgets/base",
      "_view_module_version": "1.2.0",
      "_view_name": "StyleView",
      "description_width": ""
     }
    },
    "0dec1f2de5824d6dbc5aa168925b61d3": {
     "model_module": "@jupyter-widgets/base",
     "model_name": "LayoutModel",
     "model_module_version": "1.2.0",
     "state": {
      "_model_module": "@jupyter-widgets/base",
      "_model_module_version": "1.2.0",
      "_model_name": "LayoutModel",
      "_view_count": null,
      "_view_module": "@jupyter-widgets/base",
      "_view_module_version": "1.2.0",
      "_view_name": "LayoutView",
      "align_content": null,
      "align_items": null,
      "align_self": null,
      "border": null,
      "bottom": null,
      "display": null,
      "flex": "2",
      "flex_flow": null,
      "grid_area": null,
      "grid_auto_columns": null,
      "grid_auto_flow": null,
      "grid_auto_rows": null,
      "grid_column": null,
      "grid_gap": null,
      "grid_row": null,
      "grid_template_areas": null,
      "grid_template_columns": null,
      "grid_template_rows": null,
      "height": null,
      "justify_content": null,
      "justify_items": null,
      "left": null,
      "margin": null,
      "max_height": null,
      "max_width": null,
      "min_height": null,
      "min_width": null,
      "object_fit": null,
      "object_position": null,
      "order": null,
      "overflow": null,
      "overflow_x": null,
      "overflow_y": null,
      "padding": null,
      "right": null,
      "top": null,
      "visibility": null,
      "width": null
     }
    },
    "90ba630c70a5452b92076908374c7e8d": {
     "model_module": "@jupyter-widgets/controls",
     "model_name": "ProgressStyleModel",
     "model_module_version": "1.5.0",
     "state": {
      "_model_module": "@jupyter-widgets/controls",
      "_model_module_version": "1.5.0",
      "_model_name": "ProgressStyleModel",
      "_view_count": null,
      "_view_module": "@jupyter-widgets/base",
      "_view_module_version": "1.2.0",
      "_view_name": "StyleView",
      "bar_color": null,
      "description_width": ""
     }
    },
    "b297e9bf401d4d84a357ac2fd2b5f1f1": {
     "model_module": "@jupyter-widgets/base",
     "model_name": "LayoutModel",
     "model_module_version": "1.2.0",
     "state": {
      "_model_module": "@jupyter-widgets/base",
      "_model_module_version": "1.2.0",
      "_model_name": "LayoutModel",
      "_view_count": null,
      "_view_module": "@jupyter-widgets/base",
      "_view_module_version": "1.2.0",
      "_view_name": "LayoutView",
      "align_content": null,
      "align_items": null,
      "align_self": null,
      "border": null,
      "bottom": null,
      "display": null,
      "flex": null,
      "flex_flow": null,
      "grid_area": null,
      "grid_auto_columns": null,
      "grid_auto_flow": null,
      "grid_auto_rows": null,
      "grid_column": null,
      "grid_gap": null,
      "grid_row": null,
      "grid_template_areas": null,
      "grid_template_columns": null,
      "grid_template_rows": null,
      "height": null,
      "justify_content": null,
      "justify_items": null,
      "left": null,
      "margin": null,
      "max_height": null,
      "max_width": null,
      "min_height": null,
      "min_width": null,
      "object_fit": null,
      "object_position": null,
      "order": null,
      "overflow": null,
      "overflow_x": null,
      "overflow_y": null,
      "padding": null,
      "right": null,
      "top": null,
      "visibility": null,
      "width": null
     }
    },
    "5396a1f95be443a1a84255849774d23f": {
     "model_module": "@jupyter-widgets/controls",
     "model_name": "DescriptionStyleModel",
     "model_module_version": "1.5.0",
     "state": {
      "_model_module": "@jupyter-widgets/controls",
      "_model_module_version": "1.5.0",
      "_model_name": "DescriptionStyleModel",
      "_view_count": null,
      "_view_module": "@jupyter-widgets/base",
      "_view_module_version": "1.2.0",
      "_view_name": "StyleView",
      "description_width": ""
     }
    },
    "472cbb1819bd4117a4bbfd5d78c8f385": {
     "model_module": "@jupyter-widgets/controls",
     "model_name": "HBoxModel",
     "model_module_version": "1.5.0",
     "state": {
      "_dom_classes": [],
      "_model_module": "@jupyter-widgets/controls",
      "_model_module_version": "1.5.0",
      "_model_name": "HBoxModel",
      "_view_count": null,
      "_view_module": "@jupyter-widgets/controls",
      "_view_module_version": "1.5.0",
      "_view_name": "HBoxView",
      "box_style": "",
      "children": [
       "IPY_MODEL_fa94050e3b3142ed8f91afa6c823168c",
       "IPY_MODEL_398da57f32634ca0a5a6f7cf27ad0b0e",
       "IPY_MODEL_3103ab273c5b44408cfc9b0bd1461303"
      ],
      "layout": "IPY_MODEL_6abd87d1403642268d58079a5ba15397"
     }
    },
    "fa94050e3b3142ed8f91afa6c823168c": {
     "model_module": "@jupyter-widgets/controls",
     "model_name": "HTMLModel",
     "model_module_version": "1.5.0",
     "state": {
      "_dom_classes": [],
      "_model_module": "@jupyter-widgets/controls",
      "_model_module_version": "1.5.0",
      "_model_name": "HTMLModel",
      "_view_count": null,
      "_view_module": "@jupyter-widgets/controls",
      "_view_module_version": "1.5.0",
      "_view_name": "HTMLView",
      "description": "",
      "description_tooltip": null,
      "layout": "IPY_MODEL_d0d6c0dfb7ff463facdd6eff2305f5ea",
      "placeholder": "​",
      "style": "IPY_MODEL_40cbbd69a932419daefea1a990eb7d7c",
      "value": "Validation DataLoader 0: 100%"
     }
    },
    "398da57f32634ca0a5a6f7cf27ad0b0e": {
     "model_module": "@jupyter-widgets/controls",
     "model_name": "FloatProgressModel",
     "model_module_version": "1.5.0",
     "state": {
      "_dom_classes": [],
      "_model_module": "@jupyter-widgets/controls",
      "_model_module_version": "1.5.0",
      "_model_name": "FloatProgressModel",
      "_view_count": null,
      "_view_module": "@jupyter-widgets/controls",
      "_view_module_version": "1.5.0",
      "_view_name": "ProgressView",
      "bar_style": "",
      "description": "",
      "description_tooltip": null,
      "layout": "IPY_MODEL_b16cdeae42304a479fe5a9405a89713c",
      "max": 25,
      "min": 0,
      "orientation": "horizontal",
      "style": "IPY_MODEL_0b0ff675d0c841dea9a40b1716fa4eda",
      "value": 25
     }
    },
    "3103ab273c5b44408cfc9b0bd1461303": {
     "model_module": "@jupyter-widgets/controls",
     "model_name": "HTMLModel",
     "model_module_version": "1.5.0",
     "state": {
      "_dom_classes": [],
      "_model_module": "@jupyter-widgets/controls",
      "_model_module_version": "1.5.0",
      "_model_name": "HTMLModel",
      "_view_count": null,
      "_view_module": "@jupyter-widgets/controls",
      "_view_module_version": "1.5.0",
      "_view_name": "HTMLView",
      "description": "",
      "description_tooltip": null,
      "layout": "IPY_MODEL_1314bcced60441249ebb9f97a68a33fb",
      "placeholder": "​",
      "style": "IPY_MODEL_26b1b6cda99846fcac333cbf9729cfad",
      "value": " 25/25 [00:07&lt;00:00,  3.27it/s]"
     }
    },
    "6abd87d1403642268d58079a5ba15397": {
     "model_module": "@jupyter-widgets/base",
     "model_name": "LayoutModel",
     "model_module_version": "1.2.0",
     "state": {
      "_model_module": "@jupyter-widgets/base",
      "_model_module_version": "1.2.0",
      "_model_name": "LayoutModel",
      "_view_count": null,
      "_view_module": "@jupyter-widgets/base",
      "_view_module_version": "1.2.0",
      "_view_name": "LayoutView",
      "align_content": null,
      "align_items": null,
      "align_self": null,
      "border": null,
      "bottom": null,
      "display": "inline-flex",
      "flex": null,
      "flex_flow": "row wrap",
      "grid_area": null,
      "grid_auto_columns": null,
      "grid_auto_flow": null,
      "grid_auto_rows": null,
      "grid_column": null,
      "grid_gap": null,
      "grid_row": null,
      "grid_template_areas": null,
      "grid_template_columns": null,
      "grid_template_rows": null,
      "height": null,
      "justify_content": null,
      "justify_items": null,
      "left": null,
      "margin": null,
      "max_height": null,
      "max_width": null,
      "min_height": null,
      "min_width": null,
      "object_fit": null,
      "object_position": null,
      "order": null,
      "overflow": null,
      "overflow_x": null,
      "overflow_y": null,
      "padding": null,
      "right": null,
      "top": null,
      "visibility": null,
      "width": "100%"
     }
    },
    "d0d6c0dfb7ff463facdd6eff2305f5ea": {
     "model_module": "@jupyter-widgets/base",
     "model_name": "LayoutModel",
     "model_module_version": "1.2.0",
     "state": {
      "_model_module": "@jupyter-widgets/base",
      "_model_module_version": "1.2.0",
      "_model_name": "LayoutModel",
      "_view_count": null,
      "_view_module": "@jupyter-widgets/base",
      "_view_module_version": "1.2.0",
      "_view_name": "LayoutView",
      "align_content": null,
      "align_items": null,
      "align_self": null,
      "border": null,
      "bottom": null,
      "display": null,
      "flex": null,
      "flex_flow": null,
      "grid_area": null,
      "grid_auto_columns": null,
      "grid_auto_flow": null,
      "grid_auto_rows": null,
      "grid_column": null,
      "grid_gap": null,
      "grid_row": null,
      "grid_template_areas": null,
      "grid_template_columns": null,
      "grid_template_rows": null,
      "height": null,
      "justify_content": null,
      "justify_items": null,
      "left": null,
      "margin": null,
      "max_height": null,
      "max_width": null,
      "min_height": null,
      "min_width": null,
      "object_fit": null,
      "object_position": null,
      "order": null,
      "overflow": null,
      "overflow_x": null,
      "overflow_y": null,
      "padding": null,
      "right": null,
      "top": null,
      "visibility": null,
      "width": null
     }
    },
    "40cbbd69a932419daefea1a990eb7d7c": {
     "model_module": "@jupyter-widgets/controls",
     "model_name": "DescriptionStyleModel",
     "model_module_version": "1.5.0",
     "state": {
      "_model_module": "@jupyter-widgets/controls",
      "_model_module_version": "1.5.0",
      "_model_name": "DescriptionStyleModel",
      "_view_count": null,
      "_view_module": "@jupyter-widgets/base",
      "_view_module_version": "1.2.0",
      "_view_name": "StyleView",
      "description_width": ""
     }
    },
    "b16cdeae42304a479fe5a9405a89713c": {
     "model_module": "@jupyter-widgets/base",
     "model_name": "LayoutModel",
     "model_module_version": "1.2.0",
     "state": {
      "_model_module": "@jupyter-widgets/base",
      "_model_module_version": "1.2.0",
      "_model_name": "LayoutModel",
      "_view_count": null,
      "_view_module": "@jupyter-widgets/base",
      "_view_module_version": "1.2.0",
      "_view_name": "LayoutView",
      "align_content": null,
      "align_items": null,
      "align_self": null,
      "border": null,
      "bottom": null,
      "display": null,
      "flex": "2",
      "flex_flow": null,
      "grid_area": null,
      "grid_auto_columns": null,
      "grid_auto_flow": null,
      "grid_auto_rows": null,
      "grid_column": null,
      "grid_gap": null,
      "grid_row": null,
      "grid_template_areas": null,
      "grid_template_columns": null,
      "grid_template_rows": null,
      "height": null,
      "justify_content": null,
      "justify_items": null,
      "left": null,
      "margin": null,
      "max_height": null,
      "max_width": null,
      "min_height": null,
      "min_width": null,
      "object_fit": null,
      "object_position": null,
      "order": null,
      "overflow": null,
      "overflow_x": null,
      "overflow_y": null,
      "padding": null,
      "right": null,
      "top": null,
      "visibility": null,
      "width": null
     }
    },
    "0b0ff675d0c841dea9a40b1716fa4eda": {
     "model_module": "@jupyter-widgets/controls",
     "model_name": "ProgressStyleModel",
     "model_module_version": "1.5.0",
     "state": {
      "_model_module": "@jupyter-widgets/controls",
      "_model_module_version": "1.5.0",
      "_model_name": "ProgressStyleModel",
      "_view_count": null,
      "_view_module": "@jupyter-widgets/base",
      "_view_module_version": "1.2.0",
      "_view_name": "StyleView",
      "bar_color": null,
      "description_width": ""
     }
    },
    "1314bcced60441249ebb9f97a68a33fb": {
     "model_module": "@jupyter-widgets/base",
     "model_name": "LayoutModel",
     "model_module_version": "1.2.0",
     "state": {
      "_model_module": "@jupyter-widgets/base",
      "_model_module_version": "1.2.0",
      "_model_name": "LayoutModel",
      "_view_count": null,
      "_view_module": "@jupyter-widgets/base",
      "_view_module_version": "1.2.0",
      "_view_name": "LayoutView",
      "align_content": null,
      "align_items": null,
      "align_self": null,
      "border": null,
      "bottom": null,
      "display": null,
      "flex": null,
      "flex_flow": null,
      "grid_area": null,
      "grid_auto_columns": null,
      "grid_auto_flow": null,
      "grid_auto_rows": null,
      "grid_column": null,
      "grid_gap": null,
      "grid_row": null,
      "grid_template_areas": null,
      "grid_template_columns": null,
      "grid_template_rows": null,
      "height": null,
      "justify_content": null,
      "justify_items": null,
      "left": null,
      "margin": null,
      "max_height": null,
      "max_width": null,
      "min_height": null,
      "min_width": null,
      "object_fit": null,
      "object_position": null,
      "order": null,
      "overflow": null,
      "overflow_x": null,
      "overflow_y": null,
      "padding": null,
      "right": null,
      "top": null,
      "visibility": null,
      "width": null
     }
    },
    "26b1b6cda99846fcac333cbf9729cfad": {
     "model_module": "@jupyter-widgets/controls",
     "model_name": "DescriptionStyleModel",
     "model_module_version": "1.5.0",
     "state": {
      "_model_module": "@jupyter-widgets/controls",
      "_model_module_version": "1.5.0",
      "_model_name": "DescriptionStyleModel",
      "_view_count": null,
      "_view_module": "@jupyter-widgets/base",
      "_view_module_version": "1.2.0",
      "_view_name": "StyleView",
      "description_width": ""
     }
    },
    "8d33362693104f74a2022c3f200e4522": {
     "model_module": "@jupyter-widgets/controls",
     "model_name": "HBoxModel",
     "model_module_version": "1.5.0",
     "state": {
      "_dom_classes": [],
      "_model_module": "@jupyter-widgets/controls",
      "_model_module_version": "1.5.0",
      "_model_name": "HBoxModel",
      "_view_count": null,
      "_view_module": "@jupyter-widgets/controls",
      "_view_module_version": "1.5.0",
      "_view_name": "HBoxView",
      "box_style": "",
      "children": [
       "IPY_MODEL_7106bc1e8094438dad13d03fa2ce474a",
       "IPY_MODEL_e272098bcf8946249ae929e2cc3c8293",
       "IPY_MODEL_d3ebb388e8984987b14459667259c3b8"
      ],
      "layout": "IPY_MODEL_3df2633c1e0144d3806ea6ea0c5f0b76"
     }
    },
    "7106bc1e8094438dad13d03fa2ce474a": {
     "model_module": "@jupyter-widgets/controls",
     "model_name": "HTMLModel",
     "model_module_version": "1.5.0",
     "state": {
      "_dom_classes": [],
      "_model_module": "@jupyter-widgets/controls",
      "_model_module_version": "1.5.0",
      "_model_name": "HTMLModel",
      "_view_count": null,
      "_view_module": "@jupyter-widgets/controls",
      "_view_module_version": "1.5.0",
      "_view_name": "HTMLView",
      "description": "",
      "description_tooltip": null,
      "layout": "IPY_MODEL_4a32719a86d84a6cb078b0967aa3bc3e",
      "placeholder": "​",
      "style": "IPY_MODEL_0cff2e01f5a2401c86550f2e14572200",
      "value": "Validation DataLoader 0: 100%"
     }
    },
    "e272098bcf8946249ae929e2cc3c8293": {
     "model_module": "@jupyter-widgets/controls",
     "model_name": "FloatProgressModel",
     "model_module_version": "1.5.0",
     "state": {
      "_dom_classes": [],
      "_model_module": "@jupyter-widgets/controls",
      "_model_module_version": "1.5.0",
      "_model_name": "FloatProgressModel",
      "_view_count": null,
      "_view_module": "@jupyter-widgets/controls",
      "_view_module_version": "1.5.0",
      "_view_name": "ProgressView",
      "bar_style": "",
      "description": "",
      "description_tooltip": null,
      "layout": "IPY_MODEL_ef1fd9b207704bf9acfffe2b1604b9c4",
      "max": 25,
      "min": 0,
      "orientation": "horizontal",
      "style": "IPY_MODEL_105f6cb1a0b5418ca07b9fe672c66bd6",
      "value": 25
     }
    },
    "d3ebb388e8984987b14459667259c3b8": {
     "model_module": "@jupyter-widgets/controls",
     "model_name": "HTMLModel",
     "model_module_version": "1.5.0",
     "state": {
      "_dom_classes": [],
      "_model_module": "@jupyter-widgets/controls",
      "_model_module_version": "1.5.0",
      "_model_name": "HTMLModel",
      "_view_count": null,
      "_view_module": "@jupyter-widgets/controls",
      "_view_module_version": "1.5.0",
      "_view_name": "HTMLView",
      "description": "",
      "description_tooltip": null,
      "layout": "IPY_MODEL_8cdbd4fa86ce4cb9afeaba253a0991fc",
      "placeholder": "​",
      "style": "IPY_MODEL_7879607556ae4c0b83d17fda99d7985d",
      "value": " 25/25 [00:07&lt;00:00,  3.33it/s]"
     }
    },
    "3df2633c1e0144d3806ea6ea0c5f0b76": {
     "model_module": "@jupyter-widgets/base",
     "model_name": "LayoutModel",
     "model_module_version": "1.2.0",
     "state": {
      "_model_module": "@jupyter-widgets/base",
      "_model_module_version": "1.2.0",
      "_model_name": "LayoutModel",
      "_view_count": null,
      "_view_module": "@jupyter-widgets/base",
      "_view_module_version": "1.2.0",
      "_view_name": "LayoutView",
      "align_content": null,
      "align_items": null,
      "align_self": null,
      "border": null,
      "bottom": null,
      "display": "inline-flex",
      "flex": null,
      "flex_flow": "row wrap",
      "grid_area": null,
      "grid_auto_columns": null,
      "grid_auto_flow": null,
      "grid_auto_rows": null,
      "grid_column": null,
      "grid_gap": null,
      "grid_row": null,
      "grid_template_areas": null,
      "grid_template_columns": null,
      "grid_template_rows": null,
      "height": null,
      "justify_content": null,
      "justify_items": null,
      "left": null,
      "margin": null,
      "max_height": null,
      "max_width": null,
      "min_height": null,
      "min_width": null,
      "object_fit": null,
      "object_position": null,
      "order": null,
      "overflow": null,
      "overflow_x": null,
      "overflow_y": null,
      "padding": null,
      "right": null,
      "top": null,
      "visibility": null,
      "width": "100%"
     }
    },
    "4a32719a86d84a6cb078b0967aa3bc3e": {
     "model_module": "@jupyter-widgets/base",
     "model_name": "LayoutModel",
     "model_module_version": "1.2.0",
     "state": {
      "_model_module": "@jupyter-widgets/base",
      "_model_module_version": "1.2.0",
      "_model_name": "LayoutModel",
      "_view_count": null,
      "_view_module": "@jupyter-widgets/base",
      "_view_module_version": "1.2.0",
      "_view_name": "LayoutView",
      "align_content": null,
      "align_items": null,
      "align_self": null,
      "border": null,
      "bottom": null,
      "display": null,
      "flex": null,
      "flex_flow": null,
      "grid_area": null,
      "grid_auto_columns": null,
      "grid_auto_flow": null,
      "grid_auto_rows": null,
      "grid_column": null,
      "grid_gap": null,
      "grid_row": null,
      "grid_template_areas": null,
      "grid_template_columns": null,
      "grid_template_rows": null,
      "height": null,
      "justify_content": null,
      "justify_items": null,
      "left": null,
      "margin": null,
      "max_height": null,
      "max_width": null,
      "min_height": null,
      "min_width": null,
      "object_fit": null,
      "object_position": null,
      "order": null,
      "overflow": null,
      "overflow_x": null,
      "overflow_y": null,
      "padding": null,
      "right": null,
      "top": null,
      "visibility": null,
      "width": null
     }
    },
    "0cff2e01f5a2401c86550f2e14572200": {
     "model_module": "@jupyter-widgets/controls",
     "model_name": "DescriptionStyleModel",
     "model_module_version": "1.5.0",
     "state": {
      "_model_module": "@jupyter-widgets/controls",
      "_model_module_version": "1.5.0",
      "_model_name": "DescriptionStyleModel",
      "_view_count": null,
      "_view_module": "@jupyter-widgets/base",
      "_view_module_version": "1.2.0",
      "_view_name": "StyleView",
      "description_width": ""
     }
    },
    "ef1fd9b207704bf9acfffe2b1604b9c4": {
     "model_module": "@jupyter-widgets/base",
     "model_name": "LayoutModel",
     "model_module_version": "1.2.0",
     "state": {
      "_model_module": "@jupyter-widgets/base",
      "_model_module_version": "1.2.0",
      "_model_name": "LayoutModel",
      "_view_count": null,
      "_view_module": "@jupyter-widgets/base",
      "_view_module_version": "1.2.0",
      "_view_name": "LayoutView",
      "align_content": null,
      "align_items": null,
      "align_self": null,
      "border": null,
      "bottom": null,
      "display": null,
      "flex": "2",
      "flex_flow": null,
      "grid_area": null,
      "grid_auto_columns": null,
      "grid_auto_flow": null,
      "grid_auto_rows": null,
      "grid_column": null,
      "grid_gap": null,
      "grid_row": null,
      "grid_template_areas": null,
      "grid_template_columns": null,
      "grid_template_rows": null,
      "height": null,
      "justify_content": null,
      "justify_items": null,
      "left": null,
      "margin": null,
      "max_height": null,
      "max_width": null,
      "min_height": null,
      "min_width": null,
      "object_fit": null,
      "object_position": null,
      "order": null,
      "overflow": null,
      "overflow_x": null,
      "overflow_y": null,
      "padding": null,
      "right": null,
      "top": null,
      "visibility": null,
      "width": null
     }
    },
    "105f6cb1a0b5418ca07b9fe672c66bd6": {
     "model_module": "@jupyter-widgets/controls",
     "model_name": "ProgressStyleModel",
     "model_module_version": "1.5.0",
     "state": {
      "_model_module": "@jupyter-widgets/controls",
      "_model_module_version": "1.5.0",
      "_model_name": "ProgressStyleModel",
      "_view_count": null,
      "_view_module": "@jupyter-widgets/base",
      "_view_module_version": "1.2.0",
      "_view_name": "StyleView",
      "bar_color": null,
      "description_width": ""
     }
    },
    "8cdbd4fa86ce4cb9afeaba253a0991fc": {
     "model_module": "@jupyter-widgets/base",
     "model_name": "LayoutModel",
     "model_module_version": "1.2.0",
     "state": {
      "_model_module": "@jupyter-widgets/base",
      "_model_module_version": "1.2.0",
      "_model_name": "LayoutModel",
      "_view_count": null,
      "_view_module": "@jupyter-widgets/base",
      "_view_module_version": "1.2.0",
      "_view_name": "LayoutView",
      "align_content": null,
      "align_items": null,
      "align_self": null,
      "border": null,
      "bottom": null,
      "display": null,
      "flex": null,
      "flex_flow": null,
      "grid_area": null,
      "grid_auto_columns": null,
      "grid_auto_flow": null,
      "grid_auto_rows": null,
      "grid_column": null,
      "grid_gap": null,
      "grid_row": null,
      "grid_template_areas": null,
      "grid_template_columns": null,
      "grid_template_rows": null,
      "height": null,
      "justify_content": null,
      "justify_items": null,
      "left": null,
      "margin": null,
      "max_height": null,
      "max_width": null,
      "min_height": null,
      "min_width": null,
      "object_fit": null,
      "object_position": null,
      "order": null,
      "overflow": null,
      "overflow_x": null,
      "overflow_y": null,
      "padding": null,
      "right": null,
      "top": null,
      "visibility": null,
      "width": null
     }
    },
    "7879607556ae4c0b83d17fda99d7985d": {
     "model_module": "@jupyter-widgets/controls",
     "model_name": "DescriptionStyleModel",
     "model_module_version": "1.5.0",
     "state": {
      "_model_module": "@jupyter-widgets/controls",
      "_model_module_version": "1.5.0",
      "_model_name": "DescriptionStyleModel",
      "_view_count": null,
      "_view_module": "@jupyter-widgets/base",
      "_view_module_version": "1.2.0",
      "_view_name": "StyleView",
      "description_width": ""
     }
    }
   }
  },
  "accelerator": "GPU",
  "gpuClass": "standard"
 },
 "cells": [
  {
   "cell_type": "markdown",
   "metadata": {
    "id": "view-in-github",
    "colab_type": "text"
   },
   "source": [
    "<a href=\"https://colab.research.google.com/github/uakarsh/docformer/blob/master/examples/docformer_pl/token_cls/Token_ification_Part_3.ipynb\" target=\"_parent\"><img src=\"https://colab.research.google.com/assets/colab-badge.svg\" alt=\"Open In Colab\"/></a>"
   ]
  },
  {
   "cell_type": "code",
   "execution_count": 2,
   "metadata": {
    "id": "gD8rdDm3dOeR"
   },
   "outputs": [
    {
     "name": "stderr",
     "output_type": "stream",
     "text": [
      "UsageError: Line magic function `%%capture` not found.\n"
     ]
    }
   ],
   "source": [
    "## Installing the dependencies (might take some time)\n",
    "\n",
    "%%capture\n",
    "!pip install pytesseract\n",
    "!sudo apt install tesseract-ocr\n",
    "!pip install transformers\n",
    "!pip install pytorch-lightning\n",
    "!pip install einops\n",
    "!pip install tqdm\n",
    "!pip install 'Pillow==7.1.2'\n",
    "!pip install datasets"
   ]
  },
  {
   "cell_type": "code",
   "source": [
    "# !git clone https://github.com/shabie/docformer.git"
   ],
   "metadata": {
    "colab": {
     "base_uri": "https://localhost:8080/"
    },
    "id": "Xb2OeBixxHZV",
    "outputId": "88abe68b-deb0-4aa4-e3a8-b21c520d8a13"
   },
   "execution_count": 3,
   "outputs": []
  },
  {
   "cell_type": "code",
   "source": [
    "from datasets import load_dataset\n",
    "from PIL import Image\n",
    "import numpy as np\n",
    "\n",
    "## Importing the libraries\n",
    "\n",
    "import warnings\n",
    "warnings.simplefilter(\"ignore\", UserWarning)\n",
    "warnings.simplefilter(\"ignore\", RuntimeWarning)\n",
    "\n",
    "import os\n",
    "import numpy as np\n",
    "import pandas as pd\n",
    "from PIL import Image,ImageDraw\n",
    "\n",
    "import torch\n",
    "from torchvision.transforms import ToTensor\n",
    "import torch.nn as nn\n",
    "from torch.utils.data import Dataset,DataLoader\n",
    "\n",
    "import math\n",
    "import torch.nn.functional as F\n",
    "from torch import Tensor\n",
    "\n",
    "## Adding the path of docformer to system path\n",
    "import sys\n",
    "sys.path.append('./docformer/src/docformer/')\n",
    "\n",
    "## Importing the functions from the DocFormer Repo\n",
    "from modeling import DocFormerEncoder,ResNetFeatureExtractor,DocFormerEmbeddings,LanguageFeatureExtractor\n",
    "from transformers import BertTokenizerFast"
   ],
   "metadata": {
    "id": "FrRTBsa7d6KL"
   },
   "execution_count": 1,
   "outputs": [
    {
     "name": "stderr",
     "output_type": "stream",
     "text": [
      "C:\\Users\\ivona\\Desktop\\MSc Thesis\\semtabfact\\semtabfact\\venv\\lib\\site-packages\\tqdm\\auto.py:22: TqdmWarning: IProgress not found. Please update jupyter and ipywidgets. See https://ipywidgets.readthedocs.io/en/stable/user_install.html\n",
      "  from .autonotebook import tqdm as notebook_tqdm\n"
     ]
    }
   ]
  },
  {
   "cell_type": "code",
   "source": [
    "from utils import get_parent_directory_path\n",
    "\n",
    "TSV_FOLDER =  get_parent_directory_path(1) + os.sep + \"tsv\"\n",
    "train_ds =  pd.read_csv(os.path.normpath(TSV_FOLDER + os.sep + 'train_man_set.tsv'),\n",
    "                           sep='\\t', header=0)\n",
    "val_ds = pd.read_csv(os.path.normpath(TSV_FOLDER + os.sep + 'val_man_set.tsv'),\n",
    "                           sep='\\t', header=0)"
   ],
   "metadata": {
    "colab": {
     "base_uri": "https://localhost:8080/",
     "height": 168,
     "referenced_widgets": [
      "b0e754c2361f46858ccadab5bb7af582",
      "5e6cfd6bff0e433d83bb1f89186816e3",
      "a4092ac3d43a4cbe9e1d6f54648b1ae3",
      "ec841596b1cb4400bf9d016f9753ffc9",
      "0756633e5b04420caa6c3ae1787177cd",
      "0df51c893eb7475ab0551503f0aeda6f",
      "90eb130904ea4645aa4b3ad95131e6c2",
      "e264081d7ad144eda904d893f40182d7",
      "ddf273984b914e80ad838758236dd1e3",
      "3a18652ac56c4b7a87515b0cb4bc66d0",
      "848c81c50549447b8ba850a76b1f3f5d",
      "1bb2f4c5ceb8406b8e8df55506eb894a",
      "d9e6f5672c8249a5aacf6573adb84892",
      "34a39488acbc4e0fba623cfb71de15b4",
      "dcbfd6b86b2e4584b6ba5d8f66532ef8",
      "4bd053e694a4493ba937aa09436f9dc5",
      "2ea29cb03e064f26949a85bd089671d4",
      "a50fff8e213440ca9f08ba9baddcf87c",
      "eda536b0f00a4ab6b6a55034aea054f2",
      "464f287d8b88454a87cef45396335b17",
      "84c5e57c466e45d2aad167168fdeb672",
      "8619561be5c64eefaa5006c2fa71b6e8",
      "4d93fcf7e3e742c5a7a77c189742f945",
      "babdfc4789a44a4cb7dc7ba8f564a0fc",
      "dcad0ce72fbf4692a0b7820c64610cf9",
      "be507cf44f674f1b83b98ea28e6bcb28",
      "1cb248b89a48463984eb01751743f6bb",
      "b6ca27499e494527bb4aca23e6a16926",
      "28487450c6fa46968e8a2f0b8cc1b1b3",
      "a44cee2daaa4439c918c9459f0d7ff00",
      "fe7b8b4c1b064d40b529d7ff6cd2f8b0",
      "e0c4126d325b44e3afa360e5f7e65411",
      "85a7535155a64c319a3b1be1f22aa579",
      "9a58d67dfd5049049a8ea19394cef1ac",
      "0a34d2ff96584a7f958d1e93d81c16ed",
      "c9e268230c984a19920d44061e371815",
      "3da1b2fb58cb4f7d96349fb47f435b70",
      "f0bdc0541dd04f7c994ce6e07ba9d245",
      "033bb051697f49299ad33ff8edf5150f",
      "a5b37df57987444b9974d021ab64c1ae",
      "18e5d0430e594283b5b8dd465e2b4061",
      "80f2f595aa7e4f71b6ee1964acfd6da0",
      "40b70b7ff6a543c18d64aba476c4c269",
      "b4888a2a4147479089925337a0270935",
      "7309399794874b57bfe4465cf7820272",
      "220a355046fc4778998dce9756db62a9",
      "8ad60fc099474b28bd22017c59c3af35",
      "b222f84c96664945a96852d87f01da06",
      "6ffc21278bb54e83bc3e42effa5b0e0e",
      "17afde14c5f140ee820e0e04fbe1c2be",
      "2cc7ec667f7f4fa19c07e3815ddda8f4",
      "c1d7b4d7f131471886964617a8b75fde",
      "e26e78f17d554eeabee36ab3f8343c6e",
      "26eeb1fc1dd6493e95c392420f29ebf5",
      "ca8e633e107f47bab45f1e8dd68bf4e4"
     ]
    },
    "id": "89WNVLouw9II",
    "outputId": "4216aeff-f80e-4214-8a57-16ada575601c",
    "pycharm": {
     "is_executing": true
    }
   },
   "execution_count": null,
   "outputs": []
  },
  {
   "cell_type": "markdown",
   "source": [
    "## Generating the dataset appropriate to the DocFormer Input"
   ],
   "metadata": {
    "id": "KjUH8oKMjdkq"
   }
  },
  {
   "cell_type": "code",
   "source": [
    "## Same as here: https://github.com/shabie/docformer/blob/master/src/docformer/dataset.py\n",
    "\n",
    "def normalize_box(box, width, height, size=1000):\n",
    "    \"\"\"\n",
    "    Takes a bounding box and normalizes it to a thousand pixels. If you notice it is\n",
    "    just like calculating percentage except takes 1000 instead of 100.\n",
    "    \"\"\"\n",
    "    return [\n",
    "        int(size * (box[0] / width)),\n",
    "        int(size * (box[1] / height)),\n",
    "        int(size * (box[2] / width)),\n",
    "        int(size * (box[3] / height)),\n",
    "    ]\n",
    "\n",
    "def resize_align_bbox(bbox, orig_w, orig_h, target_w, target_h):\n",
    "    x_scale = target_w / orig_w\n",
    "    y_scale = target_h / orig_h\n",
    "    orig_left, orig_top, orig_right, orig_bottom = bbox\n",
    "    x = int(np.round(orig_left * x_scale))\n",
    "    y = int(np.round(orig_top * y_scale))\n",
    "    xmax = int(np.round(orig_right * x_scale))\n",
    "    ymax = int(np.round(orig_bottom * y_scale))\n",
    "    return [x, y, xmax, ymax]\n",
    "\n",
    "\n",
    "def get_tokens_with_boxes(unnormalized_word_boxes, list_of_words, token_label, tokenizer, pad_token_id = 0, pad_token_box = [0, 0, 0, 0], max_seq_len = 512, pad_token_class = 7):\n",
    "    \n",
    "    '''\n",
    "    This function returns two items:\n",
    "    1. unnormalized_token_boxes -> a list of len = max_seq_len, containing the boxes corresponding to the tokenized words, \n",
    "                                    one box might repeat as per the tokenization procedure\n",
    "    2. tokenized_words -> tokenized words corresponding to the tokenizer and the list_of_words\n",
    "    '''\n",
    "\n",
    "    assert len(unnormalized_word_boxes) == len(list_of_words) == len(token_label), f\"Length of Bounding box: {len(unnormalized_word_boxes)}, words: {len(list_of_words)}, token: {len(token_label)}\"\n",
    "    \n",
    "    length_of_box = len(unnormalized_word_boxes)\n",
    "    unnormalized_token_boxes = []\n",
    "    tokenized_words = []\n",
    "    final_token_label = []\n",
    "\n",
    "    for box, word, token in zip(unnormalized_word_boxes, list_of_words, token_label):\n",
    "      current_tokens = tokenizer(word, add_special_tokens = False).input_ids\n",
    "      unnormalized_token_boxes.extend([box]*len(current_tokens))\n",
    "      tokenized_words.extend(current_tokens)\n",
    "      final_token_label.extend([token]*len(current_tokens))\n",
    "\n",
    "    if len(unnormalized_token_boxes)<max_seq_len:\n",
    "        unnormalized_token_boxes.extend([pad_token_box] * (max_seq_len-len(unnormalized_token_boxes)))\n",
    "        \n",
    "    if len(tokenized_words)< max_seq_len:\n",
    "        tokenized_words.extend([pad_token_id]* (max_seq_len-len(tokenized_words)))\n",
    "\n",
    "    if len(final_token_label)< max_seq_len:\n",
    "        final_token_label.extend([pad_token_class]* (max_seq_len-len(final_token_label)))\n",
    "        \n",
    "    return unnormalized_token_boxes[:max_seq_len], tokenized_words[:max_seq_len], final_token_label[:max_seq_len]\n",
    "\n",
    "\n",
    "def get_centroid(actual_bbox):\n",
    "    centroid = []\n",
    "    for i in actual_bbox:\n",
    "        width = i[2] - i[0]\n",
    "        height = i[3] - i[1]\n",
    "        centroid.append([i[0] + width / 2, i[1] + height / 2])\n",
    "    return centroid\n",
    "\n",
    "\n",
    "def get_pad_token_id_start_index(words, encoding, tokenizer): \n",
    "#     assert len(words) < len(encoding[\"input_ids\"])  This condition, was creating errors on some sample images\n",
    "    for idx in range(len(encoding[\"input_ids\"])):\n",
    "        if encoding[\"input_ids\"][idx] == tokenizer.pad_token_id:\n",
    "            break\n",
    "    return idx\n",
    "\n",
    "\n",
    "def get_relative_distance(bboxes, centroids, pad_tokens_start_idx):\n",
    "\n",
    "    a_rel_x = []\n",
    "    a_rel_y = []\n",
    "\n",
    "    for i in range(0, len(bboxes)-1):\n",
    "        if i >= pad_tokens_start_idx:\n",
    "            a_rel_x.append([0] * 8)\n",
    "            a_rel_y.append([0] * 8)\n",
    "            continue\n",
    "\n",
    "        curr = bboxes[i]\n",
    "        next = bboxes[i+1]\n",
    "\n",
    "        a_rel_x.append(\n",
    "            [\n",
    "                curr[0],  # top left x\n",
    "                curr[2],  # bottom right x\n",
    "                curr[2] - curr[0],  # width\n",
    "                next[0] - curr[0],  # diff top left x\n",
    "                next[0] - curr[0],  # diff bottom left x\n",
    "                next[2] - curr[2],  # diff top right x\n",
    "                next[2] - curr[2],  # diff bottom right x\n",
    "                centroids[i+1][0] - centroids[i][0],\n",
    "            ]\n",
    "        )\n",
    "\n",
    "        a_rel_y.append(\n",
    "            [\n",
    "                curr[1],  # top left y\n",
    "                curr[3],  # bottom right y\n",
    "                curr[3] - curr[1],  # height\n",
    "                next[1] - curr[1],  # diff top left y\n",
    "                next[3] - curr[3],  # diff bottom left y\n",
    "                next[1] - curr[1],  # diff top right y\n",
    "                next[3] - curr[3],  # diff bottom right y\n",
    "                centroids[i+1][1] - centroids[i][1],\n",
    "            ]\n",
    "        )\n",
    "\n",
    "    # For the last word\n",
    "    \n",
    "    a_rel_x.append([0]*8)  \n",
    "    a_rel_y.append([0]*8)\n",
    "\n",
    "    return a_rel_x, a_rel_y"
   ],
   "metadata": {
    "id": "eAgbfdLun1ni"
   },
   "execution_count": 4,
   "outputs": []
  },
  {
   "cell_type": "code",
   "source": [
    "from transformers import BertTokenizerFast\n",
    "tokenizer = BertTokenizerFast.from_pretrained(\"bert-base-uncased\")"
   ],
   "metadata": {
    "id": "Rr21SHrorGR5",
    "colab": {
     "base_uri": "https://localhost:8080/",
     "height": 145,
     "referenced_widgets": [
      "f5545418e7e94963837543bfcb22a39b",
      "bdcc26220940458492ae7e0c1f84828c",
      "7f45529575cd439b970a547c1976d40a",
      "842a3c27fd9544a6aaf120afbc35b83c",
      "1a91934a43c84315a1ec90a0eaf226f0",
      "65b9a68576844be68316c476e2ecb953",
      "77023172636a485e9f4ebdc15f34fca8",
      "43c6695b76b54ca5880c7236982fe040",
      "7c67eb0841d147749108f142c89394e9",
      "f242b8c786b04a67822a8e90491c99df",
      "28f0f1fcd5ff4afb85a437597b31558a",
      "4779dc0e81104dc0843df2d50522df56",
      "0f8804f2eb4c4da2bb430e1659fe4ea2",
      "d5638e3bab0a4617b3ab63d41c0c4a44",
      "cd122278b5624f47a4c2fda63d3ee504",
      "d04dfe38047240eb93793b35afc11a69",
      "964bad5b895c418b9b85e66fc5246866",
      "913a702818124920ac04fca72e71e9f2",
      "fc36ace9338f42198d8fd9ec8202ede8",
      "437456ee67ee48bfb0e5c709d96ba6d4",
      "cab2104b682046eca17a89b3946578b2",
      "34a724a3e33a4847b2e15c113f718bad",
      "1facc500b47b492998bf14e36bb22410",
      "d8e331c393d64255ab978347891f9e19",
      "06c0489a11294384a660d9811f428902",
      "fe28f483e65d49c4bb9f998c5834e522",
      "75a5ae310ca945f28d878661300caf2d",
      "deddce6317ed4744993cf69b81499dca",
      "d762077e2bff4e90bbfd7345e03903b6",
      "18ea6f18f99848e084924314a68a22a2",
      "5b690ef3c53e43a5aa6148aebb099621",
      "ff91a3582c874e58a24a0ab054c92f0c",
      "737711b7890e4ac8a4833b2f213fc3aa",
      "fb206f0a160a4695abb7280615b73fec",
      "23850af1433e453cacaaec3348b2ee95",
      "a1593ab151a842f2b42b949310a9caff",
      "981adf4c3fc84991a19e80e17c9e88d5",
      "570f8e81948745038b1b0df1bdd72ead",
      "23462f997dbd43cda9f5259c31b9c4e8",
      "48959f34841f4c1ca9b67670fc1cd086",
      "e92827d325204000934f87652c37cbee",
      "1d9fcee3d82840148e786370f12c83ea",
      "30e2f99e93ae4ec48e4e14d09ce0fcd0",
      "c40e58d3f17d49f4beb390b4527b3839"
     ]
    },
    "outputId": "984ee437-54a0-4c72-d5da-079dac1aa274"
   },
   "execution_count": 5,
   "outputs": []
  },
  {
   "cell_type": "code",
   "source": [
    "import torch\n",
    "from torchvision.transforms import ToTensor\n",
    "PAD_TOKEN_BOX = [0, 0, 0, 0]\n",
    "\n",
    "def create_features(\n",
    "        image,\n",
    "        tokenizer,\n",
    "        add_batch_dim=False,\n",
    "        target_size=(512,384),  # This was the resolution used by the authors\n",
    "        max_seq_length=512,\n",
    "        bounding_box = None,\n",
    "        words = None,\n",
    "        token_labels = None\n",
    "):\n",
    "\n",
    "    # step 1: read original image and extract OCR entries\n",
    "    original_image = image.convert(\"RGB\")\n",
    "    CLS_TOKEN_BOX = [0, 0, *original_image.size]    # Can be variable, but as per the paper, they have mentioned that it covers the whole image\n",
    "    # step 2: resize image\n",
    "    resized_image = original_image.resize(target_size)\n",
    "\n",
    "    # step 3: tokenize words and get their bounding boxes (one word may split into multiple tokens), and accordingly their tokens\n",
    "    unnormalized_token_boxes, tokenized_words,final_token_label = get_tokens_with_boxes(bounding_box, \n",
    "                                                     words, \n",
    "                                                     token_labels, \n",
    "                                                     tokenizer, \n",
    "                                                     pad_token_id = 0, \n",
    "                                                     pad_token_box = [0, 0, 0, 0], \n",
    "                                                     max_seq_len = 512, \n",
    "                                                     pad_token_class = 7)\n",
    "\n",
    "    encoding = {}\n",
    "    # step 5: add special tokens and truncate seq. to maximum length\n",
    "    unnormalized_token_boxes = [CLS_TOKEN_BOX] + unnormalized_token_boxes[:-1]\n",
    "    final_token_label = [7] + final_token_label[:-1]\n",
    "\n",
    "    # add CLS token manually to avoid autom. addition of SEP too (as in the paper)\n",
    "    encoding[\"input_ids\"] = [tokenizer.cls_token_id] + tokenized_words[:-1]\n",
    "\n",
    "    # step 6: Add bounding boxes to the encoding dict\n",
    "    encoding[\"unnormalized_token_boxes\"] = unnormalized_token_boxes\n",
    "    # step 8: normalize the image\n",
    "    encoding[\"resized_scaled_img\"] = ToTensor()(resized_image)\n",
    "\n",
    "    # step 10: rescale and align the bounding boxes to match the resized image size (typically 224x224)\n",
    "    resized_and_aligned_bboxes = []\n",
    "\n",
    "    for bbox in unnormalized_token_boxes:\n",
    "        # performing the normalization of the bounding box\n",
    "        resized_and_aligned_bboxes.append(resize_align_bbox(tuple(bbox), *original_image.size, *target_size))\n",
    "\n",
    "    encoding[\"resized_and_aligned_bounding_boxes\"] = resized_and_aligned_bboxes\n",
    "    encoding['token_class'] = final_token_label\n",
    "\n",
    "    # step 11: add the relative distances in the normalized grid\n",
    "    bboxes_centroids = get_centroid(resized_and_aligned_bboxes)\n",
    "    pad_token_start_index = get_pad_token_id_start_index(words, encoding, tokenizer)\n",
    "    a_rel_x, a_rel_y = get_relative_distance(resized_and_aligned_bboxes, bboxes_centroids, pad_token_start_index)\n",
    "\n",
    "    # step 12: convert all to tensors\n",
    "    for k, v in encoding.items():\n",
    "        encoding[k] = torch.as_tensor(encoding[k])\n",
    "\n",
    "    encoding.update({\n",
    "        \"x_features\": torch.as_tensor(a_rel_x, dtype=torch.int32),\n",
    "        \"y_features\": torch.as_tensor(a_rel_y, dtype=torch.int32),\n",
    "        })\n",
    "\n",
    "    keys = ['resized_scaled_img', 'x_features','y_features','input_ids','resized_and_aligned_bounding_boxes', 'token_class']\n",
    "    \n",
    "    final_encoding = {k:encoding[k] for k in keys}\n",
    "    \n",
    "    del encoding\n",
    "    return final_encoding"
   ],
   "metadata": {
    "id": "T6_BPlYXoyTG"
   },
   "execution_count": 6,
   "outputs": []
  },
  {
   "cell_type": "code",
   "source": [
    "encoding = create_features(\n",
    "    image = sample,\n",
    "    tokenizer = tokenizer,\n",
    "    bounding_box = train_ds[0]['bboxes'],\n",
    "    words = train_ds[0]['tokens'],\n",
    "    token_labels = train_ds[0]['ner_tags']\n",
    ")"
   ],
   "metadata": {
    "id": "KkMSgHw8rJ99"
   },
   "execution_count": 11,
   "outputs": [
    {
     "name": "stderr",
     "output_type": "stream",
     "text": [
      "C:\\Users\\ivona\\AppData\\Local\\Temp\\ipykernel_25332\\1555465634.py:65: DeprecationWarning: an integer is required (got type float).  Implicit conversion to integers using __int__ is deprecated, and may be removed in a future version of Python.\n",
      "  \"x_features\": torch.as_tensor(a_rel_x, dtype=torch.int32),\n",
      "C:\\Users\\ivona\\AppData\\Local\\Temp\\ipykernel_25332\\1555465634.py:66: DeprecationWarning: an integer is required (got type float).  Implicit conversion to integers using __int__ is deprecated, and may be removed in a future version of Python.\n",
      "  \"y_features\": torch.as_tensor(a_rel_y, dtype=torch.int32),\n"
     ]
    }
   ]
  },
  {
   "cell_type": "code",
   "source": [
    "for key in list(encoding.keys()):\n",
    "  print_statement = '{0: <50}'.format(str(key) + \" has a shape:\")\n",
    "  print(print_statement, encoding[key].shape)"
   ],
   "metadata": {
    "id": "q88vVQAZ4SPl"
   },
   "execution_count": 12,
   "outputs": [
    {
     "name": "stdout",
     "output_type": "stream",
     "text": [
      "resized_scaled_img has a shape:                    torch.Size([3, 384, 512])\n",
      "x_features has a shape:                            torch.Size([512, 8])\n",
      "y_features has a shape:                            torch.Size([512, 8])\n",
      "input_ids has a shape:                             torch.Size([512])\n",
      "resized_and_aligned_bounding_boxes has a shape:    torch.Size([512, 4])\n",
      "token_class has a shape:                           torch.Size([512])\n"
     ]
    }
   ]
  },
  {
   "cell_type": "markdown",
   "source": [
    "## Making the dataset"
   ],
   "metadata": {
    "id": "xKFoH_c4wat0"
   }
  },
  {
   "cell_type": "code",
   "source": [
    "## Keys\n",
    "train_ds[0].keys()"
   ],
   "metadata": {
    "colab": {
     "base_uri": "https://localhost:8080/"
    },
    "id": "QiBkpNK6wm8y",
    "outputId": "513334f6-fed1-4c2d-b278-c8e2ad1a51d3"
   },
   "execution_count": 9,
   "outputs": [
    {
     "data": {
      "text/plain": "dict_keys(['id', 'tokens', 'bboxes', 'ner_tags', 'image'])"
     },
     "execution_count": 9,
     "metadata": {},
     "output_type": "execute_result"
    }
   ]
  },
  {
   "cell_type": "code",
   "source": [
    "sample = np.array(train_ds[0]['image'])\n",
    "sample = np.transpose(sample, (1, 2, 0)).astype(np.uint8)\n",
    "sample = Image.fromarray(sample)\n",
    "\n",
    "# Visualizing the resized image\n",
    "target_size = (512, 384)\n",
    "resize_img = sample.resize(target_size)\n",
    "resize_img"
   ],
   "metadata": {
    "id": "B3uuPpM2wzP7"
   },
   "execution_count": 10,
   "outputs": [
    {
     "data": {
      "text/plain": "<PIL.Image.Image image mode=RGB size=512x384>",
      "image/png": "[encoded data removed]"
     },
     "execution_count": 10,
     "metadata": {},
     "output_type": "execute_result"
    }
   ]
  },
  {
   "cell_type": "code",
   "source": [
    "## From here: https://colab.research.google.com/github/NielsRogge/Transformers-Tutorials/blob/master/LayoutLMv2/FUNSD/True_inference_with_LayoutLMv2ForTokenClassification_%2B_Gradio_demo.ipynb#scrollTo=eFgjNr9SNzzb\n",
    "\n",
    "def unnormalize_box(bbox, width, height):\n",
    "     return [\n",
    "         width * (bbox[0] / 1000),\n",
    "         height * (bbox[1] / 1000),\n",
    "         width * (bbox[2] / 1000),\n",
    "         height * (bbox[3] / 1000),\n",
    "     ]"
   ],
   "metadata": {
    "id": "Vvney6pL1f6P"
   },
   "execution_count": 13,
   "outputs": []
  },
  {
   "cell_type": "code",
   "source": [
    "class DocumentDataset(Dataset):\n",
    "\n",
    "  def __init__(self, ds, tokenizer, max_len = 512, target_size = (512, 384)):\n",
    "    self.ds = ds\n",
    "    self.target_size = target_size\n",
    "    self.tokenizer = tokenizer\n",
    "    self.max_len = max_len\n",
    "    self.target_size = target_size\n",
    "\n",
    "  def __len__(self):\n",
    "    return len(self.ds)\n",
    "\n",
    "  def __getitem__(self, idx):\n",
    "\n",
    "    ## Loading the file\n",
    "    sample_entry = self.ds[idx]\n",
    "    sample = np.array(sample_entry['image'])\n",
    "    sample = np.transpose(sample, (1, 2, 0)).astype(np.uint8)\n",
    "    sample = Image.fromarray(sample)\n",
    "\n",
    "    true_boxes = [unnormalize_box(box, 224, 224) for idx, box in enumerate(sample_entry['bboxes'])]  ## 224, 224 -> image resized shape\n",
    "    \n",
    "    encoding = create_features(\n",
    "        image = sample,\n",
    "        tokenizer = self.tokenizer,\n",
    "        bounding_box = true_boxes,\n",
    "        words = sample_entry['tokens'],\n",
    "        token_labels = sample_entry['ner_tags']\n",
    "    )\n",
    "\n",
    "    return encoding"
   ],
   "metadata": {
    "id": "8iKB6sec7CnD"
   },
   "execution_count": 14,
   "outputs": []
  },
  {
   "cell_type": "code",
   "source": [
    "train_dataset = DocumentDataset(train_ds, tokenizer)\n",
    "val_dataset = DocumentDataset(val_ds, tokenizer)"
   ],
   "metadata": {
    "id": "488h3xg3ye2j"
   },
   "execution_count": 15,
   "outputs": []
  },
  {
   "cell_type": "code",
   "source": [
    "def collate_fn(data_bunch):\n",
    "\n",
    "  '''\n",
    "  A function for the dataloader to return a batch dict of given keys\n",
    "\n",
    "  data_bunch: List of dictionary\n",
    "  '''\n",
    "\n",
    "  dict_data_bunch = {}\n",
    "\n",
    "  for i in data_bunch:\n",
    "    for (key, value) in i.items():\n",
    "      if key not in dict_data_bunch:\n",
    "        dict_data_bunch[key] = []\n",
    "      dict_data_bunch[key].append(value)\n",
    "\n",
    "  for key in list(dict_data_bunch.keys()):\n",
    "      dict_data_bunch[key] = torch.stack(dict_data_bunch[key], axis = 0)\n",
    "\n",
    "  return dict_data_bunch"
   ],
   "metadata": {
    "id": "yrXHgRDpyTmy"
   },
   "execution_count": 16,
   "outputs": []
  },
  {
   "cell_type": "code",
   "source": [
    "train_dl = DataLoader(train_dataset, batch_size = 4, collate_fn = collate_fn)\n",
    "val_dl = DataLoader(val_dataset, batch_size = 4, collate_fn = collate_fn)"
   ],
   "metadata": {
    "id": "vOgeWBXayWz7"
   },
   "execution_count": 17,
   "outputs": []
  },
  {
   "cell_type": "code",
   "source": [
    "encoding = next(iter(train_dl))\n",
    "for key in list(encoding.keys()):\n",
    "  print_statement = '{0: <50}'.format(str(key) + \" has a shape:\")\n",
    "  print(print_statement, encoding[key].shape)"
   ],
   "metadata": {
    "id": "AEUSsGHUzNh8"
   },
   "execution_count": 18,
   "outputs": [
    {
     "name": "stdout",
     "output_type": "stream",
     "text": [
      "resized_scaled_img has a shape:                    torch.Size([4, 3, 384, 512])\n",
      "x_features has a shape:                            torch.Size([4, 512, 8])\n",
      "y_features has a shape:                            torch.Size([4, 512, 8])\n",
      "input_ids has a shape:                             torch.Size([4, 512])\n",
      "resized_and_aligned_bounding_boxes has a shape:    torch.Size([4, 512, 4])\n",
      "token_class has a shape:                           torch.Size([4, 512])\n"
     ]
    },
    {
     "name": "stderr",
     "output_type": "stream",
     "text": [
      "C:\\Users\\ivona\\AppData\\Local\\Temp\\ipykernel_25332\\1555465634.py:65: DeprecationWarning: an integer is required (got type float).  Implicit conversion to integers using __int__ is deprecated, and may be removed in a future version of Python.\n",
      "  \"x_features\": torch.as_tensor(a_rel_x, dtype=torch.int32),\n",
      "C:\\Users\\ivona\\AppData\\Local\\Temp\\ipykernel_25332\\1555465634.py:66: DeprecationWarning: an integer is required (got type float).  Implicit conversion to integers using __int__ is deprecated, and may be removed in a future version of Python.\n",
      "  \"y_features\": torch.as_tensor(a_rel_y, dtype=torch.int32),\n"
     ]
    }
   ]
  },
  {
   "cell_type": "markdown",
   "source": [
    "## Defining the DataModule"
   ],
   "metadata": {
    "id": "f3dO5_q4yYUK"
   }
  },
  {
   "cell_type": "code",
   "source": [
    "import pytorch_lightning as pl\n",
    "\n",
    "class DataModule(pl.LightningDataModule):\n",
    "\n",
    "  def __init__(self, train_dataset, val_dataset,  batch_size = 2):\n",
    "\n",
    "    super(DataModule, self).__init__()\n",
    "    self.train_dataset = train_dataset\n",
    "    self.val_dataset = val_dataset\n",
    "    self.batch_size = batch_size\n",
    "\n",
    "  def train_dataloader(self):\n",
    "    return DataLoader(self.train_dataset, batch_size = self.batch_size, \n",
    "                      collate_fn = collate_fn, shuffle = True)\n",
    "  \n",
    "  def val_dataloader(self):\n",
    "    return DataLoader(self.val_dataset, batch_size = self.batch_size,\n",
    "                                  collate_fn = collate_fn, shuffle = False)"
   ],
   "metadata": {
    "id": "JgV2YbV5yaJ0"
   },
   "execution_count": 19,
   "outputs": []
  },
  {
   "cell_type": "code",
   "source": [
    "datamodule = DataModule(train_dataset, val_dataset)"
   ],
   "metadata": {
    "id": "6Yu0MrRCyl6Z"
   },
   "execution_count": 20,
   "outputs": []
  },
  {
   "cell_type": "markdown",
   "source": [
    "## Modeling"
   ],
   "metadata": {
    "id": "RYorEszPymoG"
   }
  },
  {
   "cell_type": "code",
   "source": [
    "## Setting some hyperparameters\n",
    "\n",
    "device = 'cuda' if torch.cuda.is_available() else 'cpu'\n",
    "\n",
    "config = {\n",
    "  \"coordinate_size\": 96,              ## (768/8), 8 for each of the 8 coordinates of x, y\n",
    "  \"hidden_dropout_prob\": 0.1,\n",
    "  \"hidden_size\": 768,\n",
    "  \"image_feature_pool_shape\": [7, 7, 256],\n",
    "  \"intermediate_ff_size_factor\": 4,\n",
    "  \"max_2d_position_embeddings\": 1024,\n",
    "  \"max_position_embeddings\": 512,\n",
    "  \"max_relative_positions\": 8,\n",
    "  \"num_attention_heads\": 12,\n",
    "  \"num_hidden_layers\": 12,\n",
    "  \"pad_token_id\": 0,\n",
    "  \"shape_size\": 96,\n",
    "  \"vocab_size\": 30522,\n",
    "  \"layer_norm_eps\": 1e-12,\n",
    "  \"classes\": 2\n",
    "}"
   ],
   "metadata": {
    "id": "PFjQU33pynt1"
   },
   "execution_count": 21,
   "outputs": []
  },
  {
   "cell_type": "code",
   "source": [
    "class DocFormerForTokenCLS(nn.Module):\n",
    "  \n",
    "    def __init__(self, config):\n",
    "      super(DocFormerForTokenCLS, self).__init__()\n",
    "\n",
    "      self.resnet = ResNetFeatureExtractor()\n",
    "      self.embeddings = DocFormerEmbeddings(config)\n",
    "      self.lang_emb = LanguageFeatureExtractor()\n",
    "      self.config = config\n",
    "      self.dropout = nn.Dropout(config['hidden_dropout_prob'])\n",
    "      self.linear_layer = nn.Linear(in_features = config['hidden_size'], out_features = config['classes'] + 1)\n",
    "      self.encoder = DocFormerEncoder(config)\n",
    "\n",
    "    def forward(self, batch_dict):\n",
    "\n",
    "      x_feat = batch_dict['x_features']\n",
    "      y_feat = batch_dict['y_features']\n",
    "\n",
    "      token = batch_dict['input_ids']\n",
    "      img = batch_dict['resized_scaled_img']\n",
    "\n",
    "      v_bar_s, t_bar_s = self.embeddings(x_feat,y_feat)\n",
    "      v_bar = self.resnet(img)\n",
    "      t_bar = self.lang_emb(token)\n",
    "      out = self.encoder(t_bar,v_bar,t_bar_s,v_bar_s)\n",
    "      out = self.linear_layer(out)\n",
    "\n",
    "      return out\n"
   ],
   "metadata": {
    "id": "vT6yMxnnyrTx"
   },
   "execution_count": 22,
   "outputs": []
  },
  {
   "cell_type": "code",
   "source": [
    "## Defining pytorch lightning model\n",
    "from sklearn.metrics import accuracy_score\n",
    "\n",
    "\n",
    "class DocFormer(pl.LightningModule):\n",
    "\n",
    "  def __init__(self, config , lr = 1e-3):\n",
    "    super(DocFormer, self).__init__()\n",
    "    \n",
    "    self.config = config\n",
    "    self.save_hyperparameters()\n",
    "    self.docformer = DocFormerForTokenCLS(config)\n",
    "    self.training_losses = []\n",
    "    self.validation_losses = []\n",
    "\n",
    "\n",
    "  def calculate_metrics(self, prediction, labels):\n",
    "\n",
    "    ## Calculate the accuracy score between the prediction and ground label for a batch, with considering the pad sequence\n",
    "    batch_size = len(prediction)\n",
    "    ac_score = 0\n",
    "\n",
    "    for (pred, gt) in zip(prediction, labels):\n",
    "      ac_score+= accuracy_score(pred.cpu(), gt.cpu())\n",
    "    ac_score = ac_score/batch_size\n",
    "    return ac_score\n",
    "\n",
    "\n",
    "  def forward(self, batch_dict):\n",
    "    logits = self.docformer(batch_dict)\n",
    "    return logits\n",
    "\n",
    "  def training_step(self, batch, batch_idx):\n",
    "    logits = self.forward(batch)\n",
    "\n",
    "    ## https://discuss.huggingface.co/t/bertformaskedlm-s-loss-and-scores-how-the-loss-is-computed/607/2\n",
    "    loss = nn.CrossEntropyLoss()(logits.view(-1,config['classes'] + 1), batch['token_class'].view(-1))\n",
    "    _, preds = torch.max(logits, dim = -1)\n",
    "\n",
    "    ## Calculating the accuracy score\n",
    "    train_acc = self.calculate_metrics(preds, batch['token_class'])\n",
    "    train_acc = torch.tensor(train_acc)\n",
    "\n",
    "    ## Logging\n",
    "    self.log('train_ce_loss', loss,prog_bar = True)\n",
    "    self.log('train_acc', train_acc, prog_bar = True)\n",
    "    self.training_losses.append(loss.item())\n",
    "\n",
    "    return loss\n",
    "  \n",
    "  def validation_step(self, batch, batch_idx):\n",
    "    logits = self.forward(batch)\n",
    "    loss = nn.CrossEntropyLoss()(logits.view(-1, self.config['classes'] + 1), batch['token_class'].view(-1))\n",
    "    _, preds = torch.max(logits, dim = -1)\n",
    "\n",
    "    ## Validation Accuracy\n",
    "    val_acc = self.calculate_metrics(preds.cpu(), batch['token_class'].cpu())\n",
    "    val_acc = torch.tensor(val_acc)\n",
    "\n",
    "    ## Logging\n",
    "    self.log('val_ce_loss', loss, prog_bar = True)\n",
    "    self.log('val_acc', val_acc, prog_bar = True)\n",
    "    self.validation_losses.append(loss.item())\n",
    "\n",
    "  def configure_optimizers(self):\n",
    "    return torch.optim.Adam(self.parameters(), lr = self.hparams['lr'])\n",
    "\n",
    "  def on_train_epoch_end(self):\n",
    "    train_loss_mean = np.mean(self.training_losses)\n",
    "    self.logger.experiment.add_scalar('training_loss', train_loss_mean, global_step=self.current_epoch)\n",
    "    self.training_losses = []  # reset for next epoch\n",
    "\n",
    "  def on_validation_epoch_end(self):\n",
    "    val_loss_mean = np.mean(self.training_losses)\n",
    "    self.logger.experiment.add_scalar('validation_loss', val_loss_mean, global_step=self.current_epoch)\n",
    "    self.validation_losses = []  # reset for next epoch"
   ],
   "metadata": {
    "id": "DIRVl8fZy34n"
   },
   "execution_count": 23,
   "outputs": []
  },
  {
   "cell_type": "code",
   "source": [
    "from pytorch_lightning.callbacks import ModelCheckpoint\n",
    "from pytorch_lightning.callbacks.early_stopping import EarlyStopping\n",
    "\n",
    "def main():\n",
    "    datamodule = DataModule(train_dataset, val_dataset)\n",
    "    docformer = DocFormer(config)\n",
    "\n",
    "    checkpoint_callback = ModelCheckpoint(\n",
    "        dirpath=\"./models\", monitor=\"val_ce_loss\", mode=\"min\"\n",
    "    )\n",
    "    early_stopping_callback = EarlyStopping(\n",
    "        monitor=\"val_ce_loss\", patience=3, verbose=True, mode=\"min\"\n",
    "    )\n",
    "\n",
    "    ## https://www.tutorialexample.com/implement-reproducibility-in-pytorch-lightning-pytorch-lightning-tutorial/\n",
    "    pl.seed_everything(42, workers=True)\n",
    "    trainer = pl.Trainer(\n",
    "        default_root_dir=\"logs\",\n",
    "        max_epochs=2,\n",
    "        fast_dev_run=False,\n",
    "        logger=pl.loggers.TensorBoardLogger(\"logs/\", name=\"semtab_dataset\", version=1),\n",
    "        callbacks=[checkpoint_callback, early_stopping_callback],\n",
    "        deterministic=True\n",
    "    )\n",
    "    trainer.fit(docformer, datamodule)"
   ],
   "metadata": {
    "id": "olIvyFDty7wM"
   },
   "execution_count": 24,
   "outputs": []
  },
  {
   "cell_type": "code",
   "source": [
    "# import tensorboard\n",
    "if __name__ == \"__main__\":\n",
    "    main()"
   ],
   "metadata": {
    "colab": {
     "base_uri": "https://localhost:8080/",
     "height": 567,
     "referenced_widgets": [
      "67fd0e98b7ef4c3982dc75e3d01b5fe7",
      "a393dd829a09401c85a5465837cfd15a",
      "3fd1687296ab45b49488ac99c526ed9a",
      "3b566bf013fa45c198b700dda2945c7f",
      "436aebff116d4fa3a5fbf7dae670d542",
      "6d5f65af1c7640d78c7d0ecda67be335",
      "de2956f510904cc1ad8da965967ab2cb",
      "a83118394f1647e7a8290e2fc20a8916",
      "67a5c675bbba4f10892ace98180744ef",
      "58329020f65a4110b81e57185b879dad",
      "fcec089b0555409babfcafe57557453f",
      "af36ce3c87c84cbb95d5ed46c5123b75",
      "978698bdfb0748f4be75065052b95cb9",
      "de994bdbe468459ebeec16aaf4b83b38",
      "a20c56c47b084b05aebd1449e3e98746",
      "7dac945482a142f6a2fed4d206b580fc",
      "84a47c0bdc9f4e15b0c430c93e8fccf5",
      "273f74cdec7b4f0bafd2e26d49e01432",
      "87fa2522484343b3a211e0c681a443fa",
      "4c4e3938795447c886fb8c9859d530cc",
      "7451cac689a64971a2823a90cb252a6b",
      "578cfa3e5ace4024b92aecce2409d9c7",
      "d821fd912aaf489aa25fa4f0eab34695",
      "fe17f5cc98d0459d92482c08aa309121",
      "07b19dcf05c34b8aa48b02fa700e2fd8",
      "8db77e47f8484db9ba66be6ca68bbcc7",
      "e79c80ed035e4a458b1b6b5bdb13accd",
      "6b3ffd1e98624dd884d4962967f887f5",
      "59ec90b505ef4200b3631562cd055dde",
      "441d290b9fa84c1292b18c7a287112bf",
      "bc302763c2bd4d0797c69392c270a91e",
      "5d58e95383124028b3b62408a6257e44",
      "f922836bb7754592a5f45996ec6ab8b7",
      "154c05b9a9ee47a095c1740defad80fd",
      "733ce2dc3da94c18a48488c441afea50",
      "480807e423034fc58fcc1965194c5e29",
      "9c1c7a6679a64480abc736e08e0dae29",
      "04dbf8c2df70482ba7825adb0aa50264",
      "4e1f65d154f149cc84f1605db346cb77",
      "b8dc4c037fd04e19bcad45d3644c71f7",
      "0dec1f2de5824d6dbc5aa168925b61d3",
      "90ba630c70a5452b92076908374c7e8d",
      "b297e9bf401d4d84a357ac2fd2b5f1f1",
      "5396a1f95be443a1a84255849774d23f",
      "472cbb1819bd4117a4bbfd5d78c8f385",
      "fa94050e3b3142ed8f91afa6c823168c",
      "398da57f32634ca0a5a6f7cf27ad0b0e",
      "3103ab273c5b44408cfc9b0bd1461303",
      "6abd87d1403642268d58079a5ba15397",
      "d0d6c0dfb7ff463facdd6eff2305f5ea",
      "40cbbd69a932419daefea1a990eb7d7c",
      "b16cdeae42304a479fe5a9405a89713c",
      "0b0ff675d0c841dea9a40b1716fa4eda",
      "1314bcced60441249ebb9f97a68a33fb",
      "26b1b6cda99846fcac333cbf9729cfad",
      "8d33362693104f74a2022c3f200e4522",
      "7106bc1e8094438dad13d03fa2ce474a",
      "e272098bcf8946249ae929e2cc3c8293",
      "d3ebb388e8984987b14459667259c3b8",
      "3df2633c1e0144d3806ea6ea0c5f0b76",
      "4a32719a86d84a6cb078b0967aa3bc3e",
      "0cff2e01f5a2401c86550f2e14572200",
      "ef1fd9b207704bf9acfffe2b1604b9c4",
      "105f6cb1a0b5418ca07b9fe672c66bd6",
      "8cdbd4fa86ce4cb9afeaba253a0991fc",
      "7879607556ae4c0b83d17fda99d7985d"
     ]
    },
    "id": "5LYtijSdy9Sy",
    "outputId": "8ed0be8d-b4a5-4754-ed21-9189a4eb535b",
    "pycharm": {
     "is_executing": true
    }
   },
   "execution_count": null,
   "outputs": [
    {
     "name": "stderr",
     "output_type": "stream",
     "text": [
      "Some weights of the model checkpoint at microsoft/layoutlm-base-uncased were not used when initializing LayoutLMForTokenClassification: ['cls.predictions.decoder.bias', 'cls.predictions.transform.LayerNorm.weight', 'cls.predictions.transform.dense.weight', 'cls.predictions.decoder.weight', 'cls.predictions.transform.dense.bias', 'cls.predictions.transform.LayerNorm.bias', 'cls.predictions.bias']\n",
      "- This IS expected if you are initializing LayoutLMForTokenClassification from the checkpoint of a model trained on another task or with another architecture (e.g. initializing a BertForSequenceClassification model from a BertForPreTraining model).\n",
      "- This IS NOT expected if you are initializing LayoutLMForTokenClassification from the checkpoint of a model that you expect to be exactly identical (initializing a BertForSequenceClassification model from a BertForSequenceClassification model).\n",
      "Some weights of LayoutLMForTokenClassification were not initialized from the model checkpoint at microsoft/layoutlm-base-uncased and are newly initialized: ['classifier.weight', 'classifier.bias']\n",
      "You should probably TRAIN this model on a down-stream task to be able to use it for predictions and inference.\n",
      "Global seed set to 42\n",
      "GPU available: False, used: False\n",
      "TPU available: False, using: 0 TPU cores\n",
      "IPU available: False, using: 0 IPUs\n",
      "HPU available: False, using: 0 HPUs\n",
      "\n",
      "  | Name      | Type                 | Params\n",
      "---------------------------------------------------\n",
      "0 | docformer | DocFormerForTokenCLS | 174 M \n",
      "---------------------------------------------------\n",
      "150 M     Trainable params\n",
      "23.4 M    Non-trainable params\n",
      "174 M     Total params\n",
      "697.257   Total estimated model params size (MB)\n"
     ]
    },
    {
     "name": "stdout",
     "output_type": "stream",
     "text": [
      "Sanity Checking DataLoader 0:   0%|          | 0/2 [00:00<?, ?it/s]"
     ]
    },
    {
     "name": "stderr",
     "output_type": "stream",
     "text": [
      "C:\\Users\\ivona\\AppData\\Local\\Temp\\ipykernel_25332\\1555465634.py:65: DeprecationWarning: an integer is required (got type float).  Implicit conversion to integers using __int__ is deprecated, and may be removed in a future version of Python.\n",
      "  \"x_features\": torch.as_tensor(a_rel_x, dtype=torch.int32),\n",
      "C:\\Users\\ivona\\AppData\\Local\\Temp\\ipykernel_25332\\1555465634.py:66: DeprecationWarning: an integer is required (got type float).  Implicit conversion to integers using __int__ is deprecated, and may be removed in a future version of Python.\n",
      "  \"y_features\": torch.as_tensor(a_rel_y, dtype=torch.int32),\n"
     ]
    },
    {
     "name": "stdout",
     "output_type": "stream",
     "text": [
      "Sanity Checking DataLoader 0:  50%|█████     | 1/2 [00:08<00:08,  8.33s/it]"
     ]
    },
    {
     "name": "stderr",
     "output_type": "stream",
     "text": [
      "C:\\Users\\ivona\\AppData\\Local\\Temp\\ipykernel_25332\\1555465634.py:65: DeprecationWarning: an integer is required (got type float).  Implicit conversion to integers using __int__ is deprecated, and may be removed in a future version of Python.\n",
      "  \"x_features\": torch.as_tensor(a_rel_x, dtype=torch.int32),\n",
      "C:\\Users\\ivona\\AppData\\Local\\Temp\\ipykernel_25332\\1555465634.py:66: DeprecationWarning: an integer is required (got type float).  Implicit conversion to integers using __int__ is deprecated, and may be removed in a future version of Python.\n",
      "  \"y_features\": torch.as_tensor(a_rel_y, dtype=torch.int32),\n"
     ]
    },
    {
     "name": "stdout",
     "output_type": "stream",
     "text": [
      "Epoch 0:   0%|          | 0/75 [00:00<?, ?it/s]                            "
     ]
    },
    {
     "name": "stderr",
     "output_type": "stream",
     "text": [
      "C:\\Users\\ivona\\AppData\\Local\\Temp\\ipykernel_25332\\1555465634.py:65: DeprecationWarning: an integer is required (got type float).  Implicit conversion to integers using __int__ is deprecated, and may be removed in a future version of Python.\n",
      "  \"x_features\": torch.as_tensor(a_rel_x, dtype=torch.int32),\n",
      "C:\\Users\\ivona\\AppData\\Local\\Temp\\ipykernel_25332\\1555465634.py:66: DeprecationWarning: an integer is required (got type float).  Implicit conversion to integers using __int__ is deprecated, and may be removed in a future version of Python.\n",
      "  \"y_features\": torch.as_tensor(a_rel_y, dtype=torch.int32),\n"
     ]
    },
    {
     "name": "stdout",
     "output_type": "stream",
     "text": [
      "Epoch 0:   1%|▏         | 1/75 [00:58<1:12:43, 58.97s/it, v_num=1, train_ce_loss=41.90, train_acc=0.0488]"
     ]
    },
    {
     "name": "stderr",
     "output_type": "stream",
     "text": [
      "C:\\Users\\ivona\\AppData\\Local\\Temp\\ipykernel_25332\\1555465634.py:65: DeprecationWarning: an integer is required (got type float).  Implicit conversion to integers using __int__ is deprecated, and may be removed in a future version of Python.\n",
      "  \"x_features\": torch.as_tensor(a_rel_x, dtype=torch.int32),\n",
      "C:\\Users\\ivona\\AppData\\Local\\Temp\\ipykernel_25332\\1555465634.py:66: DeprecationWarning: an integer is required (got type float).  Implicit conversion to integers using __int__ is deprecated, and may be removed in a future version of Python.\n",
      "  \"y_features\": torch.as_tensor(a_rel_y, dtype=torch.int32),\n"
     ]
    },
    {
     "name": "stdout",
     "output_type": "stream",
     "text": [
      "Epoch 0:   3%|▎         | 2/75 [02:19<1:24:37, 69.56s/it, v_num=1, train_ce_loss=27.60, train_acc=0.738] "
     ]
    },
    {
     "name": "stderr",
     "output_type": "stream",
     "text": [
      "C:\\Users\\ivona\\AppData\\Local\\Temp\\ipykernel_25332\\1555465634.py:65: DeprecationWarning: an integer is required (got type float).  Implicit conversion to integers using __int__ is deprecated, and may be removed in a future version of Python.\n",
      "  \"x_features\": torch.as_tensor(a_rel_x, dtype=torch.int32),\n",
      "C:\\Users\\ivona\\AppData\\Local\\Temp\\ipykernel_25332\\1555465634.py:66: DeprecationWarning: an integer is required (got type float).  Implicit conversion to integers using __int__ is deprecated, and may be removed in a future version of Python.\n",
      "  \"y_features\": torch.as_tensor(a_rel_y, dtype=torch.int32),\n"
     ]
    },
    {
     "name": "stdout",
     "output_type": "stream",
     "text": [
      "Epoch 0:   4%|▍         | 3/75 [03:31<1:24:47, 70.66s/it, v_num=1, train_ce_loss=32.60, train_acc=0.431]"
     ]
    },
    {
     "name": "stderr",
     "output_type": "stream",
     "text": [
      "C:\\Users\\ivona\\AppData\\Local\\Temp\\ipykernel_25332\\1555465634.py:65: DeprecationWarning: an integer is required (got type float).  Implicit conversion to integers using __int__ is deprecated, and may be removed in a future version of Python.\n",
      "  \"x_features\": torch.as_tensor(a_rel_x, dtype=torch.int32),\n",
      "C:\\Users\\ivona\\AppData\\Local\\Temp\\ipykernel_25332\\1555465634.py:66: DeprecationWarning: an integer is required (got type float).  Implicit conversion to integers using __int__ is deprecated, and may be removed in a future version of Python.\n",
      "  \"y_features\": torch.as_tensor(a_rel_y, dtype=torch.int32),\n"
     ]
    },
    {
     "name": "stdout",
     "output_type": "stream",
     "text": [
      "Epoch 0:   5%|▌         | 4/75 [04:36<1:21:40, 69.01s/it, v_num=1, train_ce_loss=15.30, train_acc=0.709]"
     ]
    },
    {
     "name": "stderr",
     "output_type": "stream",
     "text": [
      "C:\\Users\\ivona\\AppData\\Local\\Temp\\ipykernel_25332\\1555465634.py:65: DeprecationWarning: an integer is required (got type float).  Implicit conversion to integers using __int__ is deprecated, and may be removed in a future version of Python.\n",
      "  \"x_features\": torch.as_tensor(a_rel_x, dtype=torch.int32),\n",
      "C:\\Users\\ivona\\AppData\\Local\\Temp\\ipykernel_25332\\1555465634.py:66: DeprecationWarning: an integer is required (got type float).  Implicit conversion to integers using __int__ is deprecated, and may be removed in a future version of Python.\n",
      "  \"y_features\": torch.as_tensor(a_rel_y, dtype=torch.int32),\n"
     ]
    },
    {
     "name": "stdout",
     "output_type": "stream",
     "text": [
      "Epoch 0:   7%|▋         | 5/75 [05:39<1:19:07, 67.82s/it, v_num=1, train_ce_loss=22.00, train_acc=0.604]"
     ]
    },
    {
     "name": "stderr",
     "output_type": "stream",
     "text": [
      "C:\\Users\\ivona\\AppData\\Local\\Temp\\ipykernel_25332\\1555465634.py:65: DeprecationWarning: an integer is required (got type float).  Implicit conversion to integers using __int__ is deprecated, and may be removed in a future version of Python.\n",
      "  \"x_features\": torch.as_tensor(a_rel_x, dtype=torch.int32),\n",
      "C:\\Users\\ivona\\AppData\\Local\\Temp\\ipykernel_25332\\1555465634.py:66: DeprecationWarning: an integer is required (got type float).  Implicit conversion to integers using __int__ is deprecated, and may be removed in a future version of Python.\n",
      "  \"y_features\": torch.as_tensor(a_rel_y, dtype=torch.int32),\n"
     ]
    },
    {
     "name": "stdout",
     "output_type": "stream",
     "text": [
      "Epoch 0:   8%|▊         | 6/75 [06:54<1:19:21, 69.01s/it, v_num=1, train_ce_loss=19.50, train_acc=0.697]"
     ]
    },
    {
     "name": "stderr",
     "output_type": "stream",
     "text": [
      "C:\\Users\\ivona\\AppData\\Local\\Temp\\ipykernel_25332\\1555465634.py:65: DeprecationWarning: an integer is required (got type float).  Implicit conversion to integers using __int__ is deprecated, and may be removed in a future version of Python.\n",
      "  \"x_features\": torch.as_tensor(a_rel_x, dtype=torch.int32),\n",
      "C:\\Users\\ivona\\AppData\\Local\\Temp\\ipykernel_25332\\1555465634.py:66: DeprecationWarning: an integer is required (got type float).  Implicit conversion to integers using __int__ is deprecated, and may be removed in a future version of Python.\n",
      "  \"y_features\": torch.as_tensor(a_rel_y, dtype=torch.int32),\n"
     ]
    },
    {
     "name": "stdout",
     "output_type": "stream",
     "text": [
      "Epoch 0:   9%|▉         | 7/75 [07:58<1:17:28, 68.36s/it, v_num=1, train_ce_loss=22.30, train_acc=0.660]"
     ]
    },
    {
     "name": "stderr",
     "output_type": "stream",
     "text": [
      "C:\\Users\\ivona\\AppData\\Local\\Temp\\ipykernel_25332\\1555465634.py:65: DeprecationWarning: an integer is required (got type float).  Implicit conversion to integers using __int__ is deprecated, and may be removed in a future version of Python.\n",
      "  \"x_features\": torch.as_tensor(a_rel_x, dtype=torch.int32),\n",
      "C:\\Users\\ivona\\AppData\\Local\\Temp\\ipykernel_25332\\1555465634.py:66: DeprecationWarning: an integer is required (got type float).  Implicit conversion to integers using __int__ is deprecated, and may be removed in a future version of Python.\n",
      "  \"y_features\": torch.as_tensor(a_rel_y, dtype=torch.int32),\n"
     ]
    },
    {
     "name": "stdout",
     "output_type": "stream",
     "text": [
      "Epoch 0:  11%|█         | 8/75 [09:03<1:15:49, 67.90s/it, v_num=1, train_ce_loss=35.60, train_acc=0.390]"
     ]
    },
    {
     "name": "stderr",
     "output_type": "stream",
     "text": [
      "C:\\Users\\ivona\\AppData\\Local\\Temp\\ipykernel_25332\\1555465634.py:65: DeprecationWarning: an integer is required (got type float).  Implicit conversion to integers using __int__ is deprecated, and may be removed in a future version of Python.\n",
      "  \"x_features\": torch.as_tensor(a_rel_x, dtype=torch.int32),\n",
      "C:\\Users\\ivona\\AppData\\Local\\Temp\\ipykernel_25332\\1555465634.py:66: DeprecationWarning: an integer is required (got type float).  Implicit conversion to integers using __int__ is deprecated, and may be removed in a future version of Python.\n",
      "  \"y_features\": torch.as_tensor(a_rel_y, dtype=torch.int32),\n"
     ]
    },
    {
     "name": "stdout",
     "output_type": "stream",
     "text": [
      "Epoch 0:  12%|█▏        | 9/75 [10:14<1:15:04, 68.26s/it, v_num=1, train_ce_loss=21.90, train_acc=0.467]"
     ]
    },
    {
     "name": "stderr",
     "output_type": "stream",
     "text": [
      "C:\\Users\\ivona\\AppData\\Local\\Temp\\ipykernel_25332\\1555465634.py:65: DeprecationWarning: an integer is required (got type float).  Implicit conversion to integers using __int__ is deprecated, and may be removed in a future version of Python.\n",
      "  \"x_features\": torch.as_tensor(a_rel_x, dtype=torch.int32),\n",
      "C:\\Users\\ivona\\AppData\\Local\\Temp\\ipykernel_25332\\1555465634.py:66: DeprecationWarning: an integer is required (got type float).  Implicit conversion to integers using __int__ is deprecated, and may be removed in a future version of Python.\n",
      "  \"y_features\": torch.as_tensor(a_rel_y, dtype=torch.int32),\n"
     ]
    },
    {
     "name": "stdout",
     "output_type": "stream",
     "text": [
      "Epoch 0:  13%|█▎        | 10/75 [11:20<1:13:42, 68.04s/it, v_num=1, train_ce_loss=15.50, train_acc=0.596]"
     ]
    },
    {
     "name": "stderr",
     "output_type": "stream",
     "text": [
      "C:\\Users\\ivona\\AppData\\Local\\Temp\\ipykernel_25332\\1555465634.py:65: DeprecationWarning: an integer is required (got type float).  Implicit conversion to integers using __int__ is deprecated, and may be removed in a future version of Python.\n",
      "  \"x_features\": torch.as_tensor(a_rel_x, dtype=torch.int32),\n",
      "C:\\Users\\ivona\\AppData\\Local\\Temp\\ipykernel_25332\\1555465634.py:66: DeprecationWarning: an integer is required (got type float).  Implicit conversion to integers using __int__ is deprecated, and may be removed in a future version of Python.\n",
      "  \"y_features\": torch.as_tensor(a_rel_y, dtype=torch.int32),\n"
     ]
    },
    {
     "name": "stdout",
     "output_type": "stream",
     "text": [
      "Epoch 0:  15%|█▍        | 11/75 [12:23<1:12:05, 67.59s/it, v_num=1, train_ce_loss=10.80, train_acc=0.690]"
     ]
    },
    {
     "name": "stderr",
     "output_type": "stream",
     "text": [
      "C:\\Users\\ivona\\AppData\\Local\\Temp\\ipykernel_25332\\1555465634.py:65: DeprecationWarning: an integer is required (got type float).  Implicit conversion to integers using __int__ is deprecated, and may be removed in a future version of Python.\n",
      "  \"x_features\": torch.as_tensor(a_rel_x, dtype=torch.int32),\n",
      "C:\\Users\\ivona\\AppData\\Local\\Temp\\ipykernel_25332\\1555465634.py:66: DeprecationWarning: an integer is required (got type float).  Implicit conversion to integers using __int__ is deprecated, and may be removed in a future version of Python.\n",
      "  \"y_features\": torch.as_tensor(a_rel_y, dtype=torch.int32),\n"
     ]
    },
    {
     "name": "stdout",
     "output_type": "stream",
     "text": [
      "Epoch 0:  16%|█▌        | 12/75 [13:25<1:10:28, 67.11s/it, v_num=1, train_ce_loss=6.860, train_acc=0.707]"
     ]
    },
    {
     "name": "stderr",
     "output_type": "stream",
     "text": [
      "C:\\Users\\ivona\\AppData\\Local\\Temp\\ipykernel_25332\\1555465634.py:65: DeprecationWarning: an integer is required (got type float).  Implicit conversion to integers using __int__ is deprecated, and may be removed in a future version of Python.\n",
      "  \"x_features\": torch.as_tensor(a_rel_x, dtype=torch.int32),\n",
      "C:\\Users\\ivona\\AppData\\Local\\Temp\\ipykernel_25332\\1555465634.py:66: DeprecationWarning: an integer is required (got type float).  Implicit conversion to integers using __int__ is deprecated, and may be removed in a future version of Python.\n",
      "  \"y_features\": torch.as_tensor(a_rel_y, dtype=torch.int32),\n"
     ]
    },
    {
     "name": "stdout",
     "output_type": "stream",
     "text": [
      "Epoch 0:  17%|█▋        | 13/75 [14:32<1:09:19, 67.09s/it, v_num=1, train_ce_loss=9.690, train_acc=0.581]"
     ]
    },
    {
     "name": "stderr",
     "output_type": "stream",
     "text": [
      "C:\\Users\\ivona\\AppData\\Local\\Temp\\ipykernel_25332\\1555465634.py:65: DeprecationWarning: an integer is required (got type float).  Implicit conversion to integers using __int__ is deprecated, and may be removed in a future version of Python.\n",
      "  \"x_features\": torch.as_tensor(a_rel_x, dtype=torch.int32),\n",
      "C:\\Users\\ivona\\AppData\\Local\\Temp\\ipykernel_25332\\1555465634.py:66: DeprecationWarning: an integer is required (got type float).  Implicit conversion to integers using __int__ is deprecated, and may be removed in a future version of Python.\n",
      "  \"y_features\": torch.as_tensor(a_rel_y, dtype=torch.int32),\n"
     ]
    },
    {
     "name": "stdout",
     "output_type": "stream",
     "text": [
      "Epoch 0:  19%|█▊        | 14/75 [15:38<1:08:10, 67.06s/it, v_num=1, train_ce_loss=8.810, train_acc=0.603]"
     ]
    },
    {
     "name": "stderr",
     "output_type": "stream",
     "text": [
      "C:\\Users\\ivona\\AppData\\Local\\Temp\\ipykernel_25332\\1555465634.py:65: DeprecationWarning: an integer is required (got type float).  Implicit conversion to integers using __int__ is deprecated, and may be removed in a future version of Python.\n",
      "  \"x_features\": torch.as_tensor(a_rel_x, dtype=torch.int32),\n",
      "C:\\Users\\ivona\\AppData\\Local\\Temp\\ipykernel_25332\\1555465634.py:66: DeprecationWarning: an integer is required (got type float).  Implicit conversion to integers using __int__ is deprecated, and may be removed in a future version of Python.\n",
      "  \"y_features\": torch.as_tensor(a_rel_y, dtype=torch.int32),\n"
     ]
    },
    {
     "name": "stdout",
     "output_type": "stream",
     "text": [
      "Epoch 0:  20%|██        | 15/75 [16:51<1:07:25, 67.43s/it, v_num=1, train_ce_loss=7.420, train_acc=0.747]"
     ]
    },
    {
     "name": "stderr",
     "output_type": "stream",
     "text": [
      "C:\\Users\\ivona\\AppData\\Local\\Temp\\ipykernel_25332\\1555465634.py:65: DeprecationWarning: an integer is required (got type float).  Implicit conversion to integers using __int__ is deprecated, and may be removed in a future version of Python.\n",
      "  \"x_features\": torch.as_tensor(a_rel_x, dtype=torch.int32),\n",
      "C:\\Users\\ivona\\AppData\\Local\\Temp\\ipykernel_25332\\1555465634.py:66: DeprecationWarning: an integer is required (got type float).  Implicit conversion to integers using __int__ is deprecated, and may be removed in a future version of Python.\n",
      "  \"y_features\": torch.as_tensor(a_rel_y, dtype=torch.int32),\n"
     ]
    },
    {
     "name": "stdout",
     "output_type": "stream",
     "text": [
      "Epoch 0:  21%|██▏       | 16/75 [17:59<1:06:20, 67.47s/it, v_num=1, train_ce_loss=8.200, train_acc=0.580]"
     ]
    },
    {
     "name": "stderr",
     "output_type": "stream",
     "text": [
      "C:\\Users\\ivona\\AppData\\Local\\Temp\\ipykernel_25332\\1555465634.py:65: DeprecationWarning: an integer is required (got type float).  Implicit conversion to integers using __int__ is deprecated, and may be removed in a future version of Python.\n",
      "  \"x_features\": torch.as_tensor(a_rel_x, dtype=torch.int32),\n",
      "C:\\Users\\ivona\\AppData\\Local\\Temp\\ipykernel_25332\\1555465634.py:66: DeprecationWarning: an integer is required (got type float).  Implicit conversion to integers using __int__ is deprecated, and may be removed in a future version of Python.\n",
      "  \"y_features\": torch.as_tensor(a_rel_y, dtype=torch.int32),\n"
     ]
    },
    {
     "name": "stdout",
     "output_type": "stream",
     "text": [
      "Epoch 0:  23%|██▎       | 17/75 [19:07<1:05:16, 67.52s/it, v_num=1, train_ce_loss=14.20, train_acc=0.318]"
     ]
    },
    {
     "name": "stderr",
     "output_type": "stream",
     "text": [
      "C:\\Users\\ivona\\AppData\\Local\\Temp\\ipykernel_25332\\1555465634.py:65: DeprecationWarning: an integer is required (got type float).  Implicit conversion to integers using __int__ is deprecated, and may be removed in a future version of Python.\n",
      "  \"x_features\": torch.as_tensor(a_rel_x, dtype=torch.int32),\n",
      "C:\\Users\\ivona\\AppData\\Local\\Temp\\ipykernel_25332\\1555465634.py:66: DeprecationWarning: an integer is required (got type float).  Implicit conversion to integers using __int__ is deprecated, and may be removed in a future version of Python.\n",
      "  \"y_features\": torch.as_tensor(a_rel_y, dtype=torch.int32),\n"
     ]
    },
    {
     "name": "stdout",
     "output_type": "stream",
     "text": [
      "Epoch 0:  24%|██▍       | 18/75 [20:12<1:04:00, 67.38s/it, v_num=1, train_ce_loss=10.40, train_acc=0.634]"
     ]
    },
    {
     "name": "stderr",
     "output_type": "stream",
     "text": [
      "C:\\Users\\ivona\\AppData\\Local\\Temp\\ipykernel_25332\\1555465634.py:65: DeprecationWarning: an integer is required (got type float).  Implicit conversion to integers using __int__ is deprecated, and may be removed in a future version of Python.\n",
      "  \"x_features\": torch.as_tensor(a_rel_x, dtype=torch.int32),\n",
      "C:\\Users\\ivona\\AppData\\Local\\Temp\\ipykernel_25332\\1555465634.py:66: DeprecationWarning: an integer is required (got type float).  Implicit conversion to integers using __int__ is deprecated, and may be removed in a future version of Python.\n",
      "  \"y_features\": torch.as_tensor(a_rel_y, dtype=torch.int32),\n"
     ]
    },
    {
     "name": "stdout",
     "output_type": "stream",
     "text": [
      "Epoch 0:  25%|██▌       | 19/75 [21:19<1:02:50, 67.32s/it, v_num=1, train_ce_loss=6.030, train_acc=0.788]"
     ]
    },
    {
     "name": "stderr",
     "output_type": "stream",
     "text": [
      "C:\\Users\\ivona\\AppData\\Local\\Temp\\ipykernel_25332\\1555465634.py:65: DeprecationWarning: an integer is required (got type float).  Implicit conversion to integers using __int__ is deprecated, and may be removed in a future version of Python.\n",
      "  \"x_features\": torch.as_tensor(a_rel_x, dtype=torch.int32),\n",
      "C:\\Users\\ivona\\AppData\\Local\\Temp\\ipykernel_25332\\1555465634.py:66: DeprecationWarning: an integer is required (got type float).  Implicit conversion to integers using __int__ is deprecated, and may be removed in a future version of Python.\n",
      "  \"y_features\": torch.as_tensor(a_rel_y, dtype=torch.int32),\n"
     ]
    },
    {
     "name": "stdout",
     "output_type": "stream",
     "text": [
      "Epoch 0:  27%|██▋       | 20/75 [22:25<1:01:40, 67.28s/it, v_num=1, train_ce_loss=10.80, train_acc=0.633]"
     ]
    },
    {
     "name": "stderr",
     "output_type": "stream",
     "text": [
      "C:\\Users\\ivona\\AppData\\Local\\Temp\\ipykernel_25332\\1555465634.py:65: DeprecationWarning: an integer is required (got type float).  Implicit conversion to integers using __int__ is deprecated, and may be removed in a future version of Python.\n",
      "  \"x_features\": torch.as_tensor(a_rel_x, dtype=torch.int32),\n",
      "C:\\Users\\ivona\\AppData\\Local\\Temp\\ipykernel_25332\\1555465634.py:66: DeprecationWarning: an integer is required (got type float).  Implicit conversion to integers using __int__ is deprecated, and may be removed in a future version of Python.\n",
      "  \"y_features\": torch.as_tensor(a_rel_y, dtype=torch.int32),\n"
     ]
    },
    {
     "name": "stdout",
     "output_type": "stream",
     "text": [
      "Epoch 0:  28%|██▊       | 21/75 [23:24<1:00:10, 66.87s/it, v_num=1, train_ce_loss=8.240, train_acc=0.637]"
     ]
    },
    {
     "name": "stderr",
     "output_type": "stream",
     "text": [
      "C:\\Users\\ivona\\AppData\\Local\\Temp\\ipykernel_25332\\1555465634.py:65: DeprecationWarning: an integer is required (got type float).  Implicit conversion to integers using __int__ is deprecated, and may be removed in a future version of Python.\n",
      "  \"x_features\": torch.as_tensor(a_rel_x, dtype=torch.int32),\n",
      "C:\\Users\\ivona\\AppData\\Local\\Temp\\ipykernel_25332\\1555465634.py:66: DeprecationWarning: an integer is required (got type float).  Implicit conversion to integers using __int__ is deprecated, and may be removed in a future version of Python.\n",
      "  \"y_features\": torch.as_tensor(a_rel_y, dtype=torch.int32),\n"
     ]
    },
    {
     "name": "stdout",
     "output_type": "stream",
     "text": [
      "Epoch 0:  29%|██▉       | 22/75 [24:23<58:46, 66.54s/it, v_num=1, train_ce_loss=6.970, train_acc=0.690]  "
     ]
    },
    {
     "name": "stderr",
     "output_type": "stream",
     "text": [
      "C:\\Users\\ivona\\AppData\\Local\\Temp\\ipykernel_25332\\1555465634.py:65: DeprecationWarning: an integer is required (got type float).  Implicit conversion to integers using __int__ is deprecated, and may be removed in a future version of Python.\n",
      "  \"x_features\": torch.as_tensor(a_rel_x, dtype=torch.int32),\n",
      "C:\\Users\\ivona\\AppData\\Local\\Temp\\ipykernel_25332\\1555465634.py:66: DeprecationWarning: an integer is required (got type float).  Implicit conversion to integers using __int__ is deprecated, and may be removed in a future version of Python.\n",
      "  \"y_features\": torch.as_tensor(a_rel_y, dtype=torch.int32),\n"
     ]
    },
    {
     "name": "stdout",
     "output_type": "stream",
     "text": [
      "Epoch 0:  31%|███       | 23/75 [25:22<57:22, 66.19s/it, v_num=1, train_ce_loss=6.030, train_acc=0.716]"
     ]
    },
    {
     "name": "stderr",
     "output_type": "stream",
     "text": [
      "C:\\Users\\ivona\\AppData\\Local\\Temp\\ipykernel_25332\\1555465634.py:65: DeprecationWarning: an integer is required (got type float).  Implicit conversion to integers using __int__ is deprecated, and may be removed in a future version of Python.\n",
      "  \"x_features\": torch.as_tensor(a_rel_x, dtype=torch.int32),\n",
      "C:\\Users\\ivona\\AppData\\Local\\Temp\\ipykernel_25332\\1555465634.py:66: DeprecationWarning: an integer is required (got type float).  Implicit conversion to integers using __int__ is deprecated, and may be removed in a future version of Python.\n",
      "  \"y_features\": torch.as_tensor(a_rel_y, dtype=torch.int32),\n"
     ]
    },
    {
     "name": "stdout",
     "output_type": "stream",
     "text": [
      "Epoch 0:  32%|███▏      | 24/75 [26:25<56:09, 66.06s/it, v_num=1, train_ce_loss=6.820, train_acc=0.679]"
     ]
    },
    {
     "name": "stderr",
     "output_type": "stream",
     "text": [
      "C:\\Users\\ivona\\AppData\\Local\\Temp\\ipykernel_25332\\1555465634.py:65: DeprecationWarning: an integer is required (got type float).  Implicit conversion to integers using __int__ is deprecated, and may be removed in a future version of Python.\n",
      "  \"x_features\": torch.as_tensor(a_rel_x, dtype=torch.int32),\n",
      "C:\\Users\\ivona\\AppData\\Local\\Temp\\ipykernel_25332\\1555465634.py:66: DeprecationWarning: an integer is required (got type float).  Implicit conversion to integers using __int__ is deprecated, and may be removed in a future version of Python.\n",
      "  \"y_features\": torch.as_tensor(a_rel_y, dtype=torch.int32),\n"
     ]
    },
    {
     "name": "stdout",
     "output_type": "stream",
     "text": [
      "Epoch 0:  33%|███▎      | 25/75 [27:32<55:04, 66.08s/it, v_num=1, train_ce_loss=8.500, train_acc=0.531]"
     ]
    },
    {
     "name": "stderr",
     "output_type": "stream",
     "text": [
      "C:\\Users\\ivona\\AppData\\Local\\Temp\\ipykernel_25332\\1555465634.py:65: DeprecationWarning: an integer is required (got type float).  Implicit conversion to integers using __int__ is deprecated, and may be removed in a future version of Python.\n",
      "  \"x_features\": torch.as_tensor(a_rel_x, dtype=torch.int32),\n",
      "C:\\Users\\ivona\\AppData\\Local\\Temp\\ipykernel_25332\\1555465634.py:66: DeprecationWarning: an integer is required (got type float).  Implicit conversion to integers using __int__ is deprecated, and may be removed in a future version of Python.\n",
      "  \"y_features\": torch.as_tensor(a_rel_y, dtype=torch.int32),\n"
     ]
    },
    {
     "name": "stdout",
     "output_type": "stream",
     "text": [
      "Epoch 0:  35%|███▍      | 26/75 [28:50<54:20, 66.55s/it, v_num=1, train_ce_loss=5.930, train_acc=0.675]"
     ]
    },
    {
     "name": "stderr",
     "output_type": "stream",
     "text": [
      "C:\\Users\\ivona\\AppData\\Local\\Temp\\ipykernel_25332\\1555465634.py:65: DeprecationWarning: an integer is required (got type float).  Implicit conversion to integers using __int__ is deprecated, and may be removed in a future version of Python.\n",
      "  \"x_features\": torch.as_tensor(a_rel_x, dtype=torch.int32),\n",
      "C:\\Users\\ivona\\AppData\\Local\\Temp\\ipykernel_25332\\1555465634.py:66: DeprecationWarning: an integer is required (got type float).  Implicit conversion to integers using __int__ is deprecated, and may be removed in a future version of Python.\n",
      "  \"y_features\": torch.as_tensor(a_rel_y, dtype=torch.int32),\n"
     ]
    },
    {
     "name": "stdout",
     "output_type": "stream",
     "text": [
      "Epoch 0:  36%|███▌      | 27/75 [29:59<53:19, 66.65s/it, v_num=1, train_ce_loss=4.720, train_acc=0.692]"
     ]
    },
    {
     "name": "stderr",
     "output_type": "stream",
     "text": [
      "C:\\Users\\ivona\\AppData\\Local\\Temp\\ipykernel_25332\\1555465634.py:65: DeprecationWarning: an integer is required (got type float).  Implicit conversion to integers using __int__ is deprecated, and may be removed in a future version of Python.\n",
      "  \"x_features\": torch.as_tensor(a_rel_x, dtype=torch.int32),\n",
      "C:\\Users\\ivona\\AppData\\Local\\Temp\\ipykernel_25332\\1555465634.py:66: DeprecationWarning: an integer is required (got type float).  Implicit conversion to integers using __int__ is deprecated, and may be removed in a future version of Python.\n",
      "  \"y_features\": torch.as_tensor(a_rel_y, dtype=torch.int32),\n"
     ]
    },
    {
     "name": "stdout",
     "output_type": "stream",
     "text": [
      "Epoch 0:  37%|███▋      | 28/75 [31:12<52:23, 66.89s/it, v_num=1, train_ce_loss=6.300, train_acc=0.606]"
     ]
    },
    {
     "name": "stderr",
     "output_type": "stream",
     "text": [
      "C:\\Users\\ivona\\AppData\\Local\\Temp\\ipykernel_25332\\1555465634.py:65: DeprecationWarning: an integer is required (got type float).  Implicit conversion to integers using __int__ is deprecated, and may be removed in a future version of Python.\n",
      "  \"x_features\": torch.as_tensor(a_rel_x, dtype=torch.int32),\n",
      "C:\\Users\\ivona\\AppData\\Local\\Temp\\ipykernel_25332\\1555465634.py:66: DeprecationWarning: an integer is required (got type float).  Implicit conversion to integers using __int__ is deprecated, and may be removed in a future version of Python.\n",
      "  \"y_features\": torch.as_tensor(a_rel_y, dtype=torch.int32),\n"
     ]
    },
    {
     "name": "stdout",
     "output_type": "stream",
     "text": [
      "Epoch 0:  39%|███▊      | 29/75 [32:18<51:15, 66.86s/it, v_num=1, train_ce_loss=6.830, train_acc=0.661]"
     ]
    },
    {
     "name": "stderr",
     "output_type": "stream",
     "text": [
      "C:\\Users\\ivona\\AppData\\Local\\Temp\\ipykernel_25332\\1555465634.py:65: DeprecationWarning: an integer is required (got type float).  Implicit conversion to integers using __int__ is deprecated, and may be removed in a future version of Python.\n",
      "  \"x_features\": torch.as_tensor(a_rel_x, dtype=torch.int32),\n",
      "C:\\Users\\ivona\\AppData\\Local\\Temp\\ipykernel_25332\\1555465634.py:66: DeprecationWarning: an integer is required (got type float).  Implicit conversion to integers using __int__ is deprecated, and may be removed in a future version of Python.\n",
      "  \"y_features\": torch.as_tensor(a_rel_y, dtype=torch.int32),\n"
     ]
    },
    {
     "name": "stdout",
     "output_type": "stream",
     "text": [
      "Epoch 0:  40%|████      | 30/75 [33:27<50:11, 66.93s/it, v_num=1, train_ce_loss=5.590, train_acc=0.699]"
     ]
    },
    {
     "name": "stderr",
     "output_type": "stream",
     "text": [
      "C:\\Users\\ivona\\AppData\\Local\\Temp\\ipykernel_25332\\1555465634.py:65: DeprecationWarning: an integer is required (got type float).  Implicit conversion to integers using __int__ is deprecated, and may be removed in a future version of Python.\n",
      "  \"x_features\": torch.as_tensor(a_rel_x, dtype=torch.int32),\n",
      "C:\\Users\\ivona\\AppData\\Local\\Temp\\ipykernel_25332\\1555465634.py:66: DeprecationWarning: an integer is required (got type float).  Implicit conversion to integers using __int__ is deprecated, and may be removed in a future version of Python.\n",
      "  \"y_features\": torch.as_tensor(a_rel_y, dtype=torch.int32),\n"
     ]
    },
    {
     "name": "stdout",
     "output_type": "stream",
     "text": [
      "Epoch 0:  41%|████▏     | 31/75 [34:50<49:27, 67.44s/it, v_num=1, train_ce_loss=5.480, train_acc=0.624]"
     ]
    },
    {
     "name": "stderr",
     "output_type": "stream",
     "text": [
      "C:\\Users\\ivona\\AppData\\Local\\Temp\\ipykernel_25332\\1555465634.py:65: DeprecationWarning: an integer is required (got type float).  Implicit conversion to integers using __int__ is deprecated, and may be removed in a future version of Python.\n",
      "  \"x_features\": torch.as_tensor(a_rel_x, dtype=torch.int32),\n",
      "C:\\Users\\ivona\\AppData\\Local\\Temp\\ipykernel_25332\\1555465634.py:66: DeprecationWarning: an integer is required (got type float).  Implicit conversion to integers using __int__ is deprecated, and may be removed in a future version of Python.\n",
      "  \"y_features\": torch.as_tensor(a_rel_y, dtype=torch.int32),\n"
     ]
    },
    {
     "name": "stdout",
     "output_type": "stream",
     "text": [
      "Epoch 0:  43%|████▎     | 32/75 [35:59<48:21, 67.47s/it, v_num=1, train_ce_loss=3.940, train_acc=0.769]"
     ]
    },
    {
     "name": "stderr",
     "output_type": "stream",
     "text": [
      "C:\\Users\\ivona\\AppData\\Local\\Temp\\ipykernel_25332\\1555465634.py:65: DeprecationWarning: an integer is required (got type float).  Implicit conversion to integers using __int__ is deprecated, and may be removed in a future version of Python.\n",
      "  \"x_features\": torch.as_tensor(a_rel_x, dtype=torch.int32),\n",
      "C:\\Users\\ivona\\AppData\\Local\\Temp\\ipykernel_25332\\1555465634.py:66: DeprecationWarning: an integer is required (got type float).  Implicit conversion to integers using __int__ is deprecated, and may be removed in a future version of Python.\n",
      "  \"y_features\": torch.as_tensor(a_rel_y, dtype=torch.int32),\n"
     ]
    },
    {
     "name": "stdout",
     "output_type": "stream",
     "text": [
      "Epoch 0:  44%|████▍     | 33/75 [37:08<47:16, 67.52s/it, v_num=1, train_ce_loss=3.090, train_acc=0.816]"
     ]
    },
    {
     "name": "stderr",
     "output_type": "stream",
     "text": [
      "C:\\Users\\ivona\\AppData\\Local\\Temp\\ipykernel_25332\\1555465634.py:65: DeprecationWarning: an integer is required (got type float).  Implicit conversion to integers using __int__ is deprecated, and may be removed in a future version of Python.\n",
      "  \"x_features\": torch.as_tensor(a_rel_x, dtype=torch.int32),\n",
      "C:\\Users\\ivona\\AppData\\Local\\Temp\\ipykernel_25332\\1555465634.py:66: DeprecationWarning: an integer is required (got type float).  Implicit conversion to integers using __int__ is deprecated, and may be removed in a future version of Python.\n",
      "  \"y_features\": torch.as_tensor(a_rel_y, dtype=torch.int32),\n"
     ]
    },
    {
     "name": "stdout",
     "output_type": "stream",
     "text": [
      "Epoch 0:  45%|████▌     | 34/75 [38:10<46:02, 67.37s/it, v_num=1, train_ce_loss=4.210, train_acc=0.675]"
     ]
    },
    {
     "name": "stderr",
     "output_type": "stream",
     "text": [
      "C:\\Users\\ivona\\AppData\\Local\\Temp\\ipykernel_25332\\1555465634.py:65: DeprecationWarning: an integer is required (got type float).  Implicit conversion to integers using __int__ is deprecated, and may be removed in a future version of Python.\n",
      "  \"x_features\": torch.as_tensor(a_rel_x, dtype=torch.int32),\n",
      "C:\\Users\\ivona\\AppData\\Local\\Temp\\ipykernel_25332\\1555465634.py:66: DeprecationWarning: an integer is required (got type float).  Implicit conversion to integers using __int__ is deprecated, and may be removed in a future version of Python.\n",
      "  \"y_features\": torch.as_tensor(a_rel_y, dtype=torch.int32),\n"
     ]
    },
    {
     "name": "stdout",
     "output_type": "stream",
     "text": [
      "Epoch 0:  47%|████▋     | 35/75 [39:13<44:50, 67.26s/it, v_num=1, train_ce_loss=3.460, train_acc=0.779]"
     ]
    },
    {
     "name": "stderr",
     "output_type": "stream",
     "text": [
      "C:\\Users\\ivona\\AppData\\Local\\Temp\\ipykernel_25332\\1555465634.py:65: DeprecationWarning: an integer is required (got type float).  Implicit conversion to integers using __int__ is deprecated, and may be removed in a future version of Python.\n",
      "  \"x_features\": torch.as_tensor(a_rel_x, dtype=torch.int32),\n",
      "C:\\Users\\ivona\\AppData\\Local\\Temp\\ipykernel_25332\\1555465634.py:66: DeprecationWarning: an integer is required (got type float).  Implicit conversion to integers using __int__ is deprecated, and may be removed in a future version of Python.\n",
      "  \"y_features\": torch.as_tensor(a_rel_y, dtype=torch.int32),\n"
     ]
    },
    {
     "name": "stdout",
     "output_type": "stream",
     "text": [
      "Epoch 0:  48%|████▊     | 36/75 [40:15<43:36, 67.10s/it, v_num=1, train_ce_loss=4.940, train_acc=0.781]"
     ]
    },
    {
     "name": "stderr",
     "output_type": "stream",
     "text": [
      "C:\\Users\\ivona\\AppData\\Local\\Temp\\ipykernel_25332\\1555465634.py:65: DeprecationWarning: an integer is required (got type float).  Implicit conversion to integers using __int__ is deprecated, and may be removed in a future version of Python.\n",
      "  \"x_features\": torch.as_tensor(a_rel_x, dtype=torch.int32),\n",
      "C:\\Users\\ivona\\AppData\\Local\\Temp\\ipykernel_25332\\1555465634.py:66: DeprecationWarning: an integer is required (got type float).  Implicit conversion to integers using __int__ is deprecated, and may be removed in a future version of Python.\n",
      "  \"y_features\": torch.as_tensor(a_rel_y, dtype=torch.int32),\n"
     ]
    },
    {
     "name": "stdout",
     "output_type": "stream",
     "text": [
      "Epoch 0:  49%|████▉     | 37/75 [41:18<42:25, 66.98s/it, v_num=1, train_ce_loss=4.180, train_acc=0.729]"
     ]
    },
    {
     "name": "stderr",
     "output_type": "stream",
     "text": [
      "C:\\Users\\ivona\\AppData\\Local\\Temp\\ipykernel_25332\\1555465634.py:65: DeprecationWarning: an integer is required (got type float).  Implicit conversion to integers using __int__ is deprecated, and may be removed in a future version of Python.\n",
      "  \"x_features\": torch.as_tensor(a_rel_x, dtype=torch.int32),\n",
      "C:\\Users\\ivona\\AppData\\Local\\Temp\\ipykernel_25332\\1555465634.py:66: DeprecationWarning: an integer is required (got type float).  Implicit conversion to integers using __int__ is deprecated, and may be removed in a future version of Python.\n",
      "  \"y_features\": torch.as_tensor(a_rel_y, dtype=torch.int32),\n"
     ]
    },
    {
     "name": "stdout",
     "output_type": "stream",
     "text": [
      "Epoch 0:  51%|█████     | 38/75 [42:04<40:58, 66.44s/it, v_num=1, train_ce_loss=3.590, train_acc=0.688]"
     ]
    },
    {
     "name": "stderr",
     "output_type": "stream",
     "text": [
      "C:\\Users\\ivona\\AppData\\Local\\Temp\\ipykernel_25332\\1555465634.py:65: DeprecationWarning: an integer is required (got type float).  Implicit conversion to integers using __int__ is deprecated, and may be removed in a future version of Python.\n",
      "  \"x_features\": torch.as_tensor(a_rel_x, dtype=torch.int32),\n",
      "C:\\Users\\ivona\\AppData\\Local\\Temp\\ipykernel_25332\\1555465634.py:66: DeprecationWarning: an integer is required (got type float).  Implicit conversion to integers using __int__ is deprecated, and may be removed in a future version of Python.\n",
      "  \"y_features\": torch.as_tensor(a_rel_y, dtype=torch.int32),\n"
     ]
    },
    {
     "name": "stdout",
     "output_type": "stream",
     "text": [
      "Epoch 0:  52%|█████▏    | 39/75 [43:07<39:48, 66.35s/it, v_num=1, train_ce_loss=4.500, train_acc=0.649]"
     ]
    },
    {
     "name": "stderr",
     "output_type": "stream",
     "text": [
      "C:\\Users\\ivona\\AppData\\Local\\Temp\\ipykernel_25332\\1555465634.py:65: DeprecationWarning: an integer is required (got type float).  Implicit conversion to integers using __int__ is deprecated, and may be removed in a future version of Python.\n",
      "  \"x_features\": torch.as_tensor(a_rel_x, dtype=torch.int32),\n",
      "C:\\Users\\ivona\\AppData\\Local\\Temp\\ipykernel_25332\\1555465634.py:66: DeprecationWarning: an integer is required (got type float).  Implicit conversion to integers using __int__ is deprecated, and may be removed in a future version of Python.\n",
      "  \"y_features\": torch.as_tensor(a_rel_y, dtype=torch.int32),\n"
     ]
    },
    {
     "name": "stdout",
     "output_type": "stream",
     "text": [
      "Epoch 0:  53%|█████▎    | 40/75 [44:25<38:52, 66.63s/it, v_num=1, train_ce_loss=5.680, train_acc=0.555]"
     ]
    },
    {
     "name": "stderr",
     "output_type": "stream",
     "text": [
      "C:\\Users\\ivona\\AppData\\Local\\Temp\\ipykernel_25332\\1555465634.py:65: DeprecationWarning: an integer is required (got type float).  Implicit conversion to integers using __int__ is deprecated, and may be removed in a future version of Python.\n",
      "  \"x_features\": torch.as_tensor(a_rel_x, dtype=torch.int32),\n",
      "C:\\Users\\ivona\\AppData\\Local\\Temp\\ipykernel_25332\\1555465634.py:66: DeprecationWarning: an integer is required (got type float).  Implicit conversion to integers using __int__ is deprecated, and may be removed in a future version of Python.\n",
      "  \"y_features\": torch.as_tensor(a_rel_y, dtype=torch.int32),\n"
     ]
    },
    {
     "name": "stdout",
     "output_type": "stream",
     "text": [
      "Epoch 0:  55%|█████▍    | 41/75 [45:48<37:59, 67.05s/it, v_num=1, train_ce_loss=6.090, train_acc=0.540]"
     ]
    },
    {
     "name": "stderr",
     "output_type": "stream",
     "text": [
      "C:\\Users\\ivona\\AppData\\Local\\Temp\\ipykernel_25332\\1555465634.py:65: DeprecationWarning: an integer is required (got type float).  Implicit conversion to integers using __int__ is deprecated, and may be removed in a future version of Python.\n",
      "  \"x_features\": torch.as_tensor(a_rel_x, dtype=torch.int32),\n",
      "C:\\Users\\ivona\\AppData\\Local\\Temp\\ipykernel_25332\\1555465634.py:66: DeprecationWarning: an integer is required (got type float).  Implicit conversion to integers using __int__ is deprecated, and may be removed in a future version of Python.\n",
      "  \"y_features\": torch.as_tensor(a_rel_y, dtype=torch.int32),\n"
     ]
    },
    {
     "name": "stdout",
     "output_type": "stream",
     "text": [
      "Epoch 0:  56%|█████▌    | 42/75 [46:51<36:48, 66.93s/it, v_num=1, train_ce_loss=2.300, train_acc=0.774]"
     ]
    },
    {
     "name": "stderr",
     "output_type": "stream",
     "text": [
      "C:\\Users\\ivona\\AppData\\Local\\Temp\\ipykernel_25332\\1555465634.py:65: DeprecationWarning: an integer is required (got type float).  Implicit conversion to integers using __int__ is deprecated, and may be removed in a future version of Python.\n",
      "  \"x_features\": torch.as_tensor(a_rel_x, dtype=torch.int32),\n",
      "C:\\Users\\ivona\\AppData\\Local\\Temp\\ipykernel_25332\\1555465634.py:66: DeprecationWarning: an integer is required (got type float).  Implicit conversion to integers using __int__ is deprecated, and may be removed in a future version of Python.\n",
      "  \"y_features\": torch.as_tensor(a_rel_y, dtype=torch.int32),\n"
     ]
    },
    {
     "name": "stdout",
     "output_type": "stream",
     "text": [
      "Epoch 0:  57%|█████▋    | 43/75 [47:49<35:35, 66.74s/it, v_num=1, train_ce_loss=2.710, train_acc=0.762]"
     ]
    },
    {
     "name": "stderr",
     "output_type": "stream",
     "text": [
      "C:\\Users\\ivona\\AppData\\Local\\Temp\\ipykernel_25332\\1555465634.py:65: DeprecationWarning: an integer is required (got type float).  Implicit conversion to integers using __int__ is deprecated, and may be removed in a future version of Python.\n",
      "  \"x_features\": torch.as_tensor(a_rel_x, dtype=torch.int32),\n",
      "C:\\Users\\ivona\\AppData\\Local\\Temp\\ipykernel_25332\\1555465634.py:66: DeprecationWarning: an integer is required (got type float).  Implicit conversion to integers using __int__ is deprecated, and may be removed in a future version of Python.\n",
      "  \"y_features\": torch.as_tensor(a_rel_y, dtype=torch.int32),\n"
     ]
    },
    {
     "name": "stdout",
     "output_type": "stream",
     "text": [
      "Epoch 0:  59%|█████▊    | 44/75 [48:48<34:23, 66.55s/it, v_num=1, train_ce_loss=2.710, train_acc=0.768]"
     ]
    },
    {
     "name": "stderr",
     "output_type": "stream",
     "text": [
      "C:\\Users\\ivona\\AppData\\Local\\Temp\\ipykernel_25332\\1555465634.py:65: DeprecationWarning: an integer is required (got type float).  Implicit conversion to integers using __int__ is deprecated, and may be removed in a future version of Python.\n",
      "  \"x_features\": torch.as_tensor(a_rel_x, dtype=torch.int32),\n",
      "C:\\Users\\ivona\\AppData\\Local\\Temp\\ipykernel_25332\\1555465634.py:66: DeprecationWarning: an integer is required (got type float).  Implicit conversion to integers using __int__ is deprecated, and may be removed in a future version of Python.\n",
      "  \"y_features\": torch.as_tensor(a_rel_y, dtype=torch.int32),\n"
     ]
    },
    {
     "name": "stdout",
     "output_type": "stream",
     "text": [
      "Epoch 0:  60%|██████    | 45/75 [49:48<33:12, 66.42s/it, v_num=1, train_ce_loss=4.590, train_acc=0.648]"
     ]
    },
    {
     "name": "stderr",
     "output_type": "stream",
     "text": [
      "C:\\Users\\ivona\\AppData\\Local\\Temp\\ipykernel_25332\\1555465634.py:65: DeprecationWarning: an integer is required (got type float).  Implicit conversion to integers using __int__ is deprecated, and may be removed in a future version of Python.\n",
      "  \"x_features\": torch.as_tensor(a_rel_x, dtype=torch.int32),\n",
      "C:\\Users\\ivona\\AppData\\Local\\Temp\\ipykernel_25332\\1555465634.py:66: DeprecationWarning: an integer is required (got type float).  Implicit conversion to integers using __int__ is deprecated, and may be removed in a future version of Python.\n",
      "  \"y_features\": torch.as_tensor(a_rel_y, dtype=torch.int32),\n"
     ]
    },
    {
     "name": "stdout",
     "output_type": "stream",
     "text": [
      "Epoch 0:  61%|██████▏   | 46/75 [50:58<32:07, 66.48s/it, v_num=1, train_ce_loss=2.700, train_acc=0.746]"
     ]
    },
    {
     "name": "stderr",
     "output_type": "stream",
     "text": [
      "C:\\Users\\ivona\\AppData\\Local\\Temp\\ipykernel_25332\\1555465634.py:65: DeprecationWarning: an integer is required (got type float).  Implicit conversion to integers using __int__ is deprecated, and may be removed in a future version of Python.\n",
      "  \"x_features\": torch.as_tensor(a_rel_x, dtype=torch.int32),\n",
      "C:\\Users\\ivona\\AppData\\Local\\Temp\\ipykernel_25332\\1555465634.py:66: DeprecationWarning: an integer is required (got type float).  Implicit conversion to integers using __int__ is deprecated, and may be removed in a future version of Python.\n",
      "  \"y_features\": torch.as_tensor(a_rel_y, dtype=torch.int32),\n"
     ]
    },
    {
     "name": "stdout",
     "output_type": "stream",
     "text": [
      "Epoch 0:  63%|██████▎   | 47/75 [52:04<31:01, 66.47s/it, v_num=1, train_ce_loss=2.990, train_acc=0.725]"
     ]
    },
    {
     "name": "stderr",
     "output_type": "stream",
     "text": [
      "C:\\Users\\ivona\\AppData\\Local\\Temp\\ipykernel_25332\\1555465634.py:65: DeprecationWarning: an integer is required (got type float).  Implicit conversion to integers using __int__ is deprecated, and may be removed in a future version of Python.\n",
      "  \"x_features\": torch.as_tensor(a_rel_x, dtype=torch.int32),\n",
      "C:\\Users\\ivona\\AppData\\Local\\Temp\\ipykernel_25332\\1555465634.py:66: DeprecationWarning: an integer is required (got type float).  Implicit conversion to integers using __int__ is deprecated, and may be removed in a future version of Python.\n",
      "  \"y_features\": torch.as_tensor(a_rel_y, dtype=torch.int32),\n"
     ]
    },
    {
     "name": "stdout",
     "output_type": "stream",
     "text": [
      "Epoch 0:  64%|██████▍   | 48/75 [53:09<29:54, 66.45s/it, v_num=1, train_ce_loss=2.430, train_acc=0.789]"
     ]
    },
    {
     "name": "stderr",
     "output_type": "stream",
     "text": [
      "C:\\Users\\ivona\\AppData\\Local\\Temp\\ipykernel_25332\\1555465634.py:65: DeprecationWarning: an integer is required (got type float).  Implicit conversion to integers using __int__ is deprecated, and may be removed in a future version of Python.\n",
      "  \"x_features\": torch.as_tensor(a_rel_x, dtype=torch.int32),\n",
      "C:\\Users\\ivona\\AppData\\Local\\Temp\\ipykernel_25332\\1555465634.py:66: DeprecationWarning: an integer is required (got type float).  Implicit conversion to integers using __int__ is deprecated, and may be removed in a future version of Python.\n",
      "  \"y_features\": torch.as_tensor(a_rel_y, dtype=torch.int32),\n"
     ]
    },
    {
     "name": "stdout",
     "output_type": "stream",
     "text": [
      "Epoch 0:  65%|██████▌   | 49/75 [54:15<28:47, 66.43s/it, v_num=1, train_ce_loss=4.230, train_acc=0.657]"
     ]
    },
    {
     "name": "stderr",
     "output_type": "stream",
     "text": [
      "C:\\Users\\ivona\\AppData\\Local\\Temp\\ipykernel_25332\\1555465634.py:65: DeprecationWarning: an integer is required (got type float).  Implicit conversion to integers using __int__ is deprecated, and may be removed in a future version of Python.\n",
      "  \"x_features\": torch.as_tensor(a_rel_x, dtype=torch.int32),\n",
      "C:\\Users\\ivona\\AppData\\Local\\Temp\\ipykernel_25332\\1555465634.py:66: DeprecationWarning: an integer is required (got type float).  Implicit conversion to integers using __int__ is deprecated, and may be removed in a future version of Python.\n",
      "  \"y_features\": torch.as_tensor(a_rel_y, dtype=torch.int32),\n"
     ]
    },
    {
     "name": "stdout",
     "output_type": "stream",
     "text": [
      "Epoch 0:  67%|██████▋   | 50/75 [55:18<27:39, 66.36s/it, v_num=1, train_ce_loss=4.620, train_acc=0.657]"
     ]
    },
    {
     "name": "stderr",
     "output_type": "stream",
     "text": [
      "C:\\Users\\ivona\\AppData\\Local\\Temp\\ipykernel_25332\\1555465634.py:65: DeprecationWarning: an integer is required (got type float).  Implicit conversion to integers using __int__ is deprecated, and may be removed in a future version of Python.\n",
      "  \"x_features\": torch.as_tensor(a_rel_x, dtype=torch.int32),\n",
      "C:\\Users\\ivona\\AppData\\Local\\Temp\\ipykernel_25332\\1555465634.py:66: DeprecationWarning: an integer is required (got type float).  Implicit conversion to integers using __int__ is deprecated, and may be removed in a future version of Python.\n",
      "  \"y_features\": torch.as_tensor(a_rel_y, dtype=torch.int32),\n"
     ]
    },
    {
     "name": "stdout",
     "output_type": "stream",
     "text": [
      "Epoch 0:  68%|██████▊   | 51/75 [56:25<26:33, 66.39s/it, v_num=1, train_ce_loss=2.090, train_acc=0.807]"
     ]
    },
    {
     "name": "stderr",
     "output_type": "stream",
     "text": [
      "C:\\Users\\ivona\\AppData\\Local\\Temp\\ipykernel_25332\\1555465634.py:65: DeprecationWarning: an integer is required (got type float).  Implicit conversion to integers using __int__ is deprecated, and may be removed in a future version of Python.\n",
      "  \"x_features\": torch.as_tensor(a_rel_x, dtype=torch.int32),\n",
      "C:\\Users\\ivona\\AppData\\Local\\Temp\\ipykernel_25332\\1555465634.py:66: DeprecationWarning: an integer is required (got type float).  Implicit conversion to integers using __int__ is deprecated, and may be removed in a future version of Python.\n",
      "  \"y_features\": torch.as_tensor(a_rel_y, dtype=torch.int32),\n"
     ]
    },
    {
     "name": "stdout",
     "output_type": "stream",
     "text": [
      "Epoch 0:  69%|██████▉   | 52/75 [57:32<25:26, 66.39s/it, v_num=1, train_ce_loss=3.110, train_acc=0.703]"
     ]
    },
    {
     "name": "stderr",
     "output_type": "stream",
     "text": [
      "C:\\Users\\ivona\\AppData\\Local\\Temp\\ipykernel_25332\\1555465634.py:65: DeprecationWarning: an integer is required (got type float).  Implicit conversion to integers using __int__ is deprecated, and may be removed in a future version of Python.\n",
      "  \"x_features\": torch.as_tensor(a_rel_x, dtype=torch.int32),\n",
      "C:\\Users\\ivona\\AppData\\Local\\Temp\\ipykernel_25332\\1555465634.py:66: DeprecationWarning: an integer is required (got type float).  Implicit conversion to integers using __int__ is deprecated, and may be removed in a future version of Python.\n",
      "  \"y_features\": torch.as_tensor(a_rel_y, dtype=torch.int32),\n"
     ]
    },
    {
     "name": "stdout",
     "output_type": "stream",
     "text": [
      "Epoch 0:  71%|███████   | 53/75 [58:40<24:21, 66.42s/it, v_num=1, train_ce_loss=3.550, train_acc=0.738]"
     ]
    },
    {
     "name": "stderr",
     "output_type": "stream",
     "text": [
      "C:\\Users\\ivona\\AppData\\Local\\Temp\\ipykernel_25332\\1555465634.py:65: DeprecationWarning: an integer is required (got type float).  Implicit conversion to integers using __int__ is deprecated, and may be removed in a future version of Python.\n",
      "  \"x_features\": torch.as_tensor(a_rel_x, dtype=torch.int32),\n",
      "C:\\Users\\ivona\\AppData\\Local\\Temp\\ipykernel_25332\\1555465634.py:66: DeprecationWarning: an integer is required (got type float).  Implicit conversion to integers using __int__ is deprecated, and may be removed in a future version of Python.\n",
      "  \"y_features\": torch.as_tensor(a_rel_y, dtype=torch.int32),\n"
     ]
    },
    {
     "name": "stdout",
     "output_type": "stream",
     "text": [
      "Epoch 0:  72%|███████▏  | 54/75 [59:41<23:12, 66.32s/it, v_num=1, train_ce_loss=4.250, train_acc=0.609]"
     ]
    },
    {
     "name": "stderr",
     "output_type": "stream",
     "text": [
      "C:\\Users\\ivona\\AppData\\Local\\Temp\\ipykernel_25332\\1555465634.py:65: DeprecationWarning: an integer is required (got type float).  Implicit conversion to integers using __int__ is deprecated, and may be removed in a future version of Python.\n",
      "  \"x_features\": torch.as_tensor(a_rel_x, dtype=torch.int32),\n",
      "C:\\Users\\ivona\\AppData\\Local\\Temp\\ipykernel_25332\\1555465634.py:66: DeprecationWarning: an integer is required (got type float).  Implicit conversion to integers using __int__ is deprecated, and may be removed in a future version of Python.\n",
      "  \"y_features\": torch.as_tensor(a_rel_y, dtype=torch.int32),\n"
     ]
    },
    {
     "name": "stdout",
     "output_type": "stream",
     "text": [
      "Epoch 0:  73%|███████▎  | 55/75 [1:00:46<22:05, 66.30s/it, v_num=1, train_ce_loss=3.890, train_acc=0.587]"
     ]
    },
    {
     "name": "stderr",
     "output_type": "stream",
     "text": [
      "C:\\Users\\ivona\\AppData\\Local\\Temp\\ipykernel_25332\\1555465634.py:65: DeprecationWarning: an integer is required (got type float).  Implicit conversion to integers using __int__ is deprecated, and may be removed in a future version of Python.\n",
      "  \"x_features\": torch.as_tensor(a_rel_x, dtype=torch.int32),\n",
      "C:\\Users\\ivona\\AppData\\Local\\Temp\\ipykernel_25332\\1555465634.py:66: DeprecationWarning: an integer is required (got type float).  Implicit conversion to integers using __int__ is deprecated, and may be removed in a future version of Python.\n",
      "  \"y_features\": torch.as_tensor(a_rel_y, dtype=torch.int32),\n"
     ]
    },
    {
     "name": "stdout",
     "output_type": "stream",
     "text": [
      "Epoch 0:  75%|███████▍  | 56/75 [1:01:59<21:02, 66.43s/it, v_num=1, train_ce_loss=1.980, train_acc=0.793]"
     ]
    },
    {
     "name": "stderr",
     "output_type": "stream",
     "text": [
      "C:\\Users\\ivona\\AppData\\Local\\Temp\\ipykernel_25332\\1555465634.py:65: DeprecationWarning: an integer is required (got type float).  Implicit conversion to integers using __int__ is deprecated, and may be removed in a future version of Python.\n",
      "  \"x_features\": torch.as_tensor(a_rel_x, dtype=torch.int32),\n",
      "C:\\Users\\ivona\\AppData\\Local\\Temp\\ipykernel_25332\\1555465634.py:66: DeprecationWarning: an integer is required (got type float).  Implicit conversion to integers using __int__ is deprecated, and may be removed in a future version of Python.\n",
      "  \"y_features\": torch.as_tensor(a_rel_y, dtype=torch.int32),\n"
     ]
    },
    {
     "name": "stdout",
     "output_type": "stream",
     "text": [
      "Epoch 0:  76%|███████▌  | 57/75 [1:03:22<20:00, 66.71s/it, v_num=1, train_ce_loss=4.490, train_acc=0.581]"
     ]
    },
    {
     "name": "stderr",
     "output_type": "stream",
     "text": [
      "C:\\Users\\ivona\\AppData\\Local\\Temp\\ipykernel_25332\\1555465634.py:65: DeprecationWarning: an integer is required (got type float).  Implicit conversion to integers using __int__ is deprecated, and may be removed in a future version of Python.\n",
      "  \"x_features\": torch.as_tensor(a_rel_x, dtype=torch.int32),\n",
      "C:\\Users\\ivona\\AppData\\Local\\Temp\\ipykernel_25332\\1555465634.py:66: DeprecationWarning: an integer is required (got type float).  Implicit conversion to integers using __int__ is deprecated, and may be removed in a future version of Python.\n",
      "  \"y_features\": torch.as_tensor(a_rel_y, dtype=torch.int32),\n"
     ]
    },
    {
     "name": "stdout",
     "output_type": "stream",
     "text": [
      "Epoch 0:  77%|███████▋  | 58/75 [1:04:25<18:52, 66.64s/it, v_num=1, train_ce_loss=2.950, train_acc=0.711]"
     ]
    },
    {
     "name": "stderr",
     "output_type": "stream",
     "text": [
      "C:\\Users\\ivona\\AppData\\Local\\Temp\\ipykernel_25332\\1555465634.py:65: DeprecationWarning: an integer is required (got type float).  Implicit conversion to integers using __int__ is deprecated, and may be removed in a future version of Python.\n",
      "  \"x_features\": torch.as_tensor(a_rel_x, dtype=torch.int32),\n",
      "C:\\Users\\ivona\\AppData\\Local\\Temp\\ipykernel_25332\\1555465634.py:66: DeprecationWarning: an integer is required (got type float).  Implicit conversion to integers using __int__ is deprecated, and may be removed in a future version of Python.\n",
      "  \"y_features\": torch.as_tensor(a_rel_y, dtype=torch.int32),\n"
     ]
    },
    {
     "name": "stdout",
     "output_type": "stream",
     "text": [
      "Epoch 0:  79%|███████▊  | 59/75 [1:05:35<17:47, 66.70s/it, v_num=1, train_ce_loss=2.480, train_acc=0.752]"
     ]
    },
    {
     "name": "stderr",
     "output_type": "stream",
     "text": [
      "C:\\Users\\ivona\\AppData\\Local\\Temp\\ipykernel_25332\\1555465634.py:65: DeprecationWarning: an integer is required (got type float).  Implicit conversion to integers using __int__ is deprecated, and may be removed in a future version of Python.\n",
      "  \"x_features\": torch.as_tensor(a_rel_x, dtype=torch.int32),\n",
      "C:\\Users\\ivona\\AppData\\Local\\Temp\\ipykernel_25332\\1555465634.py:66: DeprecationWarning: an integer is required (got type float).  Implicit conversion to integers using __int__ is deprecated, and may be removed in a future version of Python.\n",
      "  \"y_features\": torch.as_tensor(a_rel_y, dtype=torch.int32),\n"
     ]
    },
    {
     "name": "stdout",
     "output_type": "stream",
     "text": [
      "Epoch 0:  80%|████████  | 60/75 [1:06:36<16:39, 66.61s/it, v_num=1, train_ce_loss=2.870, train_acc=0.770]"
     ]
    },
    {
     "name": "stderr",
     "output_type": "stream",
     "text": [
      "C:\\Users\\ivona\\AppData\\Local\\Temp\\ipykernel_25332\\1555465634.py:65: DeprecationWarning: an integer is required (got type float).  Implicit conversion to integers using __int__ is deprecated, and may be removed in a future version of Python.\n",
      "  \"x_features\": torch.as_tensor(a_rel_x, dtype=torch.int32),\n",
      "C:\\Users\\ivona\\AppData\\Local\\Temp\\ipykernel_25332\\1555465634.py:66: DeprecationWarning: an integer is required (got type float).  Implicit conversion to integers using __int__ is deprecated, and may be removed in a future version of Python.\n",
      "  \"y_features\": torch.as_tensor(a_rel_y, dtype=torch.int32),\n"
     ]
    },
    {
     "name": "stdout",
     "output_type": "stream",
     "text": [
      "Epoch 0:  81%|████████▏ | 61/75 [1:07:42<15:32, 66.59s/it, v_num=1, train_ce_loss=3.010, train_acc=0.675]"
     ]
    },
    {
     "name": "stderr",
     "output_type": "stream",
     "text": [
      "C:\\Users\\ivona\\AppData\\Local\\Temp\\ipykernel_25332\\1555465634.py:65: DeprecationWarning: an integer is required (got type float).  Implicit conversion to integers using __int__ is deprecated, and may be removed in a future version of Python.\n",
      "  \"x_features\": torch.as_tensor(a_rel_x, dtype=torch.int32),\n",
      "C:\\Users\\ivona\\AppData\\Local\\Temp\\ipykernel_25332\\1555465634.py:66: DeprecationWarning: an integer is required (got type float).  Implicit conversion to integers using __int__ is deprecated, and may be removed in a future version of Python.\n",
      "  \"y_features\": torch.as_tensor(a_rel_y, dtype=torch.int32),\n"
     ]
    },
    {
     "name": "stdout",
     "output_type": "stream",
     "text": [
      "Epoch 0:  83%|████████▎ | 62/75 [1:08:58<14:27, 66.76s/it, v_num=1, train_ce_loss=4.620, train_acc=0.544]"
     ]
    },
    {
     "name": "stderr",
     "output_type": "stream",
     "text": [
      "C:\\Users\\ivona\\AppData\\Local\\Temp\\ipykernel_25332\\1555465634.py:65: DeprecationWarning: an integer is required (got type float).  Implicit conversion to integers using __int__ is deprecated, and may be removed in a future version of Python.\n",
      "  \"x_features\": torch.as_tensor(a_rel_x, dtype=torch.int32),\n",
      "C:\\Users\\ivona\\AppData\\Local\\Temp\\ipykernel_25332\\1555465634.py:66: DeprecationWarning: an integer is required (got type float).  Implicit conversion to integers using __int__ is deprecated, and may be removed in a future version of Python.\n",
      "  \"y_features\": torch.as_tensor(a_rel_y, dtype=torch.int32),\n"
     ]
    },
    {
     "name": "stdout",
     "output_type": "stream",
     "text": [
      "Epoch 0:  84%|████████▍ | 63/75 [1:10:19<13:23, 66.98s/it, v_num=1, train_ce_loss=2.000, train_acc=0.744]"
     ]
    },
    {
     "name": "stderr",
     "output_type": "stream",
     "text": [
      "C:\\Users\\ivona\\AppData\\Local\\Temp\\ipykernel_25332\\1555465634.py:65: DeprecationWarning: an integer is required (got type float).  Implicit conversion to integers using __int__ is deprecated, and may be removed in a future version of Python.\n",
      "  \"x_features\": torch.as_tensor(a_rel_x, dtype=torch.int32),\n",
      "C:\\Users\\ivona\\AppData\\Local\\Temp\\ipykernel_25332\\1555465634.py:66: DeprecationWarning: an integer is required (got type float).  Implicit conversion to integers using __int__ is deprecated, and may be removed in a future version of Python.\n",
      "  \"y_features\": torch.as_tensor(a_rel_y, dtype=torch.int32),\n"
     ]
    },
    {
     "name": "stdout",
     "output_type": "stream",
     "text": [
      "Epoch 0:  85%|████████▌ | 64/75 [1:11:27<12:16, 67.00s/it, v_num=1, train_ce_loss=2.900, train_acc=0.686]"
     ]
    },
    {
     "name": "stderr",
     "output_type": "stream",
     "text": [
      "C:\\Users\\ivona\\AppData\\Local\\Temp\\ipykernel_25332\\1555465634.py:65: DeprecationWarning: an integer is required (got type float).  Implicit conversion to integers using __int__ is deprecated, and may be removed in a future version of Python.\n",
      "  \"x_features\": torch.as_tensor(a_rel_x, dtype=torch.int32),\n",
      "C:\\Users\\ivona\\AppData\\Local\\Temp\\ipykernel_25332\\1555465634.py:66: DeprecationWarning: an integer is required (got type float).  Implicit conversion to integers using __int__ is deprecated, and may be removed in a future version of Python.\n",
      "  \"y_features\": torch.as_tensor(a_rel_y, dtype=torch.int32),\n"
     ]
    },
    {
     "name": "stdout",
     "output_type": "stream",
     "text": [
      "Epoch 0:  87%|████████▋ | 65/75 [1:12:40<11:10, 67.09s/it, v_num=1, train_ce_loss=2.710, train_acc=0.707]"
     ]
    },
    {
     "name": "stderr",
     "output_type": "stream",
     "text": [
      "C:\\Users\\ivona\\AppData\\Local\\Temp\\ipykernel_25332\\1555465634.py:65: DeprecationWarning: an integer is required (got type float).  Implicit conversion to integers using __int__ is deprecated, and may be removed in a future version of Python.\n",
      "  \"x_features\": torch.as_tensor(a_rel_x, dtype=torch.int32),\n",
      "C:\\Users\\ivona\\AppData\\Local\\Temp\\ipykernel_25332\\1555465634.py:66: DeprecationWarning: an integer is required (got type float).  Implicit conversion to integers using __int__ is deprecated, and may be removed in a future version of Python.\n",
      "  \"y_features\": torch.as_tensor(a_rel_y, dtype=torch.int32),\n"
     ]
    },
    {
     "name": "stdout",
     "output_type": "stream",
     "text": [
      "Epoch 0:  88%|████████▊ | 66/75 [1:13:49<10:03, 67.11s/it, v_num=1, train_ce_loss=2.640, train_acc=0.749]"
     ]
    },
    {
     "name": "stderr",
     "output_type": "stream",
     "text": [
      "C:\\Users\\ivona\\AppData\\Local\\Temp\\ipykernel_25332\\1555465634.py:65: DeprecationWarning: an integer is required (got type float).  Implicit conversion to integers using __int__ is deprecated, and may be removed in a future version of Python.\n",
      "  \"x_features\": torch.as_tensor(a_rel_x, dtype=torch.int32),\n",
      "C:\\Users\\ivona\\AppData\\Local\\Temp\\ipykernel_25332\\1555465634.py:66: DeprecationWarning: an integer is required (got type float).  Implicit conversion to integers using __int__ is deprecated, and may be removed in a future version of Python.\n",
      "  \"y_features\": torch.as_tensor(a_rel_y, dtype=torch.int32),\n"
     ]
    },
    {
     "name": "stdout",
     "output_type": "stream",
     "text": [
      "Epoch 0:  89%|████████▉ | 67/75 [1:14:45<08:55, 66.95s/it, v_num=1, train_ce_loss=2.360, train_acc=0.730]"
     ]
    },
    {
     "name": "stderr",
     "output_type": "stream",
     "text": [
      "C:\\Users\\ivona\\AppData\\Local\\Temp\\ipykernel_25332\\1555465634.py:65: DeprecationWarning: an integer is required (got type float).  Implicit conversion to integers using __int__ is deprecated, and may be removed in a future version of Python.\n",
      "  \"x_features\": torch.as_tensor(a_rel_x, dtype=torch.int32),\n",
      "C:\\Users\\ivona\\AppData\\Local\\Temp\\ipykernel_25332\\1555465634.py:66: DeprecationWarning: an integer is required (got type float).  Implicit conversion to integers using __int__ is deprecated, and may be removed in a future version of Python.\n",
      "  \"y_features\": torch.as_tensor(a_rel_y, dtype=torch.int32),\n"
     ]
    },
    {
     "name": "stdout",
     "output_type": "stream",
     "text": [
      "Epoch 0:  91%|█████████ | 68/75 [1:15:55<07:48, 67.00s/it, v_num=1, train_ce_loss=2.630, train_acc=0.719]"
     ]
    },
    {
     "name": "stderr",
     "output_type": "stream",
     "text": [
      "C:\\Users\\ivona\\AppData\\Local\\Temp\\ipykernel_25332\\1555465634.py:65: DeprecationWarning: an integer is required (got type float).  Implicit conversion to integers using __int__ is deprecated, and may be removed in a future version of Python.\n",
      "  \"x_features\": torch.as_tensor(a_rel_x, dtype=torch.int32),\n",
      "C:\\Users\\ivona\\AppData\\Local\\Temp\\ipykernel_25332\\1555465634.py:66: DeprecationWarning: an integer is required (got type float).  Implicit conversion to integers using __int__ is deprecated, and may be removed in a future version of Python.\n",
      "  \"y_features\": torch.as_tensor(a_rel_y, dtype=torch.int32),\n"
     ]
    },
    {
     "name": "stdout",
     "output_type": "stream",
     "text": [
      "Epoch 0:  92%|█████████▏| 69/75 [1:17:02<06:41, 66.99s/it, v_num=1, train_ce_loss=4.890, train_acc=0.441]"
     ]
    },
    {
     "name": "stderr",
     "output_type": "stream",
     "text": [
      "C:\\Users\\ivona\\AppData\\Local\\Temp\\ipykernel_25332\\1555465634.py:65: DeprecationWarning: an integer is required (got type float).  Implicit conversion to integers using __int__ is deprecated, and may be removed in a future version of Python.\n",
      "  \"x_features\": torch.as_tensor(a_rel_x, dtype=torch.int32),\n",
      "C:\\Users\\ivona\\AppData\\Local\\Temp\\ipykernel_25332\\1555465634.py:66: DeprecationWarning: an integer is required (got type float).  Implicit conversion to integers using __int__ is deprecated, and may be removed in a future version of Python.\n",
      "  \"y_features\": torch.as_tensor(a_rel_y, dtype=torch.int32),\n"
     ]
    },
    {
     "name": "stdout",
     "output_type": "stream",
     "text": [
      "Epoch 0:  93%|█████████▎| 70/75 [1:18:12<05:35, 67.03s/it, v_num=1, train_ce_loss=2.250, train_acc=0.736]"
     ]
    },
    {
     "name": "stderr",
     "output_type": "stream",
     "text": [
      "C:\\Users\\ivona\\AppData\\Local\\Temp\\ipykernel_25332\\1555465634.py:65: DeprecationWarning: an integer is required (got type float).  Implicit conversion to integers using __int__ is deprecated, and may be removed in a future version of Python.\n",
      "  \"x_features\": torch.as_tensor(a_rel_x, dtype=torch.int32),\n",
      "C:\\Users\\ivona\\AppData\\Local\\Temp\\ipykernel_25332\\1555465634.py:66: DeprecationWarning: an integer is required (got type float).  Implicit conversion to integers using __int__ is deprecated, and may be removed in a future version of Python.\n",
      "  \"y_features\": torch.as_tensor(a_rel_y, dtype=torch.int32),\n"
     ]
    },
    {
     "name": "stdout",
     "output_type": "stream",
     "text": [
      "Epoch 0:  95%|█████████▍| 71/75 [1:19:23<04:28, 67.10s/it, v_num=1, train_ce_loss=3.620, train_acc=0.671]"
     ]
    },
    {
     "name": "stderr",
     "output_type": "stream",
     "text": [
      "C:\\Users\\ivona\\AppData\\Local\\Temp\\ipykernel_25332\\1555465634.py:65: DeprecationWarning: an integer is required (got type float).  Implicit conversion to integers using __int__ is deprecated, and may be removed in a future version of Python.\n",
      "  \"x_features\": torch.as_tensor(a_rel_x, dtype=torch.int32),\n",
      "C:\\Users\\ivona\\AppData\\Local\\Temp\\ipykernel_25332\\1555465634.py:66: DeprecationWarning: an integer is required (got type float).  Implicit conversion to integers using __int__ is deprecated, and may be removed in a future version of Python.\n",
      "  \"y_features\": torch.as_tensor(a_rel_y, dtype=torch.int32),\n"
     ]
    },
    {
     "name": "stdout",
     "output_type": "stream",
     "text": [
      "Epoch 0:  96%|█████████▌| 72/75 [1:20:22<03:20, 66.97s/it, v_num=1, train_ce_loss=2.680, train_acc=0.707]"
     ]
    },
    {
     "name": "stderr",
     "output_type": "stream",
     "text": [
      "C:\\Users\\ivona\\AppData\\Local\\Temp\\ipykernel_25332\\1555465634.py:65: DeprecationWarning: an integer is required (got type float).  Implicit conversion to integers using __int__ is deprecated, and may be removed in a future version of Python.\n",
      "  \"x_features\": torch.as_tensor(a_rel_x, dtype=torch.int32),\n",
      "C:\\Users\\ivona\\AppData\\Local\\Temp\\ipykernel_25332\\1555465634.py:66: DeprecationWarning: an integer is required (got type float).  Implicit conversion to integers using __int__ is deprecated, and may be removed in a future version of Python.\n",
      "  \"y_features\": torch.as_tensor(a_rel_y, dtype=torch.int32),\n"
     ]
    },
    {
     "name": "stdout",
     "output_type": "stream",
     "text": [
      "Epoch 0:  97%|█████████▋| 73/75 [1:21:28<02:13, 66.97s/it, v_num=1, train_ce_loss=1.800, train_acc=0.777]"
     ]
    },
    {
     "name": "stderr",
     "output_type": "stream",
     "text": [
      "C:\\Users\\ivona\\AppData\\Local\\Temp\\ipykernel_25332\\1555465634.py:65: DeprecationWarning: an integer is required (got type float).  Implicit conversion to integers using __int__ is deprecated, and may be removed in a future version of Python.\n",
      "  \"x_features\": torch.as_tensor(a_rel_x, dtype=torch.int32),\n",
      "C:\\Users\\ivona\\AppData\\Local\\Temp\\ipykernel_25332\\1555465634.py:66: DeprecationWarning: an integer is required (got type float).  Implicit conversion to integers using __int__ is deprecated, and may be removed in a future version of Python.\n",
      "  \"y_features\": torch.as_tensor(a_rel_y, dtype=torch.int32),\n"
     ]
    },
    {
     "name": "stdout",
     "output_type": "stream",
     "text": [
      "Epoch 0:  99%|█████████▊| 74/75 [1:22:30<01:06, 66.90s/it, v_num=1, train_ce_loss=2.760, train_acc=0.707]"
     ]
    },
    {
     "name": "stderr",
     "output_type": "stream",
     "text": [
      "C:\\Users\\ivona\\AppData\\Local\\Temp\\ipykernel_25332\\1555465634.py:65: DeprecationWarning: an integer is required (got type float).  Implicit conversion to integers using __int__ is deprecated, and may be removed in a future version of Python.\n",
      "  \"x_features\": torch.as_tensor(a_rel_x, dtype=torch.int32),\n",
      "C:\\Users\\ivona\\AppData\\Local\\Temp\\ipykernel_25332\\1555465634.py:66: DeprecationWarning: an integer is required (got type float).  Implicit conversion to integers using __int__ is deprecated, and may be removed in a future version of Python.\n",
      "  \"y_features\": torch.as_tensor(a_rel_y, dtype=torch.int32),\n"
     ]
    },
    {
     "name": "stdout",
     "output_type": "stream",
     "text": [
      "Epoch 0: 100%|██████████| 75/75 [1:23:12<00:00, 66.57s/it, v_num=1, train_ce_loss=3.520, train_acc=0.703]\n",
      "Validation: 0it [00:00, ?it/s]\u001B[A\n",
      "Validation:   0%|          | 0/25 [00:00<?, ?it/s]\u001B[A\n",
      "Validation DataLoader 0:   0%|          | 0/25 [00:00<?, ?it/s]\u001B[A"
     ]
    },
    {
     "name": "stderr",
     "output_type": "stream",
     "text": [
      "C:\\Users\\ivona\\AppData\\Local\\Temp\\ipykernel_25332\\1555465634.py:65: DeprecationWarning: an integer is required (got type float).  Implicit conversion to integers using __int__ is deprecated, and may be removed in a future version of Python.\n",
      "  \"x_features\": torch.as_tensor(a_rel_x, dtype=torch.int32),\n",
      "C:\\Users\\ivona\\AppData\\Local\\Temp\\ipykernel_25332\\1555465634.py:66: DeprecationWarning: an integer is required (got type float).  Implicit conversion to integers using __int__ is deprecated, and may be removed in a future version of Python.\n",
      "  \"y_features\": torch.as_tensor(a_rel_y, dtype=torch.int32),\n"
     ]
    },
    {
     "name": "stdout",
     "output_type": "stream",
     "text": [
      "\n",
      "Validation DataLoader 0:   4%|▍         | 1/25 [00:12<05:02, 12.62s/it]\u001B[A"
     ]
    },
    {
     "name": "stderr",
     "output_type": "stream",
     "text": [
      "C:\\Users\\ivona\\AppData\\Local\\Temp\\ipykernel_25332\\1555465634.py:65: DeprecationWarning: an integer is required (got type float).  Implicit conversion to integers using __int__ is deprecated, and may be removed in a future version of Python.\n",
      "  \"x_features\": torch.as_tensor(a_rel_x, dtype=torch.int32),\n",
      "C:\\Users\\ivona\\AppData\\Local\\Temp\\ipykernel_25332\\1555465634.py:66: DeprecationWarning: an integer is required (got type float).  Implicit conversion to integers using __int__ is deprecated, and may be removed in a future version of Python.\n",
      "  \"y_features\": torch.as_tensor(a_rel_y, dtype=torch.int32),\n"
     ]
    },
    {
     "name": "stdout",
     "output_type": "stream",
     "text": [
      "\n",
      "Validation DataLoader 0:   8%|▊         | 2/25 [00:23<04:33, 11.87s/it]\u001B[A"
     ]
    },
    {
     "name": "stderr",
     "output_type": "stream",
     "text": [
      "C:\\Users\\ivona\\AppData\\Local\\Temp\\ipykernel_25332\\1555465634.py:65: DeprecationWarning: an integer is required (got type float).  Implicit conversion to integers using __int__ is deprecated, and may be removed in a future version of Python.\n",
      "  \"x_features\": torch.as_tensor(a_rel_x, dtype=torch.int32),\n",
      "C:\\Users\\ivona\\AppData\\Local\\Temp\\ipykernel_25332\\1555465634.py:66: DeprecationWarning: an integer is required (got type float).  Implicit conversion to integers using __int__ is deprecated, and may be removed in a future version of Python.\n",
      "  \"y_features\": torch.as_tensor(a_rel_y, dtype=torch.int32),\n"
     ]
    },
    {
     "name": "stdout",
     "output_type": "stream",
     "text": [
      "\n",
      "Validation DataLoader 0:  12%|█▏        | 3/25 [00:37<04:37, 12.63s/it]\u001B[A"
     ]
    },
    {
     "name": "stderr",
     "output_type": "stream",
     "text": [
      "C:\\Users\\ivona\\AppData\\Local\\Temp\\ipykernel_25332\\1555465634.py:65: DeprecationWarning: an integer is required (got type float).  Implicit conversion to integers using __int__ is deprecated, and may be removed in a future version of Python.\n",
      "  \"x_features\": torch.as_tensor(a_rel_x, dtype=torch.int32),\n",
      "C:\\Users\\ivona\\AppData\\Local\\Temp\\ipykernel_25332\\1555465634.py:66: DeprecationWarning: an integer is required (got type float).  Implicit conversion to integers using __int__ is deprecated, and may be removed in a future version of Python.\n",
      "  \"y_features\": torch.as_tensor(a_rel_y, dtype=torch.int32),\n"
     ]
    },
    {
     "name": "stdout",
     "output_type": "stream",
     "text": [
      "\n",
      "Validation DataLoader 0:  16%|█▌        | 4/25 [00:47<04:10, 11.95s/it]\u001B[A"
     ]
    },
    {
     "name": "stderr",
     "output_type": "stream",
     "text": [
      "C:\\Users\\ivona\\AppData\\Local\\Temp\\ipykernel_25332\\1555465634.py:65: DeprecationWarning: an integer is required (got type float).  Implicit conversion to integers using __int__ is deprecated, and may be removed in a future version of Python.\n",
      "  \"x_features\": torch.as_tensor(a_rel_x, dtype=torch.int32),\n",
      "C:\\Users\\ivona\\AppData\\Local\\Temp\\ipykernel_25332\\1555465634.py:66: DeprecationWarning: an integer is required (got type float).  Implicit conversion to integers using __int__ is deprecated, and may be removed in a future version of Python.\n",
      "  \"y_features\": torch.as_tensor(a_rel_y, dtype=torch.int32),\n"
     ]
    },
    {
     "name": "stdout",
     "output_type": "stream",
     "text": [
      "\n",
      "Validation DataLoader 0:  20%|██        | 5/25 [00:56<03:45, 11.29s/it]\u001B[A"
     ]
    },
    {
     "name": "stderr",
     "output_type": "stream",
     "text": [
      "C:\\Users\\ivona\\AppData\\Local\\Temp\\ipykernel_25332\\1555465634.py:65: DeprecationWarning: an integer is required (got type float).  Implicit conversion to integers using __int__ is deprecated, and may be removed in a future version of Python.\n",
      "  \"x_features\": torch.as_tensor(a_rel_x, dtype=torch.int32),\n",
      "C:\\Users\\ivona\\AppData\\Local\\Temp\\ipykernel_25332\\1555465634.py:66: DeprecationWarning: an integer is required (got type float).  Implicit conversion to integers using __int__ is deprecated, and may be removed in a future version of Python.\n",
      "  \"y_features\": torch.as_tensor(a_rel_y, dtype=torch.int32),\n"
     ]
    },
    {
     "name": "stdout",
     "output_type": "stream",
     "text": [
      "\n",
      "Validation DataLoader 0:  24%|██▍       | 6/25 [01:04<03:24, 10.79s/it]\u001B[A"
     ]
    },
    {
     "name": "stderr",
     "output_type": "stream",
     "text": [
      "C:\\Users\\ivona\\AppData\\Local\\Temp\\ipykernel_25332\\1555465634.py:65: DeprecationWarning: an integer is required (got type float).  Implicit conversion to integers using __int__ is deprecated, and may be removed in a future version of Python.\n",
      "  \"x_features\": torch.as_tensor(a_rel_x, dtype=torch.int32),\n",
      "C:\\Users\\ivona\\AppData\\Local\\Temp\\ipykernel_25332\\1555465634.py:66: DeprecationWarning: an integer is required (got type float).  Implicit conversion to integers using __int__ is deprecated, and may be removed in a future version of Python.\n",
      "  \"y_features\": torch.as_tensor(a_rel_y, dtype=torch.int32),\n"
     ]
    },
    {
     "name": "stdout",
     "output_type": "stream",
     "text": [
      "\n",
      "Validation DataLoader 0:  28%|██▊       | 7/25 [01:13<03:08, 10.49s/it]\u001B[A"
     ]
    },
    {
     "name": "stderr",
     "output_type": "stream",
     "text": [
      "C:\\Users\\ivona\\AppData\\Local\\Temp\\ipykernel_25332\\1555465634.py:65: DeprecationWarning: an integer is required (got type float).  Implicit conversion to integers using __int__ is deprecated, and may be removed in a future version of Python.\n",
      "  \"x_features\": torch.as_tensor(a_rel_x, dtype=torch.int32),\n",
      "C:\\Users\\ivona\\AppData\\Local\\Temp\\ipykernel_25332\\1555465634.py:66: DeprecationWarning: an integer is required (got type float).  Implicit conversion to integers using __int__ is deprecated, and may be removed in a future version of Python.\n",
      "  \"y_features\": torch.as_tensor(a_rel_y, dtype=torch.int32),\n"
     ]
    },
    {
     "name": "stdout",
     "output_type": "stream",
     "text": [
      "\n",
      "Validation DataLoader 0:  32%|███▏      | 8/25 [01:24<02:59, 10.55s/it]\u001B[A"
     ]
    },
    {
     "name": "stderr",
     "output_type": "stream",
     "text": [
      "C:\\Users\\ivona\\AppData\\Local\\Temp\\ipykernel_25332\\1555465634.py:65: DeprecationWarning: an integer is required (got type float).  Implicit conversion to integers using __int__ is deprecated, and may be removed in a future version of Python.\n",
      "  \"x_features\": torch.as_tensor(a_rel_x, dtype=torch.int32),\n",
      "C:\\Users\\ivona\\AppData\\Local\\Temp\\ipykernel_25332\\1555465634.py:66: DeprecationWarning: an integer is required (got type float).  Implicit conversion to integers using __int__ is deprecated, and may be removed in a future version of Python.\n",
      "  \"y_features\": torch.as_tensor(a_rel_y, dtype=torch.int32),\n"
     ]
    },
    {
     "name": "stdout",
     "output_type": "stream",
     "text": [
      "\n",
      "Validation DataLoader 0:  36%|███▌      | 9/25 [01:33<02:45, 10.34s/it]\u001B[A"
     ]
    },
    {
     "name": "stderr",
     "output_type": "stream",
     "text": [
      "C:\\Users\\ivona\\AppData\\Local\\Temp\\ipykernel_25332\\1555465634.py:65: DeprecationWarning: an integer is required (got type float).  Implicit conversion to integers using __int__ is deprecated, and may be removed in a future version of Python.\n",
      "  \"x_features\": torch.as_tensor(a_rel_x, dtype=torch.int32),\n",
      "C:\\Users\\ivona\\AppData\\Local\\Temp\\ipykernel_25332\\1555465634.py:66: DeprecationWarning: an integer is required (got type float).  Implicit conversion to integers using __int__ is deprecated, and may be removed in a future version of Python.\n",
      "  \"y_features\": torch.as_tensor(a_rel_y, dtype=torch.int32),\n"
     ]
    },
    {
     "name": "stdout",
     "output_type": "stream",
     "text": [
      "\n",
      "Validation DataLoader 0:  40%|████      | 10/25 [01:41<02:32, 10.14s/it]\u001B[A"
     ]
    },
    {
     "name": "stderr",
     "output_type": "stream",
     "text": [
      "C:\\Users\\ivona\\AppData\\Local\\Temp\\ipykernel_25332\\1555465634.py:65: DeprecationWarning: an integer is required (got type float).  Implicit conversion to integers using __int__ is deprecated, and may be removed in a future version of Python.\n",
      "  \"x_features\": torch.as_tensor(a_rel_x, dtype=torch.int32),\n",
      "C:\\Users\\ivona\\AppData\\Local\\Temp\\ipykernel_25332\\1555465634.py:66: DeprecationWarning: an integer is required (got type float).  Implicit conversion to integers using __int__ is deprecated, and may be removed in a future version of Python.\n",
      "  \"y_features\": torch.as_tensor(a_rel_y, dtype=torch.int32),\n"
     ]
    },
    {
     "name": "stdout",
     "output_type": "stream",
     "text": [
      "\n",
      "Validation DataLoader 0:  44%|████▍     | 11/25 [01:50<02:20, 10.02s/it]\u001B[A"
     ]
    },
    {
     "name": "stderr",
     "output_type": "stream",
     "text": [
      "C:\\Users\\ivona\\AppData\\Local\\Temp\\ipykernel_25332\\1555465634.py:65: DeprecationWarning: an integer is required (got type float).  Implicit conversion to integers using __int__ is deprecated, and may be removed in a future version of Python.\n",
      "  \"x_features\": torch.as_tensor(a_rel_x, dtype=torch.int32),\n",
      "C:\\Users\\ivona\\AppData\\Local\\Temp\\ipykernel_25332\\1555465634.py:66: DeprecationWarning: an integer is required (got type float).  Implicit conversion to integers using __int__ is deprecated, and may be removed in a future version of Python.\n",
      "  \"y_features\": torch.as_tensor(a_rel_y, dtype=torch.int32),\n"
     ]
    },
    {
     "name": "stdout",
     "output_type": "stream",
     "text": [
      "\n",
      "Validation DataLoader 0:  48%|████▊     | 12/25 [02:00<02:10, 10.05s/it]\u001B[A"
     ]
    },
    {
     "name": "stderr",
     "output_type": "stream",
     "text": [
      "C:\\Users\\ivona\\AppData\\Local\\Temp\\ipykernel_25332\\1555465634.py:65: DeprecationWarning: an integer is required (got type float).  Implicit conversion to integers using __int__ is deprecated, and may be removed in a future version of Python.\n",
      "  \"x_features\": torch.as_tensor(a_rel_x, dtype=torch.int32),\n",
      "C:\\Users\\ivona\\AppData\\Local\\Temp\\ipykernel_25332\\1555465634.py:66: DeprecationWarning: an integer is required (got type float).  Implicit conversion to integers using __int__ is deprecated, and may be removed in a future version of Python.\n",
      "  \"y_features\": torch.as_tensor(a_rel_y, dtype=torch.int32),\n"
     ]
    },
    {
     "name": "stdout",
     "output_type": "stream",
     "text": [
      "\n",
      "Validation DataLoader 0:  52%|█████▏    | 13/25 [02:09<01:59,  9.93s/it]\u001B[A"
     ]
    },
    {
     "name": "stderr",
     "output_type": "stream",
     "text": [
      "C:\\Users\\ivona\\AppData\\Local\\Temp\\ipykernel_25332\\1555465634.py:65: DeprecationWarning: an integer is required (got type float).  Implicit conversion to integers using __int__ is deprecated, and may be removed in a future version of Python.\n",
      "  \"x_features\": torch.as_tensor(a_rel_x, dtype=torch.int32),\n",
      "C:\\Users\\ivona\\AppData\\Local\\Temp\\ipykernel_25332\\1555465634.py:66: DeprecationWarning: an integer is required (got type float).  Implicit conversion to integers using __int__ is deprecated, and may be removed in a future version of Python.\n",
      "  \"y_features\": torch.as_tensor(a_rel_y, dtype=torch.int32),\n"
     ]
    },
    {
     "name": "stdout",
     "output_type": "stream",
     "text": [
      "\n",
      "Validation DataLoader 0:  56%|█████▌    | 14/25 [02:17<01:48,  9.83s/it]\u001B[A"
     ]
    },
    {
     "name": "stderr",
     "output_type": "stream",
     "text": [
      "C:\\Users\\ivona\\AppData\\Local\\Temp\\ipykernel_25332\\1555465634.py:65: DeprecationWarning: an integer is required (got type float).  Implicit conversion to integers using __int__ is deprecated, and may be removed in a future version of Python.\n",
      "  \"x_features\": torch.as_tensor(a_rel_x, dtype=torch.int32),\n",
      "C:\\Users\\ivona\\AppData\\Local\\Temp\\ipykernel_25332\\1555465634.py:66: DeprecationWarning: an integer is required (got type float).  Implicit conversion to integers using __int__ is deprecated, and may be removed in a future version of Python.\n",
      "  \"y_features\": torch.as_tensor(a_rel_y, dtype=torch.int32),\n"
     ]
    },
    {
     "name": "stdout",
     "output_type": "stream",
     "text": [
      "\n",
      "Validation DataLoader 0:  60%|██████    | 15/25 [02:25<01:36,  9.69s/it]\u001B[A"
     ]
    },
    {
     "name": "stderr",
     "output_type": "stream",
     "text": [
      "C:\\Users\\ivona\\AppData\\Local\\Temp\\ipykernel_25332\\1555465634.py:65: DeprecationWarning: an integer is required (got type float).  Implicit conversion to integers using __int__ is deprecated, and may be removed in a future version of Python.\n",
      "  \"x_features\": torch.as_tensor(a_rel_x, dtype=torch.int32),\n",
      "C:\\Users\\ivona\\AppData\\Local\\Temp\\ipykernel_25332\\1555465634.py:66: DeprecationWarning: an integer is required (got type float).  Implicit conversion to integers using __int__ is deprecated, and may be removed in a future version of Python.\n",
      "  \"y_features\": torch.as_tensor(a_rel_y, dtype=torch.int32),\n"
     ]
    },
    {
     "name": "stdout",
     "output_type": "stream",
     "text": [
      "\n",
      "Validation DataLoader 0:  64%|██████▍   | 16/25 [02:33<01:26,  9.59s/it]\u001B[A"
     ]
    },
    {
     "name": "stderr",
     "output_type": "stream",
     "text": [
      "C:\\Users\\ivona\\AppData\\Local\\Temp\\ipykernel_25332\\1555465634.py:65: DeprecationWarning: an integer is required (got type float).  Implicit conversion to integers using __int__ is deprecated, and may be removed in a future version of Python.\n",
      "  \"x_features\": torch.as_tensor(a_rel_x, dtype=torch.int32),\n",
      "C:\\Users\\ivona\\AppData\\Local\\Temp\\ipykernel_25332\\1555465634.py:66: DeprecationWarning: an integer is required (got type float).  Implicit conversion to integers using __int__ is deprecated, and may be removed in a future version of Python.\n",
      "  \"y_features\": torch.as_tensor(a_rel_y, dtype=torch.int32),\n"
     ]
    },
    {
     "name": "stdout",
     "output_type": "stream",
     "text": [
      "\n",
      "Validation DataLoader 0:  68%|██████▊   | 17/25 [02:40<01:15,  9.47s/it]\u001B[A"
     ]
    },
    {
     "name": "stderr",
     "output_type": "stream",
     "text": [
      "C:\\Users\\ivona\\AppData\\Local\\Temp\\ipykernel_25332\\1555465634.py:65: DeprecationWarning: an integer is required (got type float).  Implicit conversion to integers using __int__ is deprecated, and may be removed in a future version of Python.\n",
      "  \"x_features\": torch.as_tensor(a_rel_x, dtype=torch.int32),\n",
      "C:\\Users\\ivona\\AppData\\Local\\Temp\\ipykernel_25332\\1555465634.py:66: DeprecationWarning: an integer is required (got type float).  Implicit conversion to integers using __int__ is deprecated, and may be removed in a future version of Python.\n",
      "  \"y_features\": torch.as_tensor(a_rel_y, dtype=torch.int32),\n"
     ]
    },
    {
     "name": "stdout",
     "output_type": "stream",
     "text": [
      "\n",
      "Validation DataLoader 0:  72%|███████▏  | 18/25 [02:48<01:05,  9.36s/it]\u001B[A"
     ]
    },
    {
     "name": "stderr",
     "output_type": "stream",
     "text": [
      "C:\\Users\\ivona\\AppData\\Local\\Temp\\ipykernel_25332\\1555465634.py:65: DeprecationWarning: an integer is required (got type float).  Implicit conversion to integers using __int__ is deprecated, and may be removed in a future version of Python.\n",
      "  \"x_features\": torch.as_tensor(a_rel_x, dtype=torch.int32),\n",
      "C:\\Users\\ivona\\AppData\\Local\\Temp\\ipykernel_25332\\1555465634.py:66: DeprecationWarning: an integer is required (got type float).  Implicit conversion to integers using __int__ is deprecated, and may be removed in a future version of Python.\n",
      "  \"y_features\": torch.as_tensor(a_rel_y, dtype=torch.int32),\n"
     ]
    },
    {
     "name": "stdout",
     "output_type": "stream",
     "text": [
      "\n",
      "Validation DataLoader 0:  76%|███████▌  | 19/25 [02:56<00:55,  9.27s/it]\u001B[A"
     ]
    },
    {
     "name": "stderr",
     "output_type": "stream",
     "text": [
      "C:\\Users\\ivona\\AppData\\Local\\Temp\\ipykernel_25332\\1555465634.py:65: DeprecationWarning: an integer is required (got type float).  Implicit conversion to integers using __int__ is deprecated, and may be removed in a future version of Python.\n",
      "  \"x_features\": torch.as_tensor(a_rel_x, dtype=torch.int32),\n",
      "C:\\Users\\ivona\\AppData\\Local\\Temp\\ipykernel_25332\\1555465634.py:66: DeprecationWarning: an integer is required (got type float).  Implicit conversion to integers using __int__ is deprecated, and may be removed in a future version of Python.\n",
      "  \"y_features\": torch.as_tensor(a_rel_y, dtype=torch.int32),\n"
     ]
    },
    {
     "name": "stdout",
     "output_type": "stream",
     "text": [
      "\n",
      "Validation DataLoader 0:  80%|████████  | 20/25 [03:03<00:45,  9.19s/it]\u001B[A"
     ]
    },
    {
     "name": "stderr",
     "output_type": "stream",
     "text": [
      "C:\\Users\\ivona\\AppData\\Local\\Temp\\ipykernel_25332\\1555465634.py:65: DeprecationWarning: an integer is required (got type float).  Implicit conversion to integers using __int__ is deprecated, and may be removed in a future version of Python.\n",
      "  \"x_features\": torch.as_tensor(a_rel_x, dtype=torch.int32),\n",
      "C:\\Users\\ivona\\AppData\\Local\\Temp\\ipykernel_25332\\1555465634.py:66: DeprecationWarning: an integer is required (got type float).  Implicit conversion to integers using __int__ is deprecated, and may be removed in a future version of Python.\n",
      "  \"y_features\": torch.as_tensor(a_rel_y, dtype=torch.int32),\n"
     ]
    },
    {
     "name": "stdout",
     "output_type": "stream",
     "text": [
      "\n",
      "Validation DataLoader 0:  84%|████████▍ | 21/25 [03:11<00:36,  9.13s/it]\u001B[A"
     ]
    },
    {
     "name": "stderr",
     "output_type": "stream",
     "text": [
      "C:\\Users\\ivona\\AppData\\Local\\Temp\\ipykernel_25332\\1555465634.py:65: DeprecationWarning: an integer is required (got type float).  Implicit conversion to integers using __int__ is deprecated, and may be removed in a future version of Python.\n",
      "  \"x_features\": torch.as_tensor(a_rel_x, dtype=torch.int32),\n",
      "C:\\Users\\ivona\\AppData\\Local\\Temp\\ipykernel_25332\\1555465634.py:66: DeprecationWarning: an integer is required (got type float).  Implicit conversion to integers using __int__ is deprecated, and may be removed in a future version of Python.\n",
      "  \"y_features\": torch.as_tensor(a_rel_y, dtype=torch.int32),\n"
     ]
    },
    {
     "name": "stdout",
     "output_type": "stream",
     "text": [
      "\n",
      "Validation DataLoader 0:  88%|████████▊ | 22/25 [03:19<00:27,  9.08s/it]\u001B[A"
     ]
    },
    {
     "name": "stderr",
     "output_type": "stream",
     "text": [
      "C:\\Users\\ivona\\AppData\\Local\\Temp\\ipykernel_25332\\1555465634.py:65: DeprecationWarning: an integer is required (got type float).  Implicit conversion to integers using __int__ is deprecated, and may be removed in a future version of Python.\n",
      "  \"x_features\": torch.as_tensor(a_rel_x, dtype=torch.int32),\n",
      "C:\\Users\\ivona\\AppData\\Local\\Temp\\ipykernel_25332\\1555465634.py:66: DeprecationWarning: an integer is required (got type float).  Implicit conversion to integers using __int__ is deprecated, and may be removed in a future version of Python.\n",
      "  \"y_features\": torch.as_tensor(a_rel_y, dtype=torch.int32),\n"
     ]
    },
    {
     "name": "stdout",
     "output_type": "stream",
     "text": [
      "\n",
      "Validation DataLoader 0:  92%|█████████▏| 23/25 [03:27<00:18,  9.04s/it]\u001B[A"
     ]
    },
    {
     "name": "stderr",
     "output_type": "stream",
     "text": [
      "C:\\Users\\ivona\\AppData\\Local\\Temp\\ipykernel_25332\\1555465634.py:65: DeprecationWarning: an integer is required (got type float).  Implicit conversion to integers using __int__ is deprecated, and may be removed in a future version of Python.\n",
      "  \"x_features\": torch.as_tensor(a_rel_x, dtype=torch.int32),\n",
      "C:\\Users\\ivona\\AppData\\Local\\Temp\\ipykernel_25332\\1555465634.py:66: DeprecationWarning: an integer is required (got type float).  Implicit conversion to integers using __int__ is deprecated, and may be removed in a future version of Python.\n",
      "  \"y_features\": torch.as_tensor(a_rel_y, dtype=torch.int32),\n"
     ]
    },
    {
     "name": "stdout",
     "output_type": "stream",
     "text": [
      "\n",
      "Validation DataLoader 0:  96%|█████████▌| 24/25 [03:35<00:08,  8.99s/it]\u001B[A"
     ]
    },
    {
     "name": "stderr",
     "output_type": "stream",
     "text": [
      "C:\\Users\\ivona\\AppData\\Local\\Temp\\ipykernel_25332\\1555465634.py:65: DeprecationWarning: an integer is required (got type float).  Implicit conversion to integers using __int__ is deprecated, and may be removed in a future version of Python.\n",
      "  \"x_features\": torch.as_tensor(a_rel_x, dtype=torch.int32),\n",
      "C:\\Users\\ivona\\AppData\\Local\\Temp\\ipykernel_25332\\1555465634.py:66: DeprecationWarning: an integer is required (got type float).  Implicit conversion to integers using __int__ is deprecated, and may be removed in a future version of Python.\n",
      "  \"y_features\": torch.as_tensor(a_rel_y, dtype=torch.int32),\n"
     ]
    },
    {
     "name": "stdout",
     "output_type": "stream",
     "text": [
      "\n",
      "Epoch 0: 100%|██████████| 75/75 [1:26:56<00:00, 69.55s/it, v_num=1, train_ce_loss=3.520, train_acc=0.703, val_ce_loss=3.070, val_acc=0.646]\n",
      "Epoch 0: 100%|██████████| 75/75 [1:26:56<00:00, 69.55s/it, v_num=1, train_ce_loss=3.520, train_acc=0.703, val_ce_loss=3.070, val_acc=0.646]"
     ]
    },
    {
     "name": "stderr",
     "output_type": "stream",
     "text": [
      "Metric val_ce_loss improved. New best score: 3.069\n"
     ]
    },
    {
     "name": "stdout",
     "output_type": "stream",
     "text": [
      "Epoch 1:   0%|          | 0/75 [00:00<?, ?it/s, v_num=1, train_ce_loss=3.520, train_acc=0.703, val_ce_loss=3.070, val_acc=0.646]           "
     ]
    },
    {
     "name": "stderr",
     "output_type": "stream",
     "text": [
      "C:\\Users\\ivona\\AppData\\Local\\Temp\\ipykernel_25332\\1555465634.py:65: DeprecationWarning: an integer is required (got type float).  Implicit conversion to integers using __int__ is deprecated, and may be removed in a future version of Python.\n",
      "  \"x_features\": torch.as_tensor(a_rel_x, dtype=torch.int32),\n",
      "C:\\Users\\ivona\\AppData\\Local\\Temp\\ipykernel_25332\\1555465634.py:66: DeprecationWarning: an integer is required (got type float).  Implicit conversion to integers using __int__ is deprecated, and may be removed in a future version of Python.\n",
      "  \"y_features\": torch.as_tensor(a_rel_y, dtype=torch.int32),\n"
     ]
    },
    {
     "name": "stdout",
     "output_type": "stream",
     "text": [
      "Epoch 1:   1%|▏         | 1/75 [00:54<1:07:02, 54.35s/it, v_num=1, train_ce_loss=2.020, train_acc=0.771, val_ce_loss=3.070, val_acc=0.646]"
     ]
    },
    {
     "name": "stderr",
     "output_type": "stream",
     "text": [
      "C:\\Users\\ivona\\AppData\\Local\\Temp\\ipykernel_25332\\1555465634.py:65: DeprecationWarning: an integer is required (got type float).  Implicit conversion to integers using __int__ is deprecated, and may be removed in a future version of Python.\n",
      "  \"x_features\": torch.as_tensor(a_rel_x, dtype=torch.int32),\n",
      "C:\\Users\\ivona\\AppData\\Local\\Temp\\ipykernel_25332\\1555465634.py:66: DeprecationWarning: an integer is required (got type float).  Implicit conversion to integers using __int__ is deprecated, and may be removed in a future version of Python.\n",
      "  \"y_features\": torch.as_tensor(a_rel_y, dtype=torch.int32),\n"
     ]
    },
    {
     "name": "stdout",
     "output_type": "stream",
     "text": [
      "Epoch 1:   3%|▎         | 2/75 [01:59<1:12:40, 59.73s/it, v_num=1, train_ce_loss=3.610, train_acc=0.601, val_ce_loss=3.070, val_acc=0.646]"
     ]
    },
    {
     "name": "stderr",
     "output_type": "stream",
     "text": [
      "C:\\Users\\ivona\\AppData\\Local\\Temp\\ipykernel_25332\\1555465634.py:65: DeprecationWarning: an integer is required (got type float).  Implicit conversion to integers using __int__ is deprecated, and may be removed in a future version of Python.\n",
      "  \"x_features\": torch.as_tensor(a_rel_x, dtype=torch.int32),\n",
      "C:\\Users\\ivona\\AppData\\Local\\Temp\\ipykernel_25332\\1555465634.py:66: DeprecationWarning: an integer is required (got type float).  Implicit conversion to integers using __int__ is deprecated, and may be removed in a future version of Python.\n",
      "  \"y_features\": torch.as_tensor(a_rel_y, dtype=torch.int32),\n"
     ]
    },
    {
     "name": "stdout",
     "output_type": "stream",
     "text": [
      "Epoch 1:   4%|▍         | 3/75 [03:09<1:15:55, 63.27s/it, v_num=1, train_ce_loss=1.750, train_acc=0.839, val_ce_loss=3.070, val_acc=0.646]"
     ]
    },
    {
     "name": "stderr",
     "output_type": "stream",
     "text": [
      "C:\\Users\\ivona\\AppData\\Local\\Temp\\ipykernel_25332\\1555465634.py:65: DeprecationWarning: an integer is required (got type float).  Implicit conversion to integers using __int__ is deprecated, and may be removed in a future version of Python.\n",
      "  \"x_features\": torch.as_tensor(a_rel_x, dtype=torch.int32),\n",
      "C:\\Users\\ivona\\AppData\\Local\\Temp\\ipykernel_25332\\1555465634.py:66: DeprecationWarning: an integer is required (got type float).  Implicit conversion to integers using __int__ is deprecated, and may be removed in a future version of Python.\n",
      "  \"y_features\": torch.as_tensor(a_rel_y, dtype=torch.int32),\n"
     ]
    },
    {
     "name": "stdout",
     "output_type": "stream",
     "text": [
      "Epoch 1:   5%|▌         | 4/75 [04:09<1:13:55, 62.47s/it, v_num=1, train_ce_loss=2.330, train_acc=0.734, val_ce_loss=3.070, val_acc=0.646]"
     ]
    },
    {
     "name": "stderr",
     "output_type": "stream",
     "text": [
      "C:\\Users\\ivona\\AppData\\Local\\Temp\\ipykernel_25332\\1555465634.py:65: DeprecationWarning: an integer is required (got type float).  Implicit conversion to integers using __int__ is deprecated, and may be removed in a future version of Python.\n",
      "  \"x_features\": torch.as_tensor(a_rel_x, dtype=torch.int32),\n",
      "C:\\Users\\ivona\\AppData\\Local\\Temp\\ipykernel_25332\\1555465634.py:66: DeprecationWarning: an integer is required (got type float).  Implicit conversion to integers using __int__ is deprecated, and may be removed in a future version of Python.\n",
      "  \"y_features\": torch.as_tensor(a_rel_y, dtype=torch.int32),\n"
     ]
    },
    {
     "name": "stdout",
     "output_type": "stream",
     "text": [
      "Epoch 1:   7%|▋         | 5/75 [05:25<1:15:56, 65.09s/it, v_num=1, train_ce_loss=3.400, train_acc=0.720, val_ce_loss=3.070, val_acc=0.646]"
     ]
    },
    {
     "name": "stderr",
     "output_type": "stream",
     "text": [
      "C:\\Users\\ivona\\AppData\\Local\\Temp\\ipykernel_25332\\1555465634.py:65: DeprecationWarning: an integer is required (got type float).  Implicit conversion to integers using __int__ is deprecated, and may be removed in a future version of Python.\n",
      "  \"x_features\": torch.as_tensor(a_rel_x, dtype=torch.int32),\n",
      "C:\\Users\\ivona\\AppData\\Local\\Temp\\ipykernel_25332\\1555465634.py:66: DeprecationWarning: an integer is required (got type float).  Implicit conversion to integers using __int__ is deprecated, and may be removed in a future version of Python.\n",
      "  \"y_features\": torch.as_tensor(a_rel_y, dtype=torch.int32),\n"
     ]
    },
    {
     "name": "stdout",
     "output_type": "stream",
     "text": [
      "Epoch 1:   8%|▊         | 6/75 [06:18<1:12:27, 63.01s/it, v_num=1, train_ce_loss=1.380, train_acc=0.852, val_ce_loss=3.070, val_acc=0.646]"
     ]
    },
    {
     "name": "stderr",
     "output_type": "stream",
     "text": [
      "C:\\Users\\ivona\\AppData\\Local\\Temp\\ipykernel_25332\\1555465634.py:65: DeprecationWarning: an integer is required (got type float).  Implicit conversion to integers using __int__ is deprecated, and may be removed in a future version of Python.\n",
      "  \"x_features\": torch.as_tensor(a_rel_x, dtype=torch.int32),\n",
      "C:\\Users\\ivona\\AppData\\Local\\Temp\\ipykernel_25332\\1555465634.py:66: DeprecationWarning: an integer is required (got type float).  Implicit conversion to integers using __int__ is deprecated, and may be removed in a future version of Python.\n",
      "  \"y_features\": torch.as_tensor(a_rel_y, dtype=torch.int32),\n"
     ]
    },
    {
     "name": "stdout",
     "output_type": "stream",
     "text": [
      "Epoch 1:   9%|▉         | 7/75 [07:18<1:11:04, 62.71s/it, v_num=1, train_ce_loss=3.880, train_acc=0.632, val_ce_loss=3.070, val_acc=0.646]"
     ]
    },
    {
     "name": "stderr",
     "output_type": "stream",
     "text": [
      "C:\\Users\\ivona\\AppData\\Local\\Temp\\ipykernel_25332\\1555465634.py:65: DeprecationWarning: an integer is required (got type float).  Implicit conversion to integers using __int__ is deprecated, and may be removed in a future version of Python.\n",
      "  \"x_features\": torch.as_tensor(a_rel_x, dtype=torch.int32),\n",
      "C:\\Users\\ivona\\AppData\\Local\\Temp\\ipykernel_25332\\1555465634.py:66: DeprecationWarning: an integer is required (got type float).  Implicit conversion to integers using __int__ is deprecated, and may be removed in a future version of Python.\n",
      "  \"y_features\": torch.as_tensor(a_rel_y, dtype=torch.int32),\n"
     ]
    },
    {
     "name": "stdout",
     "output_type": "stream",
     "text": [
      "Epoch 1:  11%|█         | 8/75 [08:21<1:09:55, 62.63s/it, v_num=1, train_ce_loss=1.540, train_acc=0.797, val_ce_loss=3.070, val_acc=0.646]"
     ]
    },
    {
     "name": "stderr",
     "output_type": "stream",
     "text": [
      "C:\\Users\\ivona\\AppData\\Local\\Temp\\ipykernel_25332\\1555465634.py:65: DeprecationWarning: an integer is required (got type float).  Implicit conversion to integers using __int__ is deprecated, and may be removed in a future version of Python.\n",
      "  \"x_features\": torch.as_tensor(a_rel_x, dtype=torch.int32),\n",
      "C:\\Users\\ivona\\AppData\\Local\\Temp\\ipykernel_25332\\1555465634.py:66: DeprecationWarning: an integer is required (got type float).  Implicit conversion to integers using __int__ is deprecated, and may be removed in a future version of Python.\n",
      "  \"y_features\": torch.as_tensor(a_rel_y, dtype=torch.int32),\n"
     ]
    },
    {
     "name": "stdout",
     "output_type": "stream",
     "text": [
      "Epoch 1:  12%|█▏        | 9/75 [09:47<1:11:51, 65.32s/it, v_num=1, train_ce_loss=1.320, train_acc=0.823, val_ce_loss=3.070, val_acc=0.646]"
     ]
    },
    {
     "name": "stderr",
     "output_type": "stream",
     "text": [
      "C:\\Users\\ivona\\AppData\\Local\\Temp\\ipykernel_25332\\1555465634.py:65: DeprecationWarning: an integer is required (got type float).  Implicit conversion to integers using __int__ is deprecated, and may be removed in a future version of Python.\n",
      "  \"x_features\": torch.as_tensor(a_rel_x, dtype=torch.int32),\n",
      "C:\\Users\\ivona\\AppData\\Local\\Temp\\ipykernel_25332\\1555465634.py:66: DeprecationWarning: an integer is required (got type float).  Implicit conversion to integers using __int__ is deprecated, and may be removed in a future version of Python.\n",
      "  \"y_features\": torch.as_tensor(a_rel_y, dtype=torch.int32),\n"
     ]
    },
    {
     "name": "stdout",
     "output_type": "stream",
     "text": [
      "Epoch 1:  13%|█▎        | 10/75 [11:03<1:11:55, 66.39s/it, v_num=1, train_ce_loss=2.380, train_acc=0.695, val_ce_loss=3.070, val_acc=0.646]"
     ]
    },
    {
     "name": "stderr",
     "output_type": "stream",
     "text": [
      "C:\\Users\\ivona\\AppData\\Local\\Temp\\ipykernel_25332\\1555465634.py:65: DeprecationWarning: an integer is required (got type float).  Implicit conversion to integers using __int__ is deprecated, and may be removed in a future version of Python.\n",
      "  \"x_features\": torch.as_tensor(a_rel_x, dtype=torch.int32),\n",
      "C:\\Users\\ivona\\AppData\\Local\\Temp\\ipykernel_25332\\1555465634.py:66: DeprecationWarning: an integer is required (got type float).  Implicit conversion to integers using __int__ is deprecated, and may be removed in a future version of Python.\n",
      "  \"y_features\": torch.as_tensor(a_rel_y, dtype=torch.int32),\n"
     ]
    },
    {
     "name": "stdout",
     "output_type": "stream",
     "text": [
      "Epoch 1:  15%|█▍        | 11/75 [12:03<1:10:10, 65.79s/it, v_num=1, train_ce_loss=2.230, train_acc=0.801, val_ce_loss=3.070, val_acc=0.646]"
     ]
    },
    {
     "name": "stderr",
     "output_type": "stream",
     "text": [
      "C:\\Users\\ivona\\AppData\\Local\\Temp\\ipykernel_25332\\1555465634.py:65: DeprecationWarning: an integer is required (got type float).  Implicit conversion to integers using __int__ is deprecated, and may be removed in a future version of Python.\n",
      "  \"x_features\": torch.as_tensor(a_rel_x, dtype=torch.int32),\n",
      "C:\\Users\\ivona\\AppData\\Local\\Temp\\ipykernel_25332\\1555465634.py:66: DeprecationWarning: an integer is required (got type float).  Implicit conversion to integers using __int__ is deprecated, and may be removed in a future version of Python.\n",
      "  \"y_features\": torch.as_tensor(a_rel_y, dtype=torch.int32),\n"
     ]
    },
    {
     "name": "stdout",
     "output_type": "stream",
     "text": [
      "Epoch 1:  16%|█▌        | 12/75 [13:15<1:09:38, 66.33s/it, v_num=1, train_ce_loss=2.190, train_acc=0.730, val_ce_loss=3.070, val_acc=0.646]"
     ]
    },
    {
     "name": "stderr",
     "output_type": "stream",
     "text": [
      "C:\\Users\\ivona\\AppData\\Local\\Temp\\ipykernel_25332\\1555465634.py:65: DeprecationWarning: an integer is required (got type float).  Implicit conversion to integers using __int__ is deprecated, and may be removed in a future version of Python.\n",
      "  \"x_features\": torch.as_tensor(a_rel_x, dtype=torch.int32),\n",
      "C:\\Users\\ivona\\AppData\\Local\\Temp\\ipykernel_25332\\1555465634.py:66: DeprecationWarning: an integer is required (got type float).  Implicit conversion to integers using __int__ is deprecated, and may be removed in a future version of Python.\n",
      "  \"y_features\": torch.as_tensor(a_rel_y, dtype=torch.int32),\n"
     ]
    },
    {
     "name": "stdout",
     "output_type": "stream",
     "text": [
      "Epoch 1:  17%|█▋        | 13/75 [14:16<1:08:03, 65.86s/it, v_num=1, train_ce_loss=1.430, train_acc=0.800, val_ce_loss=3.070, val_acc=0.646]"
     ]
    },
    {
     "name": "stderr",
     "output_type": "stream",
     "text": [
      "C:\\Users\\ivona\\AppData\\Local\\Temp\\ipykernel_25332\\1555465634.py:65: DeprecationWarning: an integer is required (got type float).  Implicit conversion to integers using __int__ is deprecated, and may be removed in a future version of Python.\n",
      "  \"x_features\": torch.as_tensor(a_rel_x, dtype=torch.int32),\n",
      "C:\\Users\\ivona\\AppData\\Local\\Temp\\ipykernel_25332\\1555465634.py:66: DeprecationWarning: an integer is required (got type float).  Implicit conversion to integers using __int__ is deprecated, and may be removed in a future version of Python.\n",
      "  \"y_features\": torch.as_tensor(a_rel_y, dtype=torch.int32),\n"
     ]
    },
    {
     "name": "stdout",
     "output_type": "stream",
     "text": [
      "Epoch 1:  19%|█▊        | 14/75 [15:16<1:06:35, 65.49s/it, v_num=1, train_ce_loss=1.490, train_acc=0.821, val_ce_loss=3.070, val_acc=0.646]"
     ]
    },
    {
     "name": "stderr",
     "output_type": "stream",
     "text": [
      "C:\\Users\\ivona\\AppData\\Local\\Temp\\ipykernel_25332\\1555465634.py:65: DeprecationWarning: an integer is required (got type float).  Implicit conversion to integers using __int__ is deprecated, and may be removed in a future version of Python.\n",
      "  \"x_features\": torch.as_tensor(a_rel_x, dtype=torch.int32),\n",
      "C:\\Users\\ivona\\AppData\\Local\\Temp\\ipykernel_25332\\1555465634.py:66: DeprecationWarning: an integer is required (got type float).  Implicit conversion to integers using __int__ is deprecated, and may be removed in a future version of Python.\n",
      "  \"y_features\": torch.as_tensor(a_rel_y, dtype=torch.int32),\n"
     ]
    },
    {
     "name": "stdout",
     "output_type": "stream",
     "text": [
      "Epoch 1:  20%|██        | 15/75 [16:17<1:05:10, 65.18s/it, v_num=1, train_ce_loss=1.650, train_acc=0.791, val_ce_loss=3.070, val_acc=0.646]"
     ]
    },
    {
     "name": "stderr",
     "output_type": "stream",
     "text": [
      "C:\\Users\\ivona\\AppData\\Local\\Temp\\ipykernel_25332\\1555465634.py:65: DeprecationWarning: an integer is required (got type float).  Implicit conversion to integers using __int__ is deprecated, and may be removed in a future version of Python.\n",
      "  \"x_features\": torch.as_tensor(a_rel_x, dtype=torch.int32),\n",
      "C:\\Users\\ivona\\AppData\\Local\\Temp\\ipykernel_25332\\1555465634.py:66: DeprecationWarning: an integer is required (got type float).  Implicit conversion to integers using __int__ is deprecated, and may be removed in a future version of Python.\n",
      "  \"y_features\": torch.as_tensor(a_rel_y, dtype=torch.int32),\n"
     ]
    },
    {
     "name": "stdout",
     "output_type": "stream",
     "text": [
      "Epoch 1:  21%|██▏       | 16/75 [17:25<1:04:14, 65.34s/it, v_num=1, train_ce_loss=3.360, train_acc=0.646, val_ce_loss=3.070, val_acc=0.646]"
     ]
    },
    {
     "name": "stderr",
     "output_type": "stream",
     "text": [
      "C:\\Users\\ivona\\AppData\\Local\\Temp\\ipykernel_25332\\1555465634.py:65: DeprecationWarning: an integer is required (got type float).  Implicit conversion to integers using __int__ is deprecated, and may be removed in a future version of Python.\n",
      "  \"x_features\": torch.as_tensor(a_rel_x, dtype=torch.int32),\n",
      "C:\\Users\\ivona\\AppData\\Local\\Temp\\ipykernel_25332\\1555465634.py:66: DeprecationWarning: an integer is required (got type float).  Implicit conversion to integers using __int__ is deprecated, and may be removed in a future version of Python.\n",
      "  \"y_features\": torch.as_tensor(a_rel_y, dtype=torch.int32),\n"
     ]
    },
    {
     "name": "stdout",
     "output_type": "stream",
     "text": [
      "Epoch 1:  23%|██▎       | 17/75 [18:38<1:03:35, 65.79s/it, v_num=1, train_ce_loss=2.190, train_acc=0.735, val_ce_loss=3.070, val_acc=0.646]"
     ]
    },
    {
     "name": "stderr",
     "output_type": "stream",
     "text": [
      "C:\\Users\\ivona\\AppData\\Local\\Temp\\ipykernel_25332\\1555465634.py:65: DeprecationWarning: an integer is required (got type float).  Implicit conversion to integers using __int__ is deprecated, and may be removed in a future version of Python.\n",
      "  \"x_features\": torch.as_tensor(a_rel_x, dtype=torch.int32),\n",
      "C:\\Users\\ivona\\AppData\\Local\\Temp\\ipykernel_25332\\1555465634.py:66: DeprecationWarning: an integer is required (got type float).  Implicit conversion to integers using __int__ is deprecated, and may be removed in a future version of Python.\n",
      "  \"y_features\": torch.as_tensor(a_rel_y, dtype=torch.int32),\n"
     ]
    },
    {
     "name": "stdout",
     "output_type": "stream",
     "text": [
      "Epoch 1:  24%|██▍       | 18/75 [20:10<1:03:53, 67.25s/it, v_num=1, train_ce_loss=1.290, train_acc=0.790, val_ce_loss=3.070, val_acc=0.646]"
     ]
    },
    {
     "name": "stderr",
     "output_type": "stream",
     "text": [
      "C:\\Users\\ivona\\AppData\\Local\\Temp\\ipykernel_25332\\1555465634.py:65: DeprecationWarning: an integer is required (got type float).  Implicit conversion to integers using __int__ is deprecated, and may be removed in a future version of Python.\n",
      "  \"x_features\": torch.as_tensor(a_rel_x, dtype=torch.int32),\n",
      "C:\\Users\\ivona\\AppData\\Local\\Temp\\ipykernel_25332\\1555465634.py:66: DeprecationWarning: an integer is required (got type float).  Implicit conversion to integers using __int__ is deprecated, and may be removed in a future version of Python.\n",
      "  \"y_features\": torch.as_tensor(a_rel_y, dtype=torch.int32),\n"
     ]
    },
    {
     "name": "stdout",
     "output_type": "stream",
     "text": [
      "Epoch 1:  25%|██▌       | 19/75 [21:04<1:02:05, 66.53s/it, v_num=1, train_ce_loss=2.030, train_acc=0.757, val_ce_loss=3.070, val_acc=0.646]"
     ]
    },
    {
     "name": "stderr",
     "output_type": "stream",
     "text": [
      "C:\\Users\\ivona\\AppData\\Local\\Temp\\ipykernel_25332\\1555465634.py:65: DeprecationWarning: an integer is required (got type float).  Implicit conversion to integers using __int__ is deprecated, and may be removed in a future version of Python.\n",
      "  \"x_features\": torch.as_tensor(a_rel_x, dtype=torch.int32),\n",
      "C:\\Users\\ivona\\AppData\\Local\\Temp\\ipykernel_25332\\1555465634.py:66: DeprecationWarning: an integer is required (got type float).  Implicit conversion to integers using __int__ is deprecated, and may be removed in a future version of Python.\n",
      "  \"y_features\": torch.as_tensor(a_rel_y, dtype=torch.int32),\n"
     ]
    },
    {
     "name": "stdout",
     "output_type": "stream",
     "text": [
      "Epoch 1:  27%|██▋       | 20/75 [22:10<1:01:00, 66.55s/it, v_num=1, train_ce_loss=2.750, train_acc=0.611, val_ce_loss=3.070, val_acc=0.646]"
     ]
    },
    {
     "name": "stderr",
     "output_type": "stream",
     "text": [
      "C:\\Users\\ivona\\AppData\\Local\\Temp\\ipykernel_25332\\1555465634.py:65: DeprecationWarning: an integer is required (got type float).  Implicit conversion to integers using __int__ is deprecated, and may be removed in a future version of Python.\n",
      "  \"x_features\": torch.as_tensor(a_rel_x, dtype=torch.int32),\n",
      "C:\\Users\\ivona\\AppData\\Local\\Temp\\ipykernel_25332\\1555465634.py:66: DeprecationWarning: an integer is required (got type float).  Implicit conversion to integers using __int__ is deprecated, and may be removed in a future version of Python.\n",
      "  \"y_features\": torch.as_tensor(a_rel_y, dtype=torch.int32),\n"
     ]
    },
    {
     "name": "stdout",
     "output_type": "stream",
     "text": [
      "Epoch 1:  28%|██▊       | 21/75 [23:11<59:37, 66.26s/it, v_num=1, train_ce_loss=3.380, train_acc=0.536, val_ce_loss=3.070, val_acc=0.646]  "
     ]
    },
    {
     "name": "stderr",
     "output_type": "stream",
     "text": [
      "C:\\Users\\ivona\\AppData\\Local\\Temp\\ipykernel_25332\\1555465634.py:65: DeprecationWarning: an integer is required (got type float).  Implicit conversion to integers using __int__ is deprecated, and may be removed in a future version of Python.\n",
      "  \"x_features\": torch.as_tensor(a_rel_x, dtype=torch.int32),\n",
      "C:\\Users\\ivona\\AppData\\Local\\Temp\\ipykernel_25332\\1555465634.py:66: DeprecationWarning: an integer is required (got type float).  Implicit conversion to integers using __int__ is deprecated, and may be removed in a future version of Python.\n",
      "  \"y_features\": torch.as_tensor(a_rel_y, dtype=torch.int32),\n"
     ]
    },
    {
     "name": "stdout",
     "output_type": "stream",
     "text": [
      "Epoch 1:  29%|██▉       | 22/75 [24:07<58:07, 65.80s/it, v_num=1, train_ce_loss=1.700, train_acc=0.795, val_ce_loss=3.070, val_acc=0.646]"
     ]
    },
    {
     "name": "stderr",
     "output_type": "stream",
     "text": [
      "C:\\Users\\ivona\\AppData\\Local\\Temp\\ipykernel_25332\\1555465634.py:65: DeprecationWarning: an integer is required (got type float).  Implicit conversion to integers using __int__ is deprecated, and may be removed in a future version of Python.\n",
      "  \"x_features\": torch.as_tensor(a_rel_x, dtype=torch.int32),\n",
      "C:\\Users\\ivona\\AppData\\Local\\Temp\\ipykernel_25332\\1555465634.py:66: DeprecationWarning: an integer is required (got type float).  Implicit conversion to integers using __int__ is deprecated, and may be removed in a future version of Python.\n",
      "  \"y_features\": torch.as_tensor(a_rel_y, dtype=torch.int32),\n"
     ]
    },
    {
     "name": "stdout",
     "output_type": "stream",
     "text": [
      "Epoch 1:  31%|███       | 23/75 [25:12<56:59, 65.77s/it, v_num=1, train_ce_loss=2.270, train_acc=0.781, val_ce_loss=3.070, val_acc=0.646]"
     ]
    },
    {
     "name": "stderr",
     "output_type": "stream",
     "text": [
      "C:\\Users\\ivona\\AppData\\Local\\Temp\\ipykernel_25332\\1555465634.py:65: DeprecationWarning: an integer is required (got type float).  Implicit conversion to integers using __int__ is deprecated, and may be removed in a future version of Python.\n",
      "  \"x_features\": torch.as_tensor(a_rel_x, dtype=torch.int32),\n",
      "C:\\Users\\ivona\\AppData\\Local\\Temp\\ipykernel_25332\\1555465634.py:66: DeprecationWarning: an integer is required (got type float).  Implicit conversion to integers using __int__ is deprecated, and may be removed in a future version of Python.\n",
      "  \"y_features\": torch.as_tensor(a_rel_y, dtype=torch.int32),\n"
     ]
    },
    {
     "name": "stdout",
     "output_type": "stream",
     "text": [
      "Epoch 1:  32%|███▏      | 24/75 [26:42<56:44, 66.75s/it, v_num=1, train_ce_loss=3.490, train_acc=0.664, val_ce_loss=3.070, val_acc=0.646]"
     ]
    },
    {
     "name": "stderr",
     "output_type": "stream",
     "text": [
      "C:\\Users\\ivona\\AppData\\Local\\Temp\\ipykernel_25332\\1555465634.py:65: DeprecationWarning: an integer is required (got type float).  Implicit conversion to integers using __int__ is deprecated, and may be removed in a future version of Python.\n",
      "  \"x_features\": torch.as_tensor(a_rel_x, dtype=torch.int32),\n",
      "C:\\Users\\ivona\\AppData\\Local\\Temp\\ipykernel_25332\\1555465634.py:66: DeprecationWarning: an integer is required (got type float).  Implicit conversion to integers using __int__ is deprecated, and may be removed in a future version of Python.\n",
      "  \"y_features\": torch.as_tensor(a_rel_y, dtype=torch.int32),\n"
     ]
    },
    {
     "name": "stdout",
     "output_type": "stream",
     "text": [
      "Epoch 1:  33%|███▎      | 25/75 [28:17<56:34, 67.89s/it, v_num=1, train_ce_loss=2.470, train_acc=0.817, val_ce_loss=3.070, val_acc=0.646]"
     ]
    },
    {
     "name": "stderr",
     "output_type": "stream",
     "text": [
      "C:\\Users\\ivona\\AppData\\Local\\Temp\\ipykernel_25332\\1555465634.py:65: DeprecationWarning: an integer is required (got type float).  Implicit conversion to integers using __int__ is deprecated, and may be removed in a future version of Python.\n",
      "  \"x_features\": torch.as_tensor(a_rel_x, dtype=torch.int32),\n",
      "C:\\Users\\ivona\\AppData\\Local\\Temp\\ipykernel_25332\\1555465634.py:66: DeprecationWarning: an integer is required (got type float).  Implicit conversion to integers using __int__ is deprecated, and may be removed in a future version of Python.\n",
      "  \"y_features\": torch.as_tensor(a_rel_y, dtype=torch.int32),\n"
     ]
    },
    {
     "name": "stdout",
     "output_type": "stream",
     "text": [
      "Epoch 1:  35%|███▍      | 26/75 [29:44<56:03, 68.65s/it, v_num=1, train_ce_loss=4.150, train_acc=0.619, val_ce_loss=3.070, val_acc=0.646]"
     ]
    },
    {
     "name": "stderr",
     "output_type": "stream",
     "text": [
      "C:\\Users\\ivona\\AppData\\Local\\Temp\\ipykernel_25332\\1555465634.py:65: DeprecationWarning: an integer is required (got type float).  Implicit conversion to integers using __int__ is deprecated, and may be removed in a future version of Python.\n",
      "  \"x_features\": torch.as_tensor(a_rel_x, dtype=torch.int32),\n",
      "C:\\Users\\ivona\\AppData\\Local\\Temp\\ipykernel_25332\\1555465634.py:66: DeprecationWarning: an integer is required (got type float).  Implicit conversion to integers using __int__ is deprecated, and may be removed in a future version of Python.\n",
      "  \"y_features\": torch.as_tensor(a_rel_y, dtype=torch.int32),\n"
     ]
    },
    {
     "name": "stdout",
     "output_type": "stream",
     "text": [
      "Epoch 1:  36%|███▌      | 27/75 [31:15<55:34, 69.47s/it, v_num=1, train_ce_loss=3.630, train_acc=0.594, val_ce_loss=3.070, val_acc=0.646]"
     ]
    },
    {
     "name": "stderr",
     "output_type": "stream",
     "text": [
      "C:\\Users\\ivona\\AppData\\Local\\Temp\\ipykernel_25332\\1555465634.py:65: DeprecationWarning: an integer is required (got type float).  Implicit conversion to integers using __int__ is deprecated, and may be removed in a future version of Python.\n",
      "  \"x_features\": torch.as_tensor(a_rel_x, dtype=torch.int32),\n",
      "C:\\Users\\ivona\\AppData\\Local\\Temp\\ipykernel_25332\\1555465634.py:66: DeprecationWarning: an integer is required (got type float).  Implicit conversion to integers using __int__ is deprecated, and may be removed in a future version of Python.\n",
      "  \"y_features\": torch.as_tensor(a_rel_y, dtype=torch.int32),\n"
     ]
    },
    {
     "name": "stdout",
     "output_type": "stream",
     "text": [
      "Epoch 1:  37%|███▋      | 28/75 [32:44<54:57, 70.17s/it, v_num=1, train_ce_loss=2.480, train_acc=0.671, val_ce_loss=3.070, val_acc=0.646]"
     ]
    },
    {
     "name": "stderr",
     "output_type": "stream",
     "text": [
      "C:\\Users\\ivona\\AppData\\Local\\Temp\\ipykernel_25332\\1555465634.py:65: DeprecationWarning: an integer is required (got type float).  Implicit conversion to integers using __int__ is deprecated, and may be removed in a future version of Python.\n",
      "  \"x_features\": torch.as_tensor(a_rel_x, dtype=torch.int32),\n",
      "C:\\Users\\ivona\\AppData\\Local\\Temp\\ipykernel_25332\\1555465634.py:66: DeprecationWarning: an integer is required (got type float).  Implicit conversion to integers using __int__ is deprecated, and may be removed in a future version of Python.\n",
      "  \"y_features\": torch.as_tensor(a_rel_y, dtype=torch.int32),\n"
     ]
    },
    {
     "name": "stdout",
     "output_type": "stream",
     "text": [
      "Epoch 1:  39%|███▊      | 29/75 [34:18<54:24, 70.97s/it, v_num=1, train_ce_loss=3.510, train_acc=0.628, val_ce_loss=3.070, val_acc=0.646]"
     ]
    },
    {
     "name": "stderr",
     "output_type": "stream",
     "text": [
      "C:\\Users\\ivona\\AppData\\Local\\Temp\\ipykernel_25332\\1555465634.py:65: DeprecationWarning: an integer is required (got type float).  Implicit conversion to integers using __int__ is deprecated, and may be removed in a future version of Python.\n",
      "  \"x_features\": torch.as_tensor(a_rel_x, dtype=torch.int32),\n",
      "C:\\Users\\ivona\\AppData\\Local\\Temp\\ipykernel_25332\\1555465634.py:66: DeprecationWarning: an integer is required (got type float).  Implicit conversion to integers using __int__ is deprecated, and may be removed in a future version of Python.\n",
      "  \"y_features\": torch.as_tensor(a_rel_y, dtype=torch.int32),\n"
     ]
    },
    {
     "name": "stdout",
     "output_type": "stream",
     "text": [
      "Epoch 1:  40%|████      | 30/75 [35:48<53:42, 71.62s/it, v_num=1, train_ce_loss=2.730, train_acc=0.697, val_ce_loss=3.070, val_acc=0.646]"
     ]
    },
    {
     "name": "stderr",
     "output_type": "stream",
     "text": [
      "C:\\Users\\ivona\\AppData\\Local\\Temp\\ipykernel_25332\\1555465634.py:65: DeprecationWarning: an integer is required (got type float).  Implicit conversion to integers using __int__ is deprecated, and may be removed in a future version of Python.\n",
      "  \"x_features\": torch.as_tensor(a_rel_x, dtype=torch.int32),\n",
      "C:\\Users\\ivona\\AppData\\Local\\Temp\\ipykernel_25332\\1555465634.py:66: DeprecationWarning: an integer is required (got type float).  Implicit conversion to integers using __int__ is deprecated, and may be removed in a future version of Python.\n",
      "  \"y_features\": torch.as_tensor(a_rel_y, dtype=torch.int32),\n"
     ]
    },
    {
     "name": "stdout",
     "output_type": "stream",
     "text": [
      "Epoch 1:  41%|████▏     | 31/75 [37:26<53:08, 72.47s/it, v_num=1, train_ce_loss=3.440, train_acc=0.605, val_ce_loss=3.070, val_acc=0.646]"
     ]
    },
    {
     "name": "stderr",
     "output_type": "stream",
     "text": [
      "C:\\Users\\ivona\\AppData\\Local\\Temp\\ipykernel_25332\\1555465634.py:65: DeprecationWarning: an integer is required (got type float).  Implicit conversion to integers using __int__ is deprecated, and may be removed in a future version of Python.\n",
      "  \"x_features\": torch.as_tensor(a_rel_x, dtype=torch.int32),\n",
      "C:\\Users\\ivona\\AppData\\Local\\Temp\\ipykernel_25332\\1555465634.py:66: DeprecationWarning: an integer is required (got type float).  Implicit conversion to integers using __int__ is deprecated, and may be removed in a future version of Python.\n",
      "  \"y_features\": torch.as_tensor(a_rel_y, dtype=torch.int32),\n"
     ]
    },
    {
     "name": "stdout",
     "output_type": "stream",
     "text": [
      "Epoch 1:  43%|████▎     | 32/75 [39:06<52:32, 73.32s/it, v_num=1, train_ce_loss=1.610, train_acc=0.816, val_ce_loss=3.070, val_acc=0.646]"
     ]
    },
    {
     "name": "stderr",
     "output_type": "stream",
     "text": [
      "C:\\Users\\ivona\\AppData\\Local\\Temp\\ipykernel_25332\\1555465634.py:65: DeprecationWarning: an integer is required (got type float).  Implicit conversion to integers using __int__ is deprecated, and may be removed in a future version of Python.\n",
      "  \"x_features\": torch.as_tensor(a_rel_x, dtype=torch.int32),\n",
      "C:\\Users\\ivona\\AppData\\Local\\Temp\\ipykernel_25332\\1555465634.py:66: DeprecationWarning: an integer is required (got type float).  Implicit conversion to integers using __int__ is deprecated, and may be removed in a future version of Python.\n",
      "  \"y_features\": torch.as_tensor(a_rel_y, dtype=torch.int32),\n"
     ]
    },
    {
     "name": "stdout",
     "output_type": "stream",
     "text": [
      "Epoch 1:  44%|████▍     | 33/75 [40:38<51:43, 73.89s/it, v_num=1, train_ce_loss=1.330, train_acc=0.847, val_ce_loss=3.070, val_acc=0.646]"
     ]
    },
    {
     "name": "stderr",
     "output_type": "stream",
     "text": [
      "C:\\Users\\ivona\\AppData\\Local\\Temp\\ipykernel_25332\\1555465634.py:65: DeprecationWarning: an integer is required (got type float).  Implicit conversion to integers using __int__ is deprecated, and may be removed in a future version of Python.\n",
      "  \"x_features\": torch.as_tensor(a_rel_x, dtype=torch.int32),\n",
      "C:\\Users\\ivona\\AppData\\Local\\Temp\\ipykernel_25332\\1555465634.py:66: DeprecationWarning: an integer is required (got type float).  Implicit conversion to integers using __int__ is deprecated, and may be removed in a future version of Python.\n",
      "  \"y_features\": torch.as_tensor(a_rel_y, dtype=torch.int32),\n"
     ]
    },
    {
     "name": "stdout",
     "output_type": "stream",
     "text": [
      "Epoch 1:  45%|████▌     | 34/75 [42:07<50:47, 74.33s/it, v_num=1, train_ce_loss=4.530, train_acc=0.607, val_ce_loss=3.070, val_acc=0.646]"
     ]
    },
    {
     "name": "stderr",
     "output_type": "stream",
     "text": [
      "C:\\Users\\ivona\\AppData\\Local\\Temp\\ipykernel_25332\\1555465634.py:65: DeprecationWarning: an integer is required (got type float).  Implicit conversion to integers using __int__ is deprecated, and may be removed in a future version of Python.\n",
      "  \"x_features\": torch.as_tensor(a_rel_x, dtype=torch.int32),\n",
      "C:\\Users\\ivona\\AppData\\Local\\Temp\\ipykernel_25332\\1555465634.py:66: DeprecationWarning: an integer is required (got type float).  Implicit conversion to integers using __int__ is deprecated, and may be removed in a future version of Python.\n",
      "  \"y_features\": torch.as_tensor(a_rel_y, dtype=torch.int32),\n"
     ]
    },
    {
     "name": "stdout",
     "output_type": "stream",
     "text": [
      "Epoch 1:  47%|████▋     | 35/75 [43:40<49:55, 74.88s/it, v_num=1, train_ce_loss=1.520, train_acc=0.813, val_ce_loss=3.070, val_acc=0.646]"
     ]
    },
    {
     "name": "stderr",
     "output_type": "stream",
     "text": [
      "C:\\Users\\ivona\\AppData\\Local\\Temp\\ipykernel_25332\\1555465634.py:65: DeprecationWarning: an integer is required (got type float).  Implicit conversion to integers using __int__ is deprecated, and may be removed in a future version of Python.\n",
      "  \"x_features\": torch.as_tensor(a_rel_x, dtype=torch.int32),\n",
      "C:\\Users\\ivona\\AppData\\Local\\Temp\\ipykernel_25332\\1555465634.py:66: DeprecationWarning: an integer is required (got type float).  Implicit conversion to integers using __int__ is deprecated, and may be removed in a future version of Python.\n",
      "  \"y_features\": torch.as_tensor(a_rel_y, dtype=torch.int32),\n"
     ]
    },
    {
     "name": "stdout",
     "output_type": "stream",
     "text": [
      "Epoch 1:  48%|████▊     | 36/75 [45:33<49:20, 75.92s/it, v_num=1, train_ce_loss=4.930, train_acc=0.538, val_ce_loss=3.070, val_acc=0.646]"
     ]
    },
    {
     "name": "stderr",
     "output_type": "stream",
     "text": [
      "C:\\Users\\ivona\\AppData\\Local\\Temp\\ipykernel_25332\\1555465634.py:65: DeprecationWarning: an integer is required (got type float).  Implicit conversion to integers using __int__ is deprecated, and may be removed in a future version of Python.\n",
      "  \"x_features\": torch.as_tensor(a_rel_x, dtype=torch.int32),\n",
      "C:\\Users\\ivona\\AppData\\Local\\Temp\\ipykernel_25332\\1555465634.py:66: DeprecationWarning: an integer is required (got type float).  Implicit conversion to integers using __int__ is deprecated, and may be removed in a future version of Python.\n",
      "  \"y_features\": torch.as_tensor(a_rel_y, dtype=torch.int32),\n"
     ]
    },
    {
     "name": "stdout",
     "output_type": "stream",
     "text": [
      "Epoch 1:  49%|████▉     | 37/75 [47:09<48:25, 76.46s/it, v_num=1, train_ce_loss=3.130, train_acc=0.646, val_ce_loss=3.070, val_acc=0.646]"
     ]
    },
    {
     "name": "stderr",
     "output_type": "stream",
     "text": [
      "C:\\Users\\ivona\\AppData\\Local\\Temp\\ipykernel_25332\\1555465634.py:65: DeprecationWarning: an integer is required (got type float).  Implicit conversion to integers using __int__ is deprecated, and may be removed in a future version of Python.\n",
      "  \"x_features\": torch.as_tensor(a_rel_x, dtype=torch.int32),\n",
      "C:\\Users\\ivona\\AppData\\Local\\Temp\\ipykernel_25332\\1555465634.py:66: DeprecationWarning: an integer is required (got type float).  Implicit conversion to integers using __int__ is deprecated, and may be removed in a future version of Python.\n",
      "  \"y_features\": torch.as_tensor(a_rel_y, dtype=torch.int32),\n"
     ]
    },
    {
     "name": "stdout",
     "output_type": "stream",
     "text": [
      "Epoch 1:  51%|█████     | 38/75 [48:03<46:47, 75.89s/it, v_num=1, train_ce_loss=2.200, train_acc=0.774, val_ce_loss=3.070, val_acc=0.646]"
     ]
    },
    {
     "name": "stderr",
     "output_type": "stream",
     "text": [
      "C:\\Users\\ivona\\AppData\\Local\\Temp\\ipykernel_25332\\1555465634.py:65: DeprecationWarning: an integer is required (got type float).  Implicit conversion to integers using __int__ is deprecated, and may be removed in a future version of Python.\n",
      "  \"x_features\": torch.as_tensor(a_rel_x, dtype=torch.int32),\n",
      "C:\\Users\\ivona\\AppData\\Local\\Temp\\ipykernel_25332\\1555465634.py:66: DeprecationWarning: an integer is required (got type float).  Implicit conversion to integers using __int__ is deprecated, and may be removed in a future version of Python.\n",
      "  \"y_features\": torch.as_tensor(a_rel_y, dtype=torch.int32),\n"
     ]
    },
    {
     "name": "stdout",
     "output_type": "stream",
     "text": [
      "Epoch 1:  52%|█████▏    | 39/75 [49:09<45:22, 75.63s/it, v_num=1, train_ce_loss=0.888, train_acc=0.877, val_ce_loss=3.070, val_acc=0.646]"
     ]
    },
    {
     "name": "stderr",
     "output_type": "stream",
     "text": [
      "C:\\Users\\ivona\\AppData\\Local\\Temp\\ipykernel_25332\\1555465634.py:65: DeprecationWarning: an integer is required (got type float).  Implicit conversion to integers using __int__ is deprecated, and may be removed in a future version of Python.\n",
      "  \"x_features\": torch.as_tensor(a_rel_x, dtype=torch.int32),\n",
      "C:\\Users\\ivona\\AppData\\Local\\Temp\\ipykernel_25332\\1555465634.py:66: DeprecationWarning: an integer is required (got type float).  Implicit conversion to integers using __int__ is deprecated, and may be removed in a future version of Python.\n",
      "  \"y_features\": torch.as_tensor(a_rel_y, dtype=torch.int32),\n"
     ]
    },
    {
     "name": "stdout",
     "output_type": "stream",
     "text": [
      "Epoch 1:  53%|█████▎    | 40/75 [50:13<43:57, 75.35s/it, v_num=1, train_ce_loss=4.830, train_acc=0.590, val_ce_loss=3.070, val_acc=0.646]"
     ]
    },
    {
     "name": "stderr",
     "output_type": "stream",
     "text": [
      "C:\\Users\\ivona\\AppData\\Local\\Temp\\ipykernel_25332\\1555465634.py:65: DeprecationWarning: an integer is required (got type float).  Implicit conversion to integers using __int__ is deprecated, and may be removed in a future version of Python.\n",
      "  \"x_features\": torch.as_tensor(a_rel_x, dtype=torch.int32),\n",
      "C:\\Users\\ivona\\AppData\\Local\\Temp\\ipykernel_25332\\1555465634.py:66: DeprecationWarning: an integer is required (got type float).  Implicit conversion to integers using __int__ is deprecated, and may be removed in a future version of Python.\n",
      "  \"y_features\": torch.as_tensor(a_rel_y, dtype=torch.int32),\n"
     ]
    },
    {
     "name": "stdout",
     "output_type": "stream",
     "text": [
      "Epoch 1:  55%|█████▍    | 41/75 [51:16<42:31, 75.04s/it, v_num=1, train_ce_loss=1.650, train_acc=0.801, val_ce_loss=3.070, val_acc=0.646]"
     ]
    },
    {
     "name": "stderr",
     "output_type": "stream",
     "text": [
      "C:\\Users\\ivona\\AppData\\Local\\Temp\\ipykernel_25332\\1555465634.py:65: DeprecationWarning: an integer is required (got type float).  Implicit conversion to integers using __int__ is deprecated, and may be removed in a future version of Python.\n",
      "  \"x_features\": torch.as_tensor(a_rel_x, dtype=torch.int32),\n",
      "C:\\Users\\ivona\\AppData\\Local\\Temp\\ipykernel_25332\\1555465634.py:66: DeprecationWarning: an integer is required (got type float).  Implicit conversion to integers using __int__ is deprecated, and may be removed in a future version of Python.\n",
      "  \"y_features\": torch.as_tensor(a_rel_y, dtype=torch.int32),\n"
     ]
    },
    {
     "name": "stdout",
     "output_type": "stream",
     "text": [
      "Epoch 1:  56%|█████▌    | 42/75 [51:56<40:48, 74.20s/it, v_num=1, train_ce_loss=3.060, train_acc=0.651, val_ce_loss=3.070, val_acc=0.646]"
     ]
    },
    {
     "name": "stderr",
     "output_type": "stream",
     "text": [
      "C:\\Users\\ivona\\AppData\\Local\\Temp\\ipykernel_25332\\1555465634.py:65: DeprecationWarning: an integer is required (got type float).  Implicit conversion to integers using __int__ is deprecated, and may be removed in a future version of Python.\n",
      "  \"x_features\": torch.as_tensor(a_rel_x, dtype=torch.int32),\n",
      "C:\\Users\\ivona\\AppData\\Local\\Temp\\ipykernel_25332\\1555465634.py:66: DeprecationWarning: an integer is required (got type float).  Implicit conversion to integers using __int__ is deprecated, and may be removed in a future version of Python.\n",
      "  \"y_features\": torch.as_tensor(a_rel_y, dtype=torch.int32),\n"
     ]
    },
    {
     "name": "stdout",
     "output_type": "stream",
     "text": [
      "Epoch 1:  57%|█████▋    | 43/75 [52:56<39:24, 73.88s/it, v_num=1, train_ce_loss=2.210, train_acc=0.755, val_ce_loss=3.070, val_acc=0.646]"
     ]
    },
    {
     "name": "stderr",
     "output_type": "stream",
     "text": [
      "C:\\Users\\ivona\\AppData\\Local\\Temp\\ipykernel_25332\\1555465634.py:65: DeprecationWarning: an integer is required (got type float).  Implicit conversion to integers using __int__ is deprecated, and may be removed in a future version of Python.\n",
      "  \"x_features\": torch.as_tensor(a_rel_x, dtype=torch.int32),\n",
      "C:\\Users\\ivona\\AppData\\Local\\Temp\\ipykernel_25332\\1555465634.py:66: DeprecationWarning: an integer is required (got type float).  Implicit conversion to integers using __int__ is deprecated, and may be removed in a future version of Python.\n",
      "  \"y_features\": torch.as_tensor(a_rel_y, dtype=torch.int32),\n"
     ]
    },
    {
     "name": "stdout",
     "output_type": "stream",
     "text": [
      "Epoch 1:  59%|█████▊    | 44/75 [53:56<38:00, 73.57s/it, v_num=1, train_ce_loss=1.360, train_acc=0.836, val_ce_loss=3.070, val_acc=0.646]"
     ]
    },
    {
     "name": "stderr",
     "output_type": "stream",
     "text": [
      "C:\\Users\\ivona\\AppData\\Local\\Temp\\ipykernel_25332\\1555465634.py:65: DeprecationWarning: an integer is required (got type float).  Implicit conversion to integers using __int__ is deprecated, and may be removed in a future version of Python.\n",
      "  \"x_features\": torch.as_tensor(a_rel_x, dtype=torch.int32),\n",
      "C:\\Users\\ivona\\AppData\\Local\\Temp\\ipykernel_25332\\1555465634.py:66: DeprecationWarning: an integer is required (got type float).  Implicit conversion to integers using __int__ is deprecated, and may be removed in a future version of Python.\n",
      "  \"y_features\": torch.as_tensor(a_rel_y, dtype=torch.int32),\n"
     ]
    },
    {
     "name": "stdout",
     "output_type": "stream",
     "text": [
      "Epoch 1:  60%|██████    | 45/75 [54:56<36:37, 73.27s/it, v_num=1, train_ce_loss=4.120, train_acc=0.538, val_ce_loss=3.070, val_acc=0.646]"
     ]
    },
    {
     "name": "stderr",
     "output_type": "stream",
     "text": [
      "C:\\Users\\ivona\\AppData\\Local\\Temp\\ipykernel_25332\\1555465634.py:65: DeprecationWarning: an integer is required (got type float).  Implicit conversion to integers using __int__ is deprecated, and may be removed in a future version of Python.\n",
      "  \"x_features\": torch.as_tensor(a_rel_x, dtype=torch.int32),\n",
      "C:\\Users\\ivona\\AppData\\Local\\Temp\\ipykernel_25332\\1555465634.py:66: DeprecationWarning: an integer is required (got type float).  Implicit conversion to integers using __int__ is deprecated, and may be removed in a future version of Python.\n",
      "  \"y_features\": torch.as_tensor(a_rel_y, dtype=torch.int32),\n"
     ]
    },
    {
     "name": "stdout",
     "output_type": "stream",
     "text": [
      "Epoch 1:  61%|██████▏   | 46/75 [55:58<35:17, 73.00s/it, v_num=1, train_ce_loss=2.300, train_acc=0.711, val_ce_loss=3.070, val_acc=0.646]"
     ]
    },
    {
     "name": "stderr",
     "output_type": "stream",
     "text": [
      "C:\\Users\\ivona\\AppData\\Local\\Temp\\ipykernel_25332\\1555465634.py:65: DeprecationWarning: an integer is required (got type float).  Implicit conversion to integers using __int__ is deprecated, and may be removed in a future version of Python.\n",
      "  \"x_features\": torch.as_tensor(a_rel_x, dtype=torch.int32),\n",
      "C:\\Users\\ivona\\AppData\\Local\\Temp\\ipykernel_25332\\1555465634.py:66: DeprecationWarning: an integer is required (got type float).  Implicit conversion to integers using __int__ is deprecated, and may be removed in a future version of Python.\n",
      "  \"y_features\": torch.as_tensor(a_rel_y, dtype=torch.int32),\n"
     ]
    },
    {
     "name": "stdout",
     "output_type": "stream",
     "text": [
      "Epoch 1:  63%|██████▎   | 47/75 [56:57<33:55, 72.71s/it, v_num=1, train_ce_loss=2.320, train_acc=0.708, val_ce_loss=3.070, val_acc=0.646]"
     ]
    },
    {
     "name": "stderr",
     "output_type": "stream",
     "text": [
      "C:\\Users\\ivona\\AppData\\Local\\Temp\\ipykernel_25332\\1555465634.py:65: DeprecationWarning: an integer is required (got type float).  Implicit conversion to integers using __int__ is deprecated, and may be removed in a future version of Python.\n",
      "  \"x_features\": torch.as_tensor(a_rel_x, dtype=torch.int32),\n",
      "C:\\Users\\ivona\\AppData\\Local\\Temp\\ipykernel_25332\\1555465634.py:66: DeprecationWarning: an integer is required (got type float).  Implicit conversion to integers using __int__ is deprecated, and may be removed in a future version of Python.\n",
      "  \"y_features\": torch.as_tensor(a_rel_y, dtype=torch.int32),\n"
     ]
    },
    {
     "name": "stdout",
     "output_type": "stream",
     "text": [
      "Epoch 1:  64%|██████▍   | 48/75 [57:56<32:35, 72.42s/it, v_num=1, train_ce_loss=2.170, train_acc=0.732, val_ce_loss=3.070, val_acc=0.646]"
     ]
    },
    {
     "name": "stderr",
     "output_type": "stream",
     "text": [
      "C:\\Users\\ivona\\AppData\\Local\\Temp\\ipykernel_25332\\1555465634.py:65: DeprecationWarning: an integer is required (got type float).  Implicit conversion to integers using __int__ is deprecated, and may be removed in a future version of Python.\n",
      "  \"x_features\": torch.as_tensor(a_rel_x, dtype=torch.int32),\n",
      "C:\\Users\\ivona\\AppData\\Local\\Temp\\ipykernel_25332\\1555465634.py:66: DeprecationWarning: an integer is required (got type float).  Implicit conversion to integers using __int__ is deprecated, and may be removed in a future version of Python.\n",
      "  \"y_features\": torch.as_tensor(a_rel_y, dtype=torch.int32),\n"
     ]
    },
    {
     "name": "stdout",
     "output_type": "stream",
     "text": [
      "Epoch 1:  65%|██████▌   | 49/75 [58:56<31:16, 72.17s/it, v_num=1, train_ce_loss=3.110, train_acc=0.719, val_ce_loss=3.070, val_acc=0.646]"
     ]
    },
    {
     "name": "stderr",
     "output_type": "stream",
     "text": [
      "C:\\Users\\ivona\\AppData\\Local\\Temp\\ipykernel_25332\\1555465634.py:65: DeprecationWarning: an integer is required (got type float).  Implicit conversion to integers using __int__ is deprecated, and may be removed in a future version of Python.\n",
      "  \"x_features\": torch.as_tensor(a_rel_x, dtype=torch.int32),\n",
      "C:\\Users\\ivona\\AppData\\Local\\Temp\\ipykernel_25332\\1555465634.py:66: DeprecationWarning: an integer is required (got type float).  Implicit conversion to integers using __int__ is deprecated, and may be removed in a future version of Python.\n",
      "  \"y_features\": torch.as_tensor(a_rel_y, dtype=torch.int32),\n"
     ]
    },
    {
     "name": "stdout",
     "output_type": "stream",
     "text": [
      "Epoch 1:  67%|██████▋   | 50/75 [59:55<29:57, 71.92s/it, v_num=1, train_ce_loss=2.330, train_acc=0.748, val_ce_loss=3.070, val_acc=0.646]"
     ]
    },
    {
     "name": "stderr",
     "output_type": "stream",
     "text": [
      "C:\\Users\\ivona\\AppData\\Local\\Temp\\ipykernel_25332\\1555465634.py:65: DeprecationWarning: an integer is required (got type float).  Implicit conversion to integers using __int__ is deprecated, and may be removed in a future version of Python.\n",
      "  \"x_features\": torch.as_tensor(a_rel_x, dtype=torch.int32),\n",
      "C:\\Users\\ivona\\AppData\\Local\\Temp\\ipykernel_25332\\1555465634.py:66: DeprecationWarning: an integer is required (got type float).  Implicit conversion to integers using __int__ is deprecated, and may be removed in a future version of Python.\n",
      "  \"y_features\": torch.as_tensor(a_rel_y, dtype=torch.int32),\n"
     ]
    },
    {
     "name": "stdout",
     "output_type": "stream",
     "text": [
      "Epoch 1:  68%|██████▊   | 51/75 [1:00:56<28:40, 71.69s/it, v_num=1, train_ce_loss=2.760, train_acc=0.687, val_ce_loss=3.070, val_acc=0.646]"
     ]
    },
    {
     "name": "stderr",
     "output_type": "stream",
     "text": [
      "C:\\Users\\ivona\\AppData\\Local\\Temp\\ipykernel_25332\\1555465634.py:65: DeprecationWarning: an integer is required (got type float).  Implicit conversion to integers using __int__ is deprecated, and may be removed in a future version of Python.\n",
      "  \"x_features\": torch.as_tensor(a_rel_x, dtype=torch.int32),\n",
      "C:\\Users\\ivona\\AppData\\Local\\Temp\\ipykernel_25332\\1555465634.py:66: DeprecationWarning: an integer is required (got type float).  Implicit conversion to integers using __int__ is deprecated, and may be removed in a future version of Python.\n",
      "  \"y_features\": torch.as_tensor(a_rel_y, dtype=torch.int32),\n"
     ]
    },
    {
     "name": "stdout",
     "output_type": "stream",
     "text": [
      "Epoch 1:  69%|██████▉   | 52/75 [1:01:55<27:23, 71.45s/it, v_num=1, train_ce_loss=2.290, train_acc=0.722, val_ce_loss=3.070, val_acc=0.646]"
     ]
    },
    {
     "name": "stderr",
     "output_type": "stream",
     "text": [
      "C:\\Users\\ivona\\AppData\\Local\\Temp\\ipykernel_25332\\1555465634.py:65: DeprecationWarning: an integer is required (got type float).  Implicit conversion to integers using __int__ is deprecated, and may be removed in a future version of Python.\n",
      "  \"x_features\": torch.as_tensor(a_rel_x, dtype=torch.int32),\n",
      "C:\\Users\\ivona\\AppData\\Local\\Temp\\ipykernel_25332\\1555465634.py:66: DeprecationWarning: an integer is required (got type float).  Implicit conversion to integers using __int__ is deprecated, and may be removed in a future version of Python.\n",
      "  \"y_features\": torch.as_tensor(a_rel_y, dtype=torch.int32),\n"
     ]
    },
    {
     "name": "stdout",
     "output_type": "stream",
     "text": [
      "Epoch 1:  71%|███████   | 53/75 [1:02:55<26:07, 71.23s/it, v_num=1, train_ce_loss=0.911, train_acc=0.841, val_ce_loss=3.070, val_acc=0.646]"
     ]
    },
    {
     "name": "stderr",
     "output_type": "stream",
     "text": [
      "C:\\Users\\ivona\\AppData\\Local\\Temp\\ipykernel_25332\\1555465634.py:65: DeprecationWarning: an integer is required (got type float).  Implicit conversion to integers using __int__ is deprecated, and may be removed in a future version of Python.\n",
      "  \"x_features\": torch.as_tensor(a_rel_x, dtype=torch.int32),\n",
      "C:\\Users\\ivona\\AppData\\Local\\Temp\\ipykernel_25332\\1555465634.py:66: DeprecationWarning: an integer is required (got type float).  Implicit conversion to integers using __int__ is deprecated, and may be removed in a future version of Python.\n",
      "  \"y_features\": torch.as_tensor(a_rel_y, dtype=torch.int32),\n"
     ]
    },
    {
     "name": "stdout",
     "output_type": "stream",
     "text": [
      "Epoch 1:  72%|███████▏  | 54/75 [1:03:55<24:51, 71.03s/it, v_num=1, train_ce_loss=1.620, train_acc=0.817, val_ce_loss=3.070, val_acc=0.646]"
     ]
    },
    {
     "name": "stderr",
     "output_type": "stream",
     "text": [
      "C:\\Users\\ivona\\AppData\\Local\\Temp\\ipykernel_25332\\1555465634.py:65: DeprecationWarning: an integer is required (got type float).  Implicit conversion to integers using __int__ is deprecated, and may be removed in a future version of Python.\n",
      "  \"x_features\": torch.as_tensor(a_rel_x, dtype=torch.int32),\n",
      "C:\\Users\\ivona\\AppData\\Local\\Temp\\ipykernel_25332\\1555465634.py:66: DeprecationWarning: an integer is required (got type float).  Implicit conversion to integers using __int__ is deprecated, and may be removed in a future version of Python.\n",
      "  \"y_features\": torch.as_tensor(a_rel_y, dtype=torch.int32),\n"
     ]
    },
    {
     "name": "stdout",
     "output_type": "stream",
     "text": [
      "Epoch 1:  73%|███████▎  | 55/75 [1:04:58<23:37, 70.88s/it, v_num=1, train_ce_loss=1.980, train_acc=0.733, val_ce_loss=3.070, val_acc=0.646]"
     ]
    },
    {
     "name": "stderr",
     "output_type": "stream",
     "text": [
      "C:\\Users\\ivona\\AppData\\Local\\Temp\\ipykernel_25332\\1555465634.py:65: DeprecationWarning: an integer is required (got type float).  Implicit conversion to integers using __int__ is deprecated, and may be removed in a future version of Python.\n",
      "  \"x_features\": torch.as_tensor(a_rel_x, dtype=torch.int32),\n",
      "C:\\Users\\ivona\\AppData\\Local\\Temp\\ipykernel_25332\\1555465634.py:66: DeprecationWarning: an integer is required (got type float).  Implicit conversion to integers using __int__ is deprecated, and may be removed in a future version of Python.\n",
      "  \"y_features\": torch.as_tensor(a_rel_y, dtype=torch.int32),\n"
     ]
    },
    {
     "name": "stdout",
     "output_type": "stream",
     "text": [
      "Epoch 1:  75%|███████▍  | 56/75 [1:05:57<22:22, 70.67s/it, v_num=1, train_ce_loss=1.690, train_acc=0.771, val_ce_loss=3.070, val_acc=0.646]"
     ]
    },
    {
     "name": "stderr",
     "output_type": "stream",
     "text": [
      "C:\\Users\\ivona\\AppData\\Local\\Temp\\ipykernel_25332\\1555465634.py:65: DeprecationWarning: an integer is required (got type float).  Implicit conversion to integers using __int__ is deprecated, and may be removed in a future version of Python.\n",
      "  \"x_features\": torch.as_tensor(a_rel_x, dtype=torch.int32),\n",
      "C:\\Users\\ivona\\AppData\\Local\\Temp\\ipykernel_25332\\1555465634.py:66: DeprecationWarning: an integer is required (got type float).  Implicit conversion to integers using __int__ is deprecated, and may be removed in a future version of Python.\n",
      "  \"y_features\": torch.as_tensor(a_rel_y, dtype=torch.int32),\n"
     ]
    },
    {
     "name": "stdout",
     "output_type": "stream",
     "text": [
      "Epoch 1:  76%|███████▌  | 57/75 [1:06:49<21:06, 70.35s/it, v_num=1, train_ce_loss=2.350, train_acc=0.711, val_ce_loss=3.070, val_acc=0.646]"
     ]
    },
    {
     "name": "stderr",
     "output_type": "stream",
     "text": [
      "C:\\Users\\ivona\\AppData\\Local\\Temp\\ipykernel_25332\\1555465634.py:65: DeprecationWarning: an integer is required (got type float).  Implicit conversion to integers using __int__ is deprecated, and may be removed in a future version of Python.\n",
      "  \"x_features\": torch.as_tensor(a_rel_x, dtype=torch.int32),\n",
      "C:\\Users\\ivona\\AppData\\Local\\Temp\\ipykernel_25332\\1555465634.py:66: DeprecationWarning: an integer is required (got type float).  Implicit conversion to integers using __int__ is deprecated, and may be removed in a future version of Python.\n",
      "  \"y_features\": torch.as_tensor(a_rel_y, dtype=torch.int32),\n"
     ]
    }
   ]
  },
  {
   "cell_type": "code",
   "execution_count": null,
   "outputs": [],
   "source": [],
   "metadata": {
    "collapsed": false
   }
  }
 ]
}
